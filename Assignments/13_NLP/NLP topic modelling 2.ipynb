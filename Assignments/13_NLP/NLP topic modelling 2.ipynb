{
 "cells": [
  {
   "cell_type": "markdown",
   "metadata": {
    "id": "lneeK5QwfSz-"
   },
   "source": [
    "**NLP**:\n",
    "\n",
    "Natural language processing is the processing of languages used in the system that exists in the library of nltk where this is processed to cut, extract and transform to new data so that we get good insights into it. It uses only the languages that exist in the library because NLP-related things exist there itself so it cannot understand the things beyond what is present in it."
   ]
  },
  {
   "cell_type": "markdown",
   "metadata": {
    "id": "RY4uB-Zqetyf"
   },
   "source": [
    "**Problem statement:**\n",
    "\n",
    "Perform topic modelling and text summarization on the given text data hint use NLP-TM text file."
   ]
  },
  {
   "cell_type": "markdown",
   "metadata": {
    "id": "EdnfXGUhfBBf"
   },
   "source": [
    "Business Objectives: Perform Topic Modelling and summarization."
   ]
  },
  {
   "cell_type": "markdown",
   "metadata": {
    "id": "Vu4Uqep7JMWS"
   },
   "source": [
    "STEPS:\n",
    "\n",
    "Concatenate all the text you have in the source document as one solid block of text.\n",
    "\n",
    "We provide conditions that define a sentence such as looking for punctuation marks such as period (.), question mark (?), and an exclamation mark (!). Once we have this definition, we simply split the text document into sentences.\n",
    "\n",
    "Now that we have access to separate sentences, we find vector representations (word embeddings) of each of those sentences.\n",
    "\n",
    "Once we have the vector representation for our words, we have to extend the process to represent entire sentences as vectors.\n",
    "\n",
    "we have a matrix populated with the cosine similarities between the sentences.\n",
    "\n",
    "And at last we can convert this matrix into a graph wherein the nodes represent the sentences, and the edges represent the similarity between the sentences."
   ]
  },
  {
   "cell_type": "code",
   "execution_count": null,
   "metadata": {
    "id": "la61Ol0vbbIf"
   },
   "outputs": [],
   "source": [
    "\n",
    "# let us first import the libraries to perform text summarization\n",
    "import nltk\n",
    "nltk.download('stopwords')\n",
    "\n",
    "from collections import Counter\n",
    "from nltk.tokenize import sent_tokenize, word_tokenize\n",
    "from nltk.corpus import stopwords\n",
    "from string import punctuation\n",
    "from heapq import nlargest\n",
    "\n",
    "STOPWORDS = set(stopwords.words('english') + list(punctuation))\n",
    "MIN_WORD_PROP, MAX_WORD_PROP = 0.1, 0.9\n",
    "\n",
    "# now define a function to count frequnecies leaving the stopwords\n",
    "def compute_word_frequencies(word_sentences):\n",
    "    words = [word for sentence in word_sentences \n",
    "                     for word in sentence \n",
    "                         if word not in STOPWORDS]\n",
    "    counter = Counter(words)\n",
    "    limit = float(max(counter.values()))\n",
    "    word_frequencies = {word: freq/limit \n",
    "                                for word,freq in counter.items()}\n",
    "    # Drop words if too common or too uncommon\n",
    "    word_frequencies = {word: freq \n",
    "                            for word,freq in word_frequencies.items() \n",
    "                                if freq > MIN_WORD_PROP \n",
    "                                and freq < MAX_WORD_PROP}\n",
    "    return word_frequencies\n",
    "\n",
    "\n",
    "# defining a function to get scores of sentence\n",
    "def sentence_score(word_sentence, word_frequencies):\n",
    "    return sum([ word_frequencies.get(word,0) \n",
    "                    for word in word_sentence])\n",
    "\n",
    "    \n",
    "###\n",
    "def summarize(text:str, num_sentences=3):\n",
    "    \"\"\"\n",
    "    Summarize the text, by return the most relevant sentences\n",
    "     :text the text to summarize\n",
    "     :num_sentences the number of sentences to return\n",
    "    \"\"\"\"\n",
    "    \n",
    "    text = text.lower() # Make the text lowercase\n",
    "    \n",
    "    sentences = sent_tokenize(text) # Break text into sentences \n",
    "    \n",
    "    # Break sentences into words\n",
    "    word_sentences = [word_tokenize(sentence) for sentence in sentences]\n",
    "    \n",
    "    # Compute the word frequencies\n",
    "    word_frequencies = compute_word_frequencies(word_sentences)\n",
    "    \n",
    "    # Calculate the scores for each of the sentences\n",
    "    scores = [sentence_score(word_sentence, word_frequencies) for word_sentence in word_sentences]\n",
    "    sentence_scores = list(zip(sentences, scores))\n",
    "    \n",
    "    # Rank the sentences\n",
    "    top_sentence_scores = nlargest(num_sentences, sentence_scores, key=lambda t: t[1])\n",
    "    \n",
    "    # Return the top sentences\n",
    "    return [t[0] for t in top_sentence_scores]\n",
    "\n",
    " \n",
    "# we open out file using utf8 encoding   \n",
    "with open('F:/NLP-TM.txt', 'r',  encoding=\"utf8\") as file:\n",
    "    txt = file.read()\n",
    "\n",
    "txt\n",
    "\n",
    "len(sent_tokenize(txt))\n",
    "\n",
    "summarize(txt)\n",
    "\n",
    "# now e import pandas\n",
    "import pandas as pd\n",
    "\n",
    "# we capture each sentence upto 20 and append it to empty lit\n",
    "txt_list = []\n",
    "for i in range(0,20):\n",
    "    j = summarize(txt, num_sentences=20)[i]\n",
    "    txt_list.append(j)\n",
    "\n",
    "# we form a series object from the above txt_list\n",
    "txt_df = pd.Series(txt_list) \n",
    "   \n",
    "# LDA\n",
    "from gensim.parsing.preprocessing import preprocess_string\n",
    "\n",
    "txt_df = txt_df.apply(preprocess_string).tolist()\n",
    "\n",
    "from gensim import corpora\n",
    "import gensim\n",
    "\n",
    "dictionary = corpora.dictionary.Dictionary(txt_df)\n",
    "corpus = [dictionary.doc2bow(text) for text in txt_df]\n",
    "\n",
    "# creating LdaModel class object using corpus dataset\n",
    "NUM_TOPICS = 5\n",
    "ldamodel = gensim.models.ldamodel.LdaModel(corpus, num_topics = NUM_TOPICS, id2word=dictionary, passes=10)\n",
    "\n",
    "ldamodel.print_topics(num_words=5)\n",
    "\n",
    "from gensim.models.coherencemodel import CoherenceModel\n",
    "\n",
    "# we define a function to get the coherence scores\n",
    "def calculate_coherence_score(documents, dictionary, model):\n",
    "    coherence_model = CoherenceModel(model=model, texts=documents, dictionary=dictionary, coherence='c_v')\n",
    "    return coherence_model.get_coherence()\n",
    "\n",
    "# now we define a function to get coherence values using the coherence_scores function we defined above\n",
    "def get_coherence_values(start, stop):\n",
    "    for num_topics in range(start, stop):\n",
    "        print(f'\\nCalculating coherence for {num_topics} topics')\n",
    "        ldamodel = gensim.models.ldamodel.LdaModel(corpus, num_topics = num_topics, id2word=dictionary, passes=2)\n",
    "        coherence = calculate_coherence_score(txt_df, dictionary, ldamodel)\n",
    "        yield coherence\n",
    "\n",
    "# now we calculate coherence scores from 10 topics to 16 topics using the function we defined above\n",
    "min_topics, max_topics = 10,16\n",
    "coherence_scores = list(get_coherence_values(min_topics, max_topics))\n",
    "\n",
    "# now we have to visulaize our results for which we import matplotlib \n",
    "import matplotlib.pyplot as plt\n",
    "\n",
    "x = [int(i) for i in range(min_topics, max_topics)]\n",
    "\n",
    "ax = plt.figure(figsize=(10,8))\n",
    "plt.xticks(x)\n",
    "plt.plot(x, coherence_scores)\n",
    "plt.xlabel('Number of topics')\n",
    "plt.ylabel('Coherence Value')\n",
    "plt.title('Coherence Scores', fontsize=10); plt.show()\n",
    "\n"
   ]
  },
  {
   "cell_type": "markdown",
   "metadata": {
    "id": "JdtLXwdBKNfs"
   },
   "source": [
    "We got the graph wherein the nodes represent the sentences, and the edges represent the similarity between the sentences."
   ]
  },
  {
   "cell_type": "markdown",
   "metadata": {
    "id": "PzKeYUiWWCz1"
   },
   "source": [
    "![image.png](data:image/png;base64,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)"
   ]
  },
  {
   "cell_type": "markdown",
   "metadata": {
    "id": "yGdpP7_ucBrE"
   },
   "source": [
    "Result: As we can see that coherence values rise and fall for every alternate number of topics from the plots. 10 has the minimum coherence value below 0.25 and 15 has max just above 0.70. Hence the coherence scores will change each time we run the function.\n"
   ]
  }
 ],
 "metadata": {
  "colab": {
   "authorship_tag": "ABX9TyOt16Cl/sknAAy9VxKxB2bU",
   "collapsed_sections": [],
   "name": "NLP topic modelling 2.ipynb",
   "provenance": []
  },
  "kernelspec": {
   "display_name": "Python 3 (ipykernel)",
   "language": "python",
   "name": "python3"
  },
  "language_info": {
   "codemirror_mode": {
    "name": "ipython",
    "version": 3
   },
   "file_extension": ".py",
   "mimetype": "text/x-python",
   "name": "python",
   "nbconvert_exporter": "python",
   "pygments_lexer": "ipython3",
   "version": "3.8.10"
  }
 },
 "nbformat": 4,
 "nbformat_minor": 1
}
