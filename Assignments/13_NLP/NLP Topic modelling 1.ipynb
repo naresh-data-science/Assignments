{
 "cells": [
  {
   "cell_type": "code",
   "execution_count": 9,
   "metadata": {},
   "outputs": [],
   "source": [
    "#pip install gensim"
   ]
  },
  {
   "cell_type": "markdown",
   "metadata": {
    "id": "NxR11WO1UaRn"
   },
   "source": [
    "**NLP**:\n",
    "\n",
    "Natural language processing is the processing of languages used in the system that exists in the library of nltk where this is processed to cut, extract and transform to new data so that we get good insights into it. It uses only the languages that exist in the library because NLP-related things exist there itself so it cannot understand the things beyond what is present in it."
   ]
  },
  {
   "cell_type": "markdown",
   "metadata": {
    "id": "WgmNEVb0Hln1"
   },
   "source": [
    "**Problem statement:Perform NLP – Topic Modelling and Text summarization by following all the steps.**"
   ]
  },
  {
   "cell_type": "markdown",
   "metadata": {
    "id": "kYkynGhzHKHk"
   },
   "source": [
    "Business Objectives: Perform Topic Modelling on the tweets.\n",
    "\n",
    "Business Constraints: None\n"
   ]
  },
  {
   "cell_type": "markdown",
   "metadata": {
    "id": "dcnGpYtELFuo"
   },
   "source": [
    "Steps:\n",
    "\n",
    "Tokenize each tweet\n",
    "\n",
    "Remove stop words.\n",
    "\n",
    "punctuation.\n",
    "\n",
    "lowercase all words.\n",
    "\n",
    "Remove any remaining special characters.\n",
    "\n",
    "Lemmatize text.\n",
    "\n",
    "Construct a dictionary to create the word cloud."
   ]
  },
  {
   "cell_type": "code",
   "execution_count": 5,
   "metadata": {
    "id": "QZnRYSLA25uc"
   },
   "outputs": [
    {
     "data": {
      "text/html": [
       "<div>\n",
       "<style scoped>\n",
       "    .dataframe tbody tr th:only-of-type {\n",
       "        vertical-align: middle;\n",
       "    }\n",
       "\n",
       "    .dataframe tbody tr th {\n",
       "        vertical-align: top;\n",
       "    }\n",
       "\n",
       "    .dataframe thead th {\n",
       "        text-align: right;\n",
       "    }\n",
       "</style>\n",
       "<table border=\"1\" class=\"dataframe\">\n",
       "  <thead>\n",
       "    <tr style=\"text-align: right;\">\n",
       "      <th></th>\n",
       "      <th>Tweets</th>\n",
       "      <th>Text</th>\n",
       "    </tr>\n",
       "  </thead>\n",
       "  <tbody>\n",
       "    <tr>\n",
       "      <th>0</th>\n",
       "      <td>Grassroots supporters made it possible for us ...</td>\n",
       "      <td>Grassroots supporters made it possible for us ...</td>\n",
       "    </tr>\n",
       "    <tr>\n",
       "      <th>1</th>\n",
       "      <td>Before we took office, the economy added back ...</td>\n",
       "      <td>Before we took office, the economy added back ...</td>\n",
       "    </tr>\n",
       "    <tr>\n",
       "      <th>2</th>\n",
       "      <td>To put it simply, America's coming back. https...</td>\n",
       "      <td>To put it simply, America's coming back.</td>\n",
       "    </tr>\n",
       "    <tr>\n",
       "      <th>3</th>\n",
       "      <td>This is our moment to rebuild an economy from ...</td>\n",
       "      <td>This is our moment to rebuild an economy from ...</td>\n",
       "    </tr>\n",
       "    <tr>\n",
       "      <th>4</th>\n",
       "      <td>The Biden economic plan is working. https://t....</td>\n",
       "      <td>The Biden economic plan is working.</td>\n",
       "    </tr>\n",
       "    <tr>\n",
       "      <th>5</th>\n",
       "      <td>Enjoyed meeting with Maria and Dreamers this m...</td>\n",
       "      <td>Enjoyed meeting with Maria and Dreamers this m...</td>\n",
       "    </tr>\n",
       "    <tr>\n",
       "      <th>6</th>\n",
       "      <td>Across the country, we have failed to properly...</td>\n",
       "      <td>Across the country, we have failed to properly...</td>\n",
       "    </tr>\n",
       "    <tr>\n",
       "      <th>7</th>\n",
       "      <td>After meeting with experts and scientists, our...</td>\n",
       "      <td>After meeting with experts and scientists, our...</td>\n",
       "    </tr>\n",
       "    <tr>\n",
       "      <th>8</th>\n",
       "      <td>The American Rescue Plan is helping get us out...</td>\n",
       "      <td>The American Rescue Plan is helping get us out...</td>\n",
       "    </tr>\n",
       "    <tr>\n",
       "      <th>9</th>\n",
       "      <td>More than 20,000 pharmacies coast to coast are...</td>\n",
       "      <td>More than 20,000 pharmacies coast to coast are...</td>\n",
       "    </tr>\n",
       "  </tbody>\n",
       "</table>\n",
       "</div>"
      ],
      "text/plain": [
       "                                              Tweets  \\\n",
       "0  Grassroots supporters made it possible for us ...   \n",
       "1  Before we took office, the economy added back ...   \n",
       "2  To put it simply, America's coming back. https...   \n",
       "3  This is our moment to rebuild an economy from ...   \n",
       "4  The Biden economic plan is working. https://t....   \n",
       "5  Enjoyed meeting with Maria and Dreamers this m...   \n",
       "6  Across the country, we have failed to properly...   \n",
       "7  After meeting with experts and scientists, our...   \n",
       "8  The American Rescue Plan is helping get us out...   \n",
       "9  More than 20,000 pharmacies coast to coast are...   \n",
       "\n",
       "                                                Text  \n",
       "0  Grassroots supporters made it possible for us ...  \n",
       "1  Before we took office, the economy added back ...  \n",
       "2         To put it simply, America's coming back.    \n",
       "3  This is our moment to rebuild an economy from ...  \n",
       "4              The Biden economic plan is working.    \n",
       "5  Enjoyed meeting with Maria and Dreamers this m...  \n",
       "6  Across the country, we have failed to properly...  \n",
       "7  After meeting with experts and scientists, our...  \n",
       "8  The American Rescue Plan is helping get us out...  \n",
       "9  More than 20,000 pharmacies coast to coast are...  "
      ]
     },
     "execution_count": 5,
     "metadata": {},
     "output_type": "execute_result"
    }
   ],
   "source": [
    "\n",
    "# we are only interested in text column so we will use it only\n",
    "\n",
    "import pandas as pd\n",
    "\n",
    "tweets = pd.read_csv(r\"D:\\DataScience\\Class\\Assignments\\NLP Text mining\\tweets.csv\")\n",
    "\n",
    "tweets.head(10)\n",
    "\n",
    "\n",
    "### Data Cleaning\n",
    "\n",
    "# let us import the regular expression library re\n",
    "\n",
    "import re\n",
    "\n",
    "# let us now define some characters that have to be cleaned\n",
    "\n",
    "HANDLE = '@\\w+'\n",
    "\n",
    "LINK = 'https?://t\\.co/\\w+'\n",
    "\n",
    "SPECIAL_CHARS = '&lt;|&lt;|&amp;|#'\n",
    "\n",
    "# defining funtion to clean our text tweets\n",
    "\n",
    "def clean(text):\n",
    "    text = re.sub(HANDLE, ' ', text)\n",
    "    text = re.sub(LINK, ' ', text)\n",
    "    text = re.sub(SPECIAL_CHARS, ' ', text)\n",
    "    return text\n",
    "\n",
    "# applying the clean function to text column and saving it back\n",
    "\n",
    "tweets['Text'] = tweets.Tweets.apply(clean)\n",
    "\n",
    "tweets.head(10)\n",
    "\n",
    "\n"
   ]
  },
  {
   "cell_type": "markdown",
   "metadata": {
    "id": "_diMTuDkC9pt"
   },
   "source": [
    "We have removed or clean the data from unwanted words like @,%,&, virgin america etc.. "
   ]
  },
  {
   "cell_type": "markdown",
   "metadata": {
    "id": "EGDLcyu7Lfs1"
   },
   "source": [
    "After that we will use Gensim’s Dictionary constructor to give each word in the tweet corpus a unique integer identifier."
   ]
  },
  {
   "cell_type": "code",
   "execution_count": 11,
   "metadata": {
    "id": "FiboWmL7C-hx"
   },
   "outputs": [],
   "source": [
    "from gensim.parsing.preprocessing import preprocess_string\n",
    "\n",
    "# making each observation as list of words present in that tweet\n",
    "\n",
    "tweets = tweets.Text.apply(preprocess_string).tolist()\n",
    "\n",
    "from gensim import corpora\n",
    "\n",
    "import gensim\n",
    "\n",
    "# making a Dictionary object from gensim library and using it creating corpus\n",
    "\n",
    "dictionary = corpora.dictionary.Dictionary(tweets)\n",
    "\n",
    "corpus = [dictionary.doc2bow(text) for text in tweets]\n",
    "\n",
    "# creating LdaModel class object using corpus dataset\n",
    "\n",
    "\n",
    "NUM_TOPICS = 5\n",
    "\n",
    "ldamodel = gensim.models.ldamodel.LdaModel(corpus, num_topics = NUM_TOPICS, id2word=dictionary, passes=10)\n",
    "\n",
    "ldamodel.print_topics(num_words=5)\n",
    "\n",
    "\n",
    "from gensim.models.coherencemodel import CoherenceModel\n",
    "\n",
    "\n",
    "def calculate_coherence_score(documents, dictionary, model):\n",
    "    coherence_model = CoherenceModel(model=model, texts=documents, dictionary=dictionary, coherence='c_v')\n",
    "    return coherence_model.get_coherence()\n",
    "\n",
    "\n",
    "def get_coherence_values(start, stop):\n",
    "    for num_topics in range(start, stop):\n",
    "        print(f'\\nCalculating coherence for {num_topics} topics')\n",
    "        ldamodel = gensim.models.ldamodel.LdaModel(corpus, num_topics = num_topics, id2word=dictionary, passes=2)\n",
    "        coherence = calculate_coherence_score(tweets, dictionary, ldamodel)\n",
    "        yield coherence\n",
    "\n"
   ]
  },
  {
   "cell_type": "markdown",
   "metadata": {
    "id": "5HC-msJgMl5T"
   },
   "source": [
    "\n",
    "Fitting an LDA model in Gensim is quite simple. As a starting point, we have fit a model with 10 topics to 16 topics and now we calculate coherence scores from 10 topics to 16 topics using the function we defined above."
   ]
  },
  {
   "cell_type": "code",
   "execution_count": 13,
   "metadata": {
    "id": "w48oWs4cMmQS"
   },
   "outputs": [
    {
     "name": "stdout",
     "output_type": "stream",
     "text": [
      "\n",
      "Calculating coherence for 10 topics\n",
      "\n",
      "Calculating coherence for 11 topics\n",
      "\n",
      "Calculating coherence for 12 topics\n",
      "\n",
      "Calculating coherence for 13 topics\n",
      "\n",
      "Calculating coherence for 14 topics\n",
      "\n",
      "Calculating coherence for 15 topics\n"
     ]
    },
    {
     "data": {
      "image/png": "[encoded data removed]",
      "text/plain": [
       "<Figure size 720x576 with 1 Axes>"
      ]
     },
     "metadata": {
      "needs_background": "light"
     },
     "output_type": "display_data"
    }
   ],
   "source": [
    "\n",
    "min_topics, max_topics = 10,16\n",
    "\n",
    "coherence_scores = list(get_coherence_values(min_topics, max_topics))\n",
    "\n",
    "\n",
    "\n",
    "# now we have to visulaize our results for which we import matplotlib \n",
    "\n",
    "import matplotlib.pyplot as plt\n",
    "\n",
    "x = [int(i) for i in range(min_topics, max_topics)]\n",
    "\n",
    "ax = plt.figure(figsize=(10,8))\n",
    "\n",
    "\n",
    "plt.plot(x, coherence_scores)\n",
    "\n",
    "\n",
    "plt.xlabel('Number of topics')\n",
    "\n",
    "\n",
    "plt.ylabel('Coherence Value')\n",
    "\n",
    "\n",
    "plt.title('Coherence Scores', fontsize=10); plt.show()"
   ]
  },
  {
   "cell_type": "markdown",
   "metadata": {
    "id": "XGxPc4X4F5WC"
   },
   "source": [
    "**Result:As we can see that coherence values rise steeply till 13 from above plots. after that it reduces to 10 has the minimum coherence value below 0.30  and 13 has max just above 0.37.Hence the coherence scores will change each time we run the function.**"
   ]
  },
  {
   "cell_type": "code",
   "execution_count": null,
   "metadata": {},
   "outputs": [],
   "source": []
  }
 ],
 "metadata": {
  "colab": {
   "authorship_tag": "ABX9TyO1b8LjGcbV7oyxMcyE1eRP",
   "collapsed_sections": [],
   "name": "NLP Topic modelling 1.ipynb",
   "provenance": []
  },
  "kernelspec": {
   "display_name": "Python 3 (ipykernel)",
   "language": "python",
   "name": "python3"
  },
  "language_info": {
   "codemirror_mode": {
    "name": "ipython",
    "version": 3
   },
   "file_extension": ".py",
   "mimetype": "text/x-python",
   "name": "python",
   "nbconvert_exporter": "python",
   "pygments_lexer": "ipython3",
   "version": "3.8.10"
  }
 },
 "nbformat": 4,
 "nbformat_minor": 1
}
