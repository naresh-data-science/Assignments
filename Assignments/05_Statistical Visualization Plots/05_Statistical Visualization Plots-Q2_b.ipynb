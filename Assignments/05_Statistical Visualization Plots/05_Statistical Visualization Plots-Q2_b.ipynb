{
 "cells": [
  {
   "cell_type": "markdown",
   "id": "570f7d27",
   "metadata": {},
   "source": [
    "**EXPLORATORY DATA ANALYSIS - DATA VISUALIZATION**\n",
    "\n",
    "The data that we indent to work with can be in any format, and it is imperative to do the EDA and Preprocess on it. A key element in determining the details or intricacies of the data involve in visualizing the data.\n",
    "\n",
    "A few of the plots are:\n",
    "\n",
    "  1. Histogram - which is primarily used to check whether the data is normal or has a uniform curve or not. It also gives \n",
    "  insights for the skewness and kurtosis of the data.\n",
    "  \n",
    "  2. Box Plot - A plot extensively used to determine the extreme values, commonly known as Outliers in the data. \n",
    "  Seeing the plot we can infer whether the data is normally distributed as well or not."
   ]
  },
  {
   "cell_type": "markdown",
   "id": "92372abc",
   "metadata": {},
   "source": [
    "Q1) Calculate Skewness, Kurtosis using R/Python code & draw inferences on the following data.\n",
    "\n",
    "Hint: [Insights to be drawn from the data such as data is normally distributed, outliers, measures like mean, median, mode, \n",
    "    variance, std. deviation are to calculated]\n",
    "    \n",
    "    \n",
    "   b. Top speed and Weight"
   ]
  },
  {
   "cell_type": "code",
   "execution_count": 30,
   "id": "f3cb12d2",
   "metadata": {},
   "outputs": [],
   "source": [
    "#Import the dataset\n",
    "import pandas as pd"
   ]
  },
  {
   "cell_type": "code",
   "execution_count": 33,
   "id": "6bc3ee2b",
   "metadata": {},
   "outputs": [],
   "source": [
    "Q2_b = pd.read_csv(\"Q2_b.csv\")"
   ]
  },
  {
   "cell_type": "code",
   "execution_count": 34,
   "id": "8a9f0a4c",
   "metadata": {},
   "outputs": [
    {
     "data": {
      "text/html": [
       "<div>\n",
       "<style scoped>\n",
       "    .dataframe tbody tr th:only-of-type {\n",
       "        vertical-align: middle;\n",
       "    }\n",
       "\n",
       "    .dataframe tbody tr th {\n",
       "        vertical-align: top;\n",
       "    }\n",
       "\n",
       "    .dataframe thead th {\n",
       "        text-align: right;\n",
       "    }\n",
       "</style>\n",
       "<table border=\"1\" class=\"dataframe\">\n",
       "  <thead>\n",
       "    <tr style=\"text-align: right;\">\n",
       "      <th></th>\n",
       "      <th>Unnamed: 0</th>\n",
       "      <th>SP</th>\n",
       "      <th>WT</th>\n",
       "    </tr>\n",
       "  </thead>\n",
       "  <tbody>\n",
       "    <tr>\n",
       "      <th>0</th>\n",
       "      <td>1</td>\n",
       "      <td>104.185353</td>\n",
       "      <td>28.762059</td>\n",
       "    </tr>\n",
       "    <tr>\n",
       "      <th>1</th>\n",
       "      <td>2</td>\n",
       "      <td>105.461264</td>\n",
       "      <td>30.466833</td>\n",
       "    </tr>\n",
       "    <tr>\n",
       "      <th>2</th>\n",
       "      <td>3</td>\n",
       "      <td>105.461264</td>\n",
       "      <td>30.193597</td>\n",
       "    </tr>\n",
       "    <tr>\n",
       "      <th>3</th>\n",
       "      <td>4</td>\n",
       "      <td>113.461264</td>\n",
       "      <td>30.632114</td>\n",
       "    </tr>\n",
       "    <tr>\n",
       "      <th>4</th>\n",
       "      <td>5</td>\n",
       "      <td>104.461264</td>\n",
       "      <td>29.889149</td>\n",
       "    </tr>\n",
       "  </tbody>\n",
       "</table>\n",
       "</div>"
      ],
      "text/plain": [
       "   Unnamed: 0          SP         WT\n",
       "0           1  104.185353  28.762059\n",
       "1           2  105.461264  30.466833\n",
       "2           3  105.461264  30.193597\n",
       "3           4  113.461264  30.632114\n",
       "4           5  104.461264  29.889149"
      ]
     },
     "execution_count": 34,
     "metadata": {},
     "output_type": "execute_result"
    }
   ],
   "source": [
    "Q2_b.head()"
   ]
  },
  {
   "cell_type": "code",
   "execution_count": 35,
   "id": "4a110277",
   "metadata": {},
   "outputs": [],
   "source": [
    "# Import stats sub-module for statistical analysis \n",
    "\n",
    "from scipy import stats "
   ]
  },
  {
   "cell_type": "code",
   "execution_count": 36,
   "id": "4d492852",
   "metadata": {},
   "outputs": [],
   "source": [
    "# Import library for visualizations\n",
    "import matplotlib.pyplot as plt"
   ]
  },
  {
   "cell_type": "code",
   "execution_count": 37,
   "id": "44636d39",
   "metadata": {},
   "outputs": [
    {
     "data": {
      "text/plain": [
       "' We notice from the plot below that the data is not quite normal and that the data is skewed to left a little and \\n    has a positive but spread up kurtosis'"
      ]
     },
     "execution_count": 37,
     "metadata": {},
     "output_type": "execute_result"
    },
    {
     "data": {
      "image/png": "[encoded data removed]",
      "text/plain": [
       "<Figure size 432x288 with 1 Axes>"
      ]
     },
     "metadata": {
      "needs_background": "light"
     },
     "output_type": "display_data"
    }
   ],
   "source": [
    "# Plot the histogram\n",
    "plt.hist(Q2_b.SP)\n",
    "\n",
    "''' Notice the plot for normality observe the skewness in the data. Observe the peakedness to assess the kurtosis'''"
   ]
  },
  {
   "cell_type": "code",
   "execution_count": 1,
   "id": "e6223de6",
   "metadata": {},
   "outputs": [
    {
     "ename": "NameError",
     "evalue": "name 'plt' is not defined",
     "output_type": "error",
     "traceback": [
      "\u001b[1;31m---------------------------------------------------------------------------\u001b[0m",
      "\u001b[1;31mNameError\u001b[0m                                 Traceback (most recent call last)",
      "\u001b[1;32m<ipython-input-1-abe0e5a394fd>\u001b[0m in \u001b[0;36m<module>\u001b[1;34m\u001b[0m\n\u001b[1;32m----> 1\u001b[1;33m \u001b[0mplt\u001b[0m\u001b[1;33m.\u001b[0m\u001b[0mhist\u001b[0m\u001b[1;33m(\u001b[0m\u001b[0mQ2_b\u001b[0m\u001b[1;33m.\u001b[0m\u001b[0mWT\u001b[0m\u001b[1;33m)\u001b[0m\u001b[1;33m\u001b[0m\u001b[1;33m\u001b[0m\u001b[0m\n\u001b[0m\u001b[0;32m      2\u001b[0m \u001b[1;33m\u001b[0m\u001b[0m\n\u001b[0;32m      3\u001b[0m \u001b[1;34m'''We notice from the plot below that the data is definitely not normal and that the data is right skewed clearly and has a positive kurtosis'''\u001b[0m\u001b[1;33m\u001b[0m\u001b[1;33m\u001b[0m\u001b[0m\n",
      "\u001b[1;31mNameError\u001b[0m: name 'plt' is not defined"
     ]
    }
   ],
   "source": [
    "plt.hist(Q2_b.WT)\n",
    "\n",
    "''' Notice the plot for normality observe the skewness in the data. Observe the peakedness to assess the kurtosis'''"
   ]
  },
  {
   "cell_type": "markdown",
   "id": "5ad7688a",
   "metadata": {},
   "source": [
    "**Perform EDA: The 4 Moment of Business Decisions**"
   ]
  },
  {
   "cell_type": "markdown",
   "id": "1fe5bea4",
   "metadata": {},
   "source": [
    "First Moment of Business Decision also called the Measured of Central Tendency include:\n",
    "    \n",
    "    Mean\n",
    "    Median\n",
    "    Mode"
   ]
  },
  {
   "cell_type": "code",
   "execution_count": 41,
   "id": "daca9188",
   "metadata": {},
   "outputs": [
    {
     "data": {
      "text/plain": [
       "121.5402721803703"
      ]
     },
     "execution_count": 41,
     "metadata": {},
     "output_type": "execute_result"
    }
   ],
   "source": [
    "# Mean \n",
    "Q2_b.SP.mean() # code for mean of the column/feature - 'Top speed' in Q2_b dataset \n"
   ]
  },
  {
   "cell_type": "code",
   "execution_count": 42,
   "id": "291d8f0a",
   "metadata": {},
   "outputs": [
    {
     "data": {
      "text/plain": [
       "32.41257691024691"
      ]
     },
     "execution_count": 42,
     "metadata": {},
     "output_type": "execute_result"
    }
   ],
   "source": [
    "Q2_b.WT.mean() # code for mean of the column/feature - 'Weight' in Q2_b dataset "
   ]
  },
  {
   "cell_type": "code",
   "execution_count": 43,
   "id": "a9d3cb32",
   "metadata": {},
   "outputs": [
    {
     "data": {
      "text/plain": [
       "118.2086984"
      ]
     },
     "execution_count": 43,
     "metadata": {},
     "output_type": "execute_result"
    }
   ],
   "source": [
    "# Median\n",
    "Q2_b.SP.median()\n"
   ]
  },
  {
   "cell_type": "code",
   "execution_count": 44,
   "id": "bea12f9b",
   "metadata": {},
   "outputs": [
    {
     "data": {
      "text/plain": [
       "32.73451818"
      ]
     },
     "execution_count": 44,
     "metadata": {},
     "output_type": "execute_result"
    }
   ],
   "source": [
    "Q2_b.WT.median()"
   ]
  },
  {
   "cell_type": "code",
   "execution_count": 45,
   "id": "f04f9d4a",
   "metadata": {},
   "outputs": [
    {
     "data": {
      "text/plain": [
       "0    118.288996\n",
       "dtype: float64"
      ]
     },
     "execution_count": 45,
     "metadata": {},
     "output_type": "execute_result"
    }
   ],
   "source": [
    "# Mode\n",
    "Q2_b.SP.mode()"
   ]
  },
  {
   "cell_type": "code",
   "execution_count": 46,
   "id": "cab6d797",
   "metadata": {},
   "outputs": [
    {
     "data": {
      "text/plain": [
       "0     15.712859\n",
       "1     15.753535\n",
       "2     15.769625\n",
       "3     15.823060\n",
       "4     15.847758\n",
       "        ...    \n",
       "76    42.778219\n",
       "77    43.353123\n",
       "78    43.390988\n",
       "79    44.013139\n",
       "80    52.997752\n",
       "Length: 81, dtype: float64"
      ]
     },
     "execution_count": 46,
     "metadata": {},
     "output_type": "execute_result"
    }
   ],
   "source": [
    "Q2_b.WT.mode()"
   ]
  },
  {
   "cell_type": "markdown",
   "id": "375eeb81",
   "metadata": {},
   "source": [
    "**Second Moment of Business Decision - Measures of Dispersion**\n",
    "\n",
    "1. Variance - The average spread of the data from the mean, calculated using squared values. \n",
    "2. Standard deviation - Represents the magnitude of the average spread (root of the Variance values).\n",
    "3. Range - Represents the boundaries, the difference of the max and min point/values of the data."
   ]
  },
  {
   "cell_type": "code",
   "execution_count": 47,
   "id": "44bcb7f9",
   "metadata": {},
   "outputs": [
    {
     "data": {
      "text/plain": [
       "201.113001503037"
      ]
     },
     "execution_count": 47,
     "metadata": {},
     "output_type": "execute_result"
    }
   ],
   "source": [
    "# Variance\n",
    "Q2_b.SP.var()\n"
   ]
  },
  {
   "cell_type": "code",
   "execution_count": 48,
   "id": "f1f8c426",
   "metadata": {},
   "outputs": [
    {
     "data": {
      "text/plain": [
       "56.14224661390445"
      ]
     },
     "execution_count": 48,
     "metadata": {},
     "output_type": "execute_result"
    }
   ],
   "source": [
    "Q2_b.WT.var()"
   ]
  },
  {
   "cell_type": "code",
   "execution_count": 49,
   "id": "c76bb521",
   "metadata": {},
   "outputs": [
    {
     "data": {
      "text/plain": [
       "14.18143157452861"
      ]
     },
     "execution_count": 49,
     "metadata": {},
     "output_type": "execute_result"
    }
   ],
   "source": [
    "# Standard Deviation\n",
    "Q2_b.SP.std()\n"
   ]
  },
  {
   "cell_type": "code",
   "execution_count": 50,
   "id": "3b6dab40",
   "metadata": {},
   "outputs": [
    {
     "data": {
      "text/plain": [
       "7.492812997393198"
      ]
     },
     "execution_count": 50,
     "metadata": {},
     "output_type": "execute_result"
    }
   ],
   "source": [
    "Q2_b.WT.std()"
   ]
  },
  {
   "cell_type": "code",
   "execution_count": 51,
   "id": "672ffd24",
   "metadata": {
    "scrolled": true
   },
   "outputs": [
    {
     "data": {
      "text/plain": [
       "1.6114501961773586"
      ]
     },
     "execution_count": 51,
     "metadata": {},
     "output_type": "execute_result"
    }
   ],
   "source": [
    "# Third Moment Business Decision - SKEWNESS: a measure of asymmetry in the data\n",
    "Q2_b.SP.skew()"
   ]
  },
  {
   "cell_type": "code",
   "execution_count": 52,
   "id": "d74f2c60",
   "metadata": {},
   "outputs": [
    {
     "data": {
      "text/plain": [
       "-0.6147533255357768"
      ]
     },
     "execution_count": 52,
     "metadata": {},
     "output_type": "execute_result"
    }
   ],
   "source": [
    "Q2_b.WT.skew()"
   ]
  },
  {
   "cell_type": "code",
   "execution_count": 53,
   "id": "38ef84ae",
   "metadata": {},
   "outputs": [
    {
     "data": {
      "text/plain": [
       "2.9773289437871835"
      ]
     },
     "execution_count": 53,
     "metadata": {},
     "output_type": "execute_result"
    }
   ],
   "source": [
    "# Fourth Moment Business Decision - KURTOSIS: a measure of peakedness in the data\n",
    "Q2_b.SP.kurt()"
   ]
  },
  {
   "cell_type": "code",
   "execution_count": 54,
   "id": "4d9fa2d4",
   "metadata": {},
   "outputs": [
    {
     "data": {
      "text/plain": [
       "0.9502914910300326"
      ]
     },
     "execution_count": 54,
     "metadata": {},
     "output_type": "execute_result"
    }
   ],
   "source": [
    "Q2_b.WT.kurt()"
   ]
  },
  {
   "cell_type": "markdown",
   "id": "13b5af2c",
   "metadata": {},
   "source": [
    "**Outlier detection using Boxplot**"
   ]
  },
  {
   "cell_type": "code",
   "execution_count": 55,
   "id": "07b92cb3",
   "metadata": {},
   "outputs": [
    {
     "data": {
      "text/plain": [
       "{'whiskers': [<matplotlib.lines.Line2D at 0x1d67e8985e0>,\n",
       "  <matplotlib.lines.Line2D at 0x1d67e898940>],\n",
       " 'caps': [<matplotlib.lines.Line2D at 0x1d67e898ca0>,\n",
       "  <matplotlib.lines.Line2D at 0x1d67e8a3040>],\n",
       " 'boxes': [<matplotlib.lines.Line2D at 0x1d67e898280>],\n",
       " 'medians': [<matplotlib.lines.Line2D at 0x1d67e8a33a0>],\n",
       " 'fliers': [<matplotlib.lines.Line2D at 0x1d67e8a3700>],\n",
       " 'means': []}"
      ]
     },
     "execution_count": 55,
     "metadata": {},
     "output_type": "execute_result"
    },
    {
     "data": {
      "image/png": "[encoded data removed]",
      "text/plain": [
       "<Figure size 432x288 with 1 Axes>"
      ]
     },
     "metadata": {
      "needs_background": "light"
     },
     "output_type": "display_data"
    }
   ],
   "source": [
    "# Plot the boxplot for the individual columns\n",
    "plt.boxplot(Q2_b.SP)\n"
   ]
  },
  {
   "cell_type": "code",
   "execution_count": 56,
   "id": "5afb6b48",
   "metadata": {},
   "outputs": [
    {
     "data": {
      "text/plain": [
       "{'whiskers': [<matplotlib.lines.Line2D at 0x1d67e8f94f0>,\n",
       "  <matplotlib.lines.Line2D at 0x1d67e8f9850>],\n",
       " 'caps': [<matplotlib.lines.Line2D at 0x1d67e8f9bb0>,\n",
       "  <matplotlib.lines.Line2D at 0x1d67e8f9f10>],\n",
       " 'boxes': [<matplotlib.lines.Line2D at 0x1d67e8f9190>],\n",
       " 'medians': [<matplotlib.lines.Line2D at 0x1d67e9042b0>],\n",
       " 'fliers': [<matplotlib.lines.Line2D at 0x1d67e904610>],\n",
       " 'means': []}"
      ]
     },
     "execution_count": 56,
     "metadata": {},
     "output_type": "execute_result"
    },
    {
     "data": {
      "image/png": "[encoded data removed]",
      "text/plain": [
       "<Figure size 432x288 with 1 Axes>"
      ]
     },
     "metadata": {
      "needs_background": "light"
     },
     "output_type": "display_data"
    }
   ],
   "source": [
    "plt.boxplot(Q2_b.WT)"
   ]
  },
  {
   "cell_type": "markdown",
   "id": "bc5ba8ca",
   "metadata": {},
   "source": [
    "**Notice that both the features Top speed and Weight have outliers. This can be treated using the 3R technique, either Retain the outlier depending on the data. Rectify it using Winsorization or Remove using Trimming apprach.**"
   ]
  },
  {
   "cell_type": "markdown",
   "id": "0044466a",
   "metadata": {},
   "source": [
    "**SOLUTION**\n",
    "\n",
    "•\tSkewness (Top Speed) = 1.581454 and Skewness (Weight) = -0.6033099\n",
    "\n",
    "•\tKurtosis (Top Speed) = 5.723521 and Kurtosis (Weight) = 3.819466\n",
    "\n",
    "•\tData is not normally distributed as it has skewness for both the columns\n",
    "\n",
    "•\tMean (Top Speed)= 121.5403 and Mean (Weight) = 32.41258\n",
    "\n",
    "•\tMedian (Top Speed) = 118.2087 and Median (Weight) = 32.73452\n",
    "\n",
    "•\tVariance (Top Speed) = 201.113 and Variance (Weight) = 56.14225\n",
    "\n",
    "•\tStd deviation (Top Speed) = 14.18143 and Std deviation (Weight) = 7.492813\n",
    "\n",
    "•\tThere are outliers in Top speed column as well as in Weight column"
   ]
  },
  {
   "cell_type": "code",
   "execution_count": null,
   "id": "aa0fee16",
   "metadata": {},
   "outputs": [],
   "source": []
  }
 ],
 "metadata": {
  "kernelspec": {
   "display_name": "Python 3",
   "language": "python",
   "name": "python3"
  },
  "language_info": {
   "codemirror_mode": {
    "name": "ipython",
    "version": 3
   },
   "file_extension": ".py",
   "mimetype": "text/x-python",
   "name": "python",
   "nbconvert_exporter": "python",
   "pygments_lexer": "ipython3",
   "version": "3.8.8"
  }
 },
 "nbformat": 4,
 "nbformat_minor": 5
}
