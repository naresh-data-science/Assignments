{
 "cells": [
  {
   "cell_type": "markdown",
   "id": "829e690f",
   "metadata": {},
   "source": [
    "**EXPLORATORY DATA ANALYSIS - DATA VISUALIZATION**\n",
    "\n",
    "The data that we indent to work with can be in any format, and it is imperative to do the EDA and Preprocess on it. A key element in determining the details or intricacies of the data involve in visualizing the data.\n",
    "\n",
    "A few of the plots are:\n",
    "\n",
    "  1. Histogram - which is primarily used to check whether the data is normal or has a uniform curve or not. It also gives \n",
    "  insights for the skewness and kurtosis of the data.\n",
    "  \n",
    "  2. Box Plot - A plot extensively used to determine the extreme values, commonly known as Outliers in the data. \n",
    "  Seeing the plot we can infer whether the data is normally distributed as well or not."
   ]
  },
  {
   "cell_type": "markdown",
   "id": "0d3b6a0f",
   "metadata": {},
   "source": [
    "Q1) Calculate Skewness, Kurtosis using Python & draw inferences on the following data.\n",
    "\n",
    "Hint: [Insights to be drawn from the data such as data is normally distributed, outliers, measures like mean, median, mode, \n",
    "    variance, std. deviation are to calculated]\n",
    "    \n",
    "   a.   Cars Data: speed and distance"
   ]
  },
  {
   "cell_type": "code",
   "execution_count": null,
   "id": "dbd3ef67",
   "metadata": {},
   "outputs": [],
   "source": [
    "# Import the dataset\n",
    "import pandas as pd"
   ]
  },
  {
   "cell_type": "code",
   "execution_count": null,
   "id": "c9926ae7",
   "metadata": {},
   "outputs": [],
   "source": [
    "Q1_a = pd.read_csv(\"Q1_a.csv\")"
   ]
  },
  {
   "cell_type": "code",
   "execution_count": null,
   "id": "9f6be00f",
   "metadata": {},
   "outputs": [],
   "source": [
    "Q1_a.head()"
   ]
  },
  {
   "cell_type": "code",
   "execution_count": null,
   "id": "958e3e64",
   "metadata": {},
   "outputs": [],
   "source": [
    "# Import stats sub-module for statistical analysis \n",
    "\n",
    "from scipy import stats "
   ]
  },
  {
   "cell_type": "code",
   "execution_count": null,
   "id": "732afbc8",
   "metadata": {},
   "outputs": [],
   "source": [
    "# Import library for visualizations\n",
    "import matplotlib.pyplot as plt"
   ]
  },
  {
   "cell_type": "code",
   "execution_count": null,
   "id": "fde557d0",
   "metadata": {},
   "outputs": [],
   "source": [
    "# Plot the histogram\n",
    "plt.hist(Q1_a.speed)\n",
    "\n",
    "''' Notice the plot for normality observe the skewness in the data. Observe the peakedness to assess the kurtosis'''"
   ]
  },
  {
   "cell_type": "code",
   "execution_count": null,
   "id": "825addfd",
   "metadata": {},
   "outputs": [],
   "source": [
    "plt.hist(Q1_a.dist)\n",
    "\n",
    "''' Notice the plot for normality observe the skewness in the data. Observe the peakedness to assess the kurtosis'''"
   ]
  },
  {
   "cell_type": "markdown",
   "id": "d94e83cf",
   "metadata": {},
   "source": [
    "**Perform EDA: The 4 Moment of Business Decisions**"
   ]
  },
  {
   "cell_type": "markdown",
   "id": "89ce9be3",
   "metadata": {},
   "source": [
    "First Moment of Business Decision also called the Measured of Central Tendency include:\n",
    "    \n",
    "    Mean\n",
    "    Median\n",
    "    Mode"
   ]
  },
  {
   "cell_type": "code",
   "execution_count": null,
   "id": "0dd94c20",
   "metadata": {},
   "outputs": [],
   "source": [
    "# Mean \n",
    "Q1_a.speed.mean() # code for mean of the column/feature - 'speed' in Q1_a dataset\n",
    "                  \n"
   ]
  },
  {
   "cell_type": "code",
   "execution_count": null,
   "id": "ea036b71",
   "metadata": {},
   "outputs": [],
   "source": [
    "Q1_a.dist.mean() # code for mean of the column/feature - 'dist' in Q1_a dataset"
   ]
  },
  {
   "cell_type": "code",
   "execution_count": null,
   "id": "3eca93dc",
   "metadata": {},
   "outputs": [],
   "source": [
    "# Median\n",
    "Q1_a.speed.median()"
   ]
  },
  {
   "cell_type": "code",
   "execution_count": null,
   "id": "85f6c262",
   "metadata": {},
   "outputs": [],
   "source": [
    "Q1_a.dist.median()"
   ]
  },
  {
   "cell_type": "code",
   "execution_count": null,
   "id": "6b484f9a",
   "metadata": {},
   "outputs": [],
   "source": [
    "# Mode\n",
    "Q1_a.speed.mode()"
   ]
  },
  {
   "cell_type": "code",
   "execution_count": null,
   "id": "319e0de1",
   "metadata": {},
   "outputs": [],
   "source": [
    "Q1_a.dist.mode()"
   ]
  },
  {
   "cell_type": "markdown",
   "id": "c8c051a3",
   "metadata": {},
   "source": [
    "Second Moment of Business Decision - Measures of Dispersion\n",
    "\n",
    "1. Variance - The average spread of the data from the mean, calculated using squared values. \n",
    "2. Standard deviation - Represents the magnitude of the average spread (root of the Variance values).\n",
    "3. Range - Represents the boundaries, the difference of the max and min point/values of the data.\n"
   ]
  },
  {
   "cell_type": "code",
   "execution_count": null,
   "id": "ff1e4835",
   "metadata": {},
   "outputs": [],
   "source": [
    "# Variance\n",
    "Q1_a.speed.var()\n"
   ]
  },
  {
   "cell_type": "code",
   "execution_count": null,
   "id": "3fca8e50",
   "metadata": {},
   "outputs": [],
   "source": [
    "Q1_a.dist.var()"
   ]
  },
  {
   "cell_type": "code",
   "execution_count": null,
   "id": "39db2d07",
   "metadata": {},
   "outputs": [],
   "source": [
    "# Standard Deviation\n",
    "Q1_a.speed.std()"
   ]
  },
  {
   "cell_type": "code",
   "execution_count": null,
   "id": "a46f2f88",
   "metadata": {},
   "outputs": [],
   "source": [
    "Q1_a.dist.std()"
   ]
  },
  {
   "cell_type": "code",
   "execution_count": null,
   "id": "ace14100",
   "metadata": {
    "scrolled": true
   },
   "outputs": [],
   "source": [
    "# Third Moment Business Decision - SKEWNESS: a measure of asymmetry in the data\n",
    "Q1_a.speed.skew()"
   ]
  },
  {
   "cell_type": "code",
   "execution_count": null,
   "id": "cfa3121d",
   "metadata": {},
   "outputs": [],
   "source": [
    "Q1_a.dist.skew()"
   ]
  },
  {
   "cell_type": "code",
   "execution_count": null,
   "id": "d1e262e5",
   "metadata": {},
   "outputs": [],
   "source": [
    "# Fourth Moment Business Decision - KURTOSIS: a measure of peakedness in the data\n",
    "Q1_a.speed.kurt()"
   ]
  },
  {
   "cell_type": "code",
   "execution_count": null,
   "id": "141af829",
   "metadata": {},
   "outputs": [],
   "source": [
    "Q1_a.dist.kurt()"
   ]
  },
  {
   "cell_type": "markdown",
   "id": "f5a50a6b",
   "metadata": {},
   "source": [
    "**Outlier detection using Boxplot**"
   ]
  },
  {
   "cell_type": "code",
   "execution_count": null,
   "id": "bd8e8f4c",
   "metadata": {},
   "outputs": [],
   "source": [
    "# Plot the boxplot for the individual columns\n",
    "plt.boxplot(Q1_a.speed)\n"
   ]
  },
  {
   "cell_type": "markdown",
   "id": "cf5df735",
   "metadata": {},
   "source": [
    "**Notice the data for outliers. Additionally we can observe for the normal distribution**"
   ]
  },
  {
   "cell_type": "code",
   "execution_count": null,
   "id": "2caa0a30",
   "metadata": {},
   "outputs": [],
   "source": [
    "plt.boxplot(Q1_a.dist)"
   ]
  },
  {
   "cell_type": "markdown",
   "id": "bcc4147d",
   "metadata": {},
   "source": [
    "**Notice that the 'dist' feature has one outlier. This can be treated using the 3R technique, either Retain the outlier depending on the data. Rectify it using Winsorization or Remove using Trimming apprach.**"
   ]
  },
  {
   "cell_type": "markdown",
   "id": "77e79c2a",
   "metadata": {},
   "source": [
    "**SOLUTION**\n",
    "\n",
    "•\tSkewness(Speed) = -0.1139548 and Skewness(dist) = 0.7824835\n",
    "\n",
    "•\tKurtosis(Speed) = -.508994 and Kurtosis(dist) = 0.4050525\n",
    "\n",
    "•\tData is not normally distributed as it has skewness for both the columns.\n",
    "\n",
    "•\tMean(Speed)= 15.4 and Mean(dist) = 42.98\n",
    "\n",
    "•\tMedian(Speed) = 15 and Median(dist) = 36\n",
    "\n",
    "•\tVariance(Speed) = 27.95918 and Variance(dist) = 664.0608\n",
    "\n",
    "•\tStd deviation(Speed) = 5.287644 and Std deviation(Speed) = 25.76938 \n",
    "\n",
    "•\tThere is no outlier in speed column but there is at least 1 outlier present in distance column."
   ]
  }
 ],
 "metadata": {
  "kernelspec": {
   "display_name": "Python 3",
   "language": "python",
   "name": "python3"
  },
  "language_info": {
   "codemirror_mode": {
    "name": "ipython",
    "version": 3
   },
   "file_extension": ".py",
   "mimetype": "text/x-python",
   "name": "python",
   "nbconvert_exporter": "python",
   "pygments_lexer": "ipython3",
   "version": "3.8.8"
  }
 },
 "nbformat": 4,
 "nbformat_minor": 5
}
