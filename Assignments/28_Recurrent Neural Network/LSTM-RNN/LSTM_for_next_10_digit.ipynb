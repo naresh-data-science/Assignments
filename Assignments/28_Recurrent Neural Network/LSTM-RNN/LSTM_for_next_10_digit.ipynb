{
 "cells": [
  {
   "cell_type": "markdown",
   "id": "ccfe61d2",
   "metadata": {},
   "source": [
    "Prepareed by : **Ashpak Sheikh**"
   ]
  },
  {
   "cell_type": "markdown",
   "id": "9962cc51",
   "metadata": {},
   "source": [
    "Problem statement:\n",
    "<br>Here is the time series data [110,125,133,146,158,172,187,196,210]. \n",
    "Build RNN/LSTM model to predict the next 10 digits.\n"
   ]
  },
  {
   "cell_type": "code",
   "execution_count": 1,
   "id": "fea17327",
   "metadata": {},
   "outputs": [],
   "source": [
    "#importing required libraries\n",
    "import pandas as pd\n",
    "import numpy as np\n",
    "from numpy import array\n",
    "from tensorflow.keras.models import Sequential\n",
    "from tensorflow.keras.layers import LSTM\n",
    "from tensorflow.keras.layers import Dense\n",
    "from tensorflow.keras.layers import Bidirectional"
   ]
  },
  {
   "cell_type": "code",
   "execution_count": 2,
   "id": "cb93c2ec",
   "metadata": {},
   "outputs": [],
   "source": [
    "# univariate data preparation\n",
    "from numpy import array\n",
    " \n",
    "# split a univariate sequence into samples\n",
    "def split_sequence(sequence, n_steps):\n",
    "    X, y = list(), list()\n",
    "    for i in range(len(sequence)):\n",
    "    # find the end of this pattern\n",
    "        end_ix = i + n_steps\n",
    "        # check if we are beyond the sequence\n",
    "        if end_ix > len(sequence)-1:\n",
    "            break\n",
    "        # gather input and output parts of the pattern\n",
    "        seq_x, seq_y = sequence[i:end_ix], sequence[end_ix]\n",
    "        X.append(seq_x)\n",
    "        y.append(seq_y)\n",
    "    return array(X), array(y)"
   ]
  },
  {
   "cell_type": "code",
   "execution_count": 3,
   "id": "83e43fca",
   "metadata": {},
   "outputs": [],
   "source": [
    "raw_seq = [110,125,133,146,158,172,187,196,210]\n"
   ]
  },
  {
   "cell_type": "code",
   "execution_count": 4,
   "id": "c3013825",
   "metadata": {
    "scrolled": true
   },
   "outputs": [],
   "source": [
    "# choose a number of time steps\n",
    "n_steps = 3\n",
    "# split into samples\n",
    "X, y = split_sequence(raw_seq, n_steps)"
   ]
  },
  {
   "cell_type": "code",
   "execution_count": 5,
   "id": "d21b3dfa",
   "metadata": {
    "scrolled": true
   },
   "outputs": [
    {
     "name": "stdout",
     "output_type": "stream",
     "text": [
      "[110 125 133] 146\n",
      "[125 133 146] 158\n",
      "[133 146 158] 172\n",
      "[146 158 172] 187\n",
      "[158 172 187] 196\n",
      "[172 187 196] 210\n"
     ]
    }
   ],
   "source": [
    "# summarize the data\n",
    "for i in range(len(X)):\n",
    "    print(X[i], y[i])"
   ]
  },
  {
   "cell_type": "code",
   "execution_count": null,
   "id": "f4a76e63",
   "metadata": {},
   "outputs": [],
   "source": []
  },
  {
   "cell_type": "code",
   "execution_count": 6,
   "id": "905352f5",
   "metadata": {
    "scrolled": true
   },
   "outputs": [],
   "source": [
    "# reshape from [samples, timesteps] into [samples, timesteps, features]\n",
    "n_features = 1\n",
    "X = X.reshape((X.shape[0], X.shape[1], n_features))"
   ]
  },
  {
   "cell_type": "code",
   "execution_count": 7,
   "id": "29818086",
   "metadata": {},
   "outputs": [
    {
     "data": {
      "text/plain": [
       "array([[[110],\n",
       "        [125],\n",
       "        [133]],\n",
       "\n",
       "       [[125],\n",
       "        [133],\n",
       "        [146]],\n",
       "\n",
       "       [[133],\n",
       "        [146],\n",
       "        [158]],\n",
       "\n",
       "       [[146],\n",
       "        [158],\n",
       "        [172]],\n",
       "\n",
       "       [[158],\n",
       "        [172],\n",
       "        [187]],\n",
       "\n",
       "       [[172],\n",
       "        [187],\n",
       "        [196]]])"
      ]
     },
     "execution_count": 7,
     "metadata": {},
     "output_type": "execute_result"
    }
   ],
   "source": [
    "X"
   ]
  },
  {
   "cell_type": "code",
   "execution_count": 8,
   "id": "271d7ec1",
   "metadata": {},
   "outputs": [],
   "source": [
    "n_feature = 1"
   ]
  },
  {
   "cell_type": "code",
   "execution_count": 9,
   "id": "40aaf3e7",
   "metadata": {},
   "outputs": [],
   "source": [
    "model = Sequential()\n",
    "model.add(Bidirectional(LSTM(50, activation='relu'),input_shape = (n_steps,n_feature)))\n",
    "model.add(Dense(1))\n",
    "model.compile(optimizer='adam',loss='mse')\n"
   ]
  },
  {
   "cell_type": "code",
   "execution_count": 10,
   "id": "20fa82eb",
   "metadata": {},
   "outputs": [
    {
     "name": "stdout",
     "output_type": "stream",
     "text": [
      "Model: \"sequential\"\n",
      "_________________________________________________________________\n",
      "Layer (type)                 Output Shape              Param #   \n",
      "=================================================================\n",
      "bidirectional (Bidirectional (None, 100)               20800     \n",
      "_________________________________________________________________\n",
      "dense (Dense)                (None, 1)                 101       \n",
      "=================================================================\n",
      "Total params: 20,901\n",
      "Trainable params: 20,901\n",
      "Non-trainable params: 0\n",
      "_________________________________________________________________\n"
     ]
    }
   ],
   "source": [
    "model.summary()"
   ]
  },
  {
   "cell_type": "code",
   "execution_count": 11,
   "id": "ed093636",
   "metadata": {},
   "outputs": [
    {
     "data": {
      "text/plain": [
       "<tensorflow.python.keras.callbacks.History at 0x2387c0e2c18>"
      ]
     },
     "execution_count": 11,
     "metadata": {},
     "output_type": "execute_result"
    }
   ],
   "source": [
    "# fit model\n",
    "model.fit(X, y, epochs=200, verbose=0)"
   ]
  },
  {
   "cell_type": "code",
   "execution_count": 12,
   "id": "0d8ce7fb",
   "metadata": {},
   "outputs": [
    {
     "name": "stdout",
     "output_type": "stream",
     "text": [
      "[[147.0937]]\n"
     ]
    }
   ],
   "source": [
    "#prediction\n",
    "x_input = array([110,125,133])\n",
    "x_input = x_input.reshape((1,n_steps, n_features))\n",
    "yhat = model.predict(x_input, verbose=0)\n",
    "print(yhat)"
   ]
  },
  {
   "cell_type": "code",
   "execution_count": 13,
   "id": "cc00abc0",
   "metadata": {},
   "outputs": [
    {
     "name": "stdout",
     "output_type": "stream",
     "text": [
      "224\n",
      "237\n",
      "252\n",
      "267\n",
      "283\n",
      "300\n",
      "318\n",
      "336\n",
      "356\n",
      "377\n"
     ]
    }
   ],
   "source": [
    "#printing next 10 values\n",
    "for i in range(10):\n",
    "    x_input = np.array(raw_seq[-3:])\n",
    "    x_input = x_input.reshape((1,n_steps, n_features))\n",
    "    yhat = model.predict(x_input, verbose=0)\n",
    "    w=int(yhat)\n",
    "    raw_seq.append(w)\n",
    "    print(w)"
   ]
  },
  {
   "cell_type": "code",
   "execution_count": null,
   "id": "90480309",
   "metadata": {},
   "outputs": [],
   "source": []
  },
  {
   "cell_type": "code",
   "execution_count": null,
   "id": "0e0426b9",
   "metadata": {},
   "outputs": [],
   "source": []
  }
 ],
 "metadata": {
  "kernelspec": {
   "display_name": "Python 3",
   "language": "python",
   "name": "python3"
  },
  "language_info": {
   "codemirror_mode": {
    "name": "ipython",
    "version": 3
   },
   "file_extension": ".py",
   "mimetype": "text/x-python",
   "name": "python",
   "nbconvert_exporter": "python",
   "pygments_lexer": "ipython3",
   "version": "3.6.13"
  }
 },
 "nbformat": 4,
 "nbformat_minor": 5
}
