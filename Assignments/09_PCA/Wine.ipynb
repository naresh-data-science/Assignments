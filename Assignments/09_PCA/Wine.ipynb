{
 "cells": [
  {
   "cell_type": "markdown",
   "id": "20936cd2",
   "metadata": {},
   "source": [
    "# Principal Component Analysis(PCA):360 DigiTMG\n",
    "Principal Component Analysis (PCA) is a statistical procedure that uses an orthogonal transformation that converts a set of correlated variables to a set of uncorrelated variables. PCA is the most widely used tool in exploratory data analysis and in machine learning for predictive models."
   ]
  },
  {
   "cell_type": "markdown",
   "id": "835760bc",
   "metadata": {},
   "source": [
    "# Problem Statement: -\n",
    "Perform hierarchical and K-means clustering on the dataset. After that, perform PCA on the dataset and extract the first 3 principal components and make a new dataset with these 3 principal components as the columns. Now, on this new dataset, perform hierarchical and K-means clustering. Compare the results of clustering on the original dataset and clustering on the principal components dataset (use the scree plot technique to obtain the optimum number of clusters in K-means clustering and check if you’re getting similar results with and without PCA).\n"
   ]
  },
  {
   "cell_type": "code",
   "execution_count": 1,
   "id": "2100b802",
   "metadata": {},
   "outputs": [],
   "source": [
    "import pandas as pd\n",
    "import matplotlib.pylab as plt\n",
    "import numpy as np   #math calcukations\n",
    "import seaborn as sns  #advance visualizations"
   ]
  },
  {
   "cell_type": "code",
   "execution_count": 2,
   "id": "7f92b3fb",
   "metadata": {},
   "outputs": [],
   "source": [
    "wine = pd.read_csv(\"wine.csv\")"
   ]
  },
  {
   "cell_type": "code",
   "execution_count": 3,
   "id": "8d5276c5",
   "metadata": {},
   "outputs": [
    {
     "data": {
      "text/html": [
       "<div>\n",
       "<style scoped>\n",
       "    .dataframe tbody tr th:only-of-type {\n",
       "        vertical-align: middle;\n",
       "    }\n",
       "\n",
       "    .dataframe tbody tr th {\n",
       "        vertical-align: top;\n",
       "    }\n",
       "\n",
       "    .dataframe thead th {\n",
       "        text-align: right;\n",
       "    }\n",
       "</style>\n",
       "<table border=\"1\" class=\"dataframe\">\n",
       "  <thead>\n",
       "    <tr style=\"text-align: right;\">\n",
       "      <th></th>\n",
       "      <th>Type</th>\n",
       "      <th>Alcohol</th>\n",
       "      <th>Malic</th>\n",
       "      <th>Ash</th>\n",
       "      <th>Alcalinity</th>\n",
       "      <th>Magnesium</th>\n",
       "      <th>Phenols</th>\n",
       "      <th>Flavanoids</th>\n",
       "      <th>Nonflavanoids</th>\n",
       "      <th>Proanthocyanins</th>\n",
       "      <th>Color</th>\n",
       "      <th>Hue</th>\n",
       "      <th>Dilution</th>\n",
       "      <th>Proline</th>\n",
       "    </tr>\n",
       "  </thead>\n",
       "  <tbody>\n",
       "    <tr>\n",
       "      <th>0</th>\n",
       "      <td>1</td>\n",
       "      <td>14.23</td>\n",
       "      <td>1.71</td>\n",
       "      <td>2.43</td>\n",
       "      <td>15.6</td>\n",
       "      <td>127</td>\n",
       "      <td>2.80</td>\n",
       "      <td>3.06</td>\n",
       "      <td>0.28</td>\n",
       "      <td>2.29</td>\n",
       "      <td>5.64</td>\n",
       "      <td>1.04</td>\n",
       "      <td>3.92</td>\n",
       "      <td>1065</td>\n",
       "    </tr>\n",
       "    <tr>\n",
       "      <th>1</th>\n",
       "      <td>1</td>\n",
       "      <td>13.20</td>\n",
       "      <td>1.78</td>\n",
       "      <td>2.14</td>\n",
       "      <td>11.2</td>\n",
       "      <td>100</td>\n",
       "      <td>2.65</td>\n",
       "      <td>2.76</td>\n",
       "      <td>0.26</td>\n",
       "      <td>1.28</td>\n",
       "      <td>4.38</td>\n",
       "      <td>1.05</td>\n",
       "      <td>3.40</td>\n",
       "      <td>1050</td>\n",
       "    </tr>\n",
       "    <tr>\n",
       "      <th>2</th>\n",
       "      <td>1</td>\n",
       "      <td>13.16</td>\n",
       "      <td>2.36</td>\n",
       "      <td>2.67</td>\n",
       "      <td>18.6</td>\n",
       "      <td>101</td>\n",
       "      <td>2.80</td>\n",
       "      <td>3.24</td>\n",
       "      <td>0.30</td>\n",
       "      <td>2.81</td>\n",
       "      <td>5.68</td>\n",
       "      <td>1.03</td>\n",
       "      <td>3.17</td>\n",
       "      <td>1185</td>\n",
       "    </tr>\n",
       "    <tr>\n",
       "      <th>3</th>\n",
       "      <td>1</td>\n",
       "      <td>14.37</td>\n",
       "      <td>1.95</td>\n",
       "      <td>2.50</td>\n",
       "      <td>16.8</td>\n",
       "      <td>113</td>\n",
       "      <td>3.85</td>\n",
       "      <td>3.49</td>\n",
       "      <td>0.24</td>\n",
       "      <td>2.18</td>\n",
       "      <td>7.80</td>\n",
       "      <td>0.86</td>\n",
       "      <td>3.45</td>\n",
       "      <td>1480</td>\n",
       "    </tr>\n",
       "    <tr>\n",
       "      <th>4</th>\n",
       "      <td>1</td>\n",
       "      <td>13.24</td>\n",
       "      <td>2.59</td>\n",
       "      <td>2.87</td>\n",
       "      <td>21.0</td>\n",
       "      <td>118</td>\n",
       "      <td>2.80</td>\n",
       "      <td>2.69</td>\n",
       "      <td>0.39</td>\n",
       "      <td>1.82</td>\n",
       "      <td>4.32</td>\n",
       "      <td>1.04</td>\n",
       "      <td>2.93</td>\n",
       "      <td>735</td>\n",
       "    </tr>\n",
       "    <tr>\n",
       "      <th>...</th>\n",
       "      <td>...</td>\n",
       "      <td>...</td>\n",
       "      <td>...</td>\n",
       "      <td>...</td>\n",
       "      <td>...</td>\n",
       "      <td>...</td>\n",
       "      <td>...</td>\n",
       "      <td>...</td>\n",
       "      <td>...</td>\n",
       "      <td>...</td>\n",
       "      <td>...</td>\n",
       "      <td>...</td>\n",
       "      <td>...</td>\n",
       "      <td>...</td>\n",
       "    </tr>\n",
       "    <tr>\n",
       "      <th>173</th>\n",
       "      <td>3</td>\n",
       "      <td>13.71</td>\n",
       "      <td>5.65</td>\n",
       "      <td>2.45</td>\n",
       "      <td>20.5</td>\n",
       "      <td>95</td>\n",
       "      <td>1.68</td>\n",
       "      <td>0.61</td>\n",
       "      <td>0.52</td>\n",
       "      <td>1.06</td>\n",
       "      <td>7.70</td>\n",
       "      <td>0.64</td>\n",
       "      <td>1.74</td>\n",
       "      <td>740</td>\n",
       "    </tr>\n",
       "    <tr>\n",
       "      <th>174</th>\n",
       "      <td>3</td>\n",
       "      <td>13.40</td>\n",
       "      <td>3.91</td>\n",
       "      <td>2.48</td>\n",
       "      <td>23.0</td>\n",
       "      <td>102</td>\n",
       "      <td>1.80</td>\n",
       "      <td>0.75</td>\n",
       "      <td>0.43</td>\n",
       "      <td>1.41</td>\n",
       "      <td>7.30</td>\n",
       "      <td>0.70</td>\n",
       "      <td>1.56</td>\n",
       "      <td>750</td>\n",
       "    </tr>\n",
       "    <tr>\n",
       "      <th>175</th>\n",
       "      <td>3</td>\n",
       "      <td>13.27</td>\n",
       "      <td>4.28</td>\n",
       "      <td>2.26</td>\n",
       "      <td>20.0</td>\n",
       "      <td>120</td>\n",
       "      <td>1.59</td>\n",
       "      <td>0.69</td>\n",
       "      <td>0.43</td>\n",
       "      <td>1.35</td>\n",
       "      <td>10.20</td>\n",
       "      <td>0.59</td>\n",
       "      <td>1.56</td>\n",
       "      <td>835</td>\n",
       "    </tr>\n",
       "    <tr>\n",
       "      <th>176</th>\n",
       "      <td>3</td>\n",
       "      <td>13.17</td>\n",
       "      <td>2.59</td>\n",
       "      <td>2.37</td>\n",
       "      <td>20.0</td>\n",
       "      <td>120</td>\n",
       "      <td>1.65</td>\n",
       "      <td>0.68</td>\n",
       "      <td>0.53</td>\n",
       "      <td>1.46</td>\n",
       "      <td>9.30</td>\n",
       "      <td>0.60</td>\n",
       "      <td>1.62</td>\n",
       "      <td>840</td>\n",
       "    </tr>\n",
       "    <tr>\n",
       "      <th>177</th>\n",
       "      <td>3</td>\n",
       "      <td>14.13</td>\n",
       "      <td>4.10</td>\n",
       "      <td>2.74</td>\n",
       "      <td>24.5</td>\n",
       "      <td>96</td>\n",
       "      <td>2.05</td>\n",
       "      <td>0.76</td>\n",
       "      <td>0.56</td>\n",
       "      <td>1.35</td>\n",
       "      <td>9.20</td>\n",
       "      <td>0.61</td>\n",
       "      <td>1.60</td>\n",
       "      <td>560</td>\n",
       "    </tr>\n",
       "  </tbody>\n",
       "</table>\n",
       "<p>178 rows × 14 columns</p>\n",
       "</div>"
      ],
      "text/plain": [
       "     Type  Alcohol  Malic   Ash  Alcalinity  Magnesium  Phenols  Flavanoids  \\\n",
       "0       1    14.23   1.71  2.43        15.6        127     2.80        3.06   \n",
       "1       1    13.20   1.78  2.14        11.2        100     2.65        2.76   \n",
       "2       1    13.16   2.36  2.67        18.6        101     2.80        3.24   \n",
       "3       1    14.37   1.95  2.50        16.8        113     3.85        3.49   \n",
       "4       1    13.24   2.59  2.87        21.0        118     2.80        2.69   \n",
       "..    ...      ...    ...   ...         ...        ...      ...         ...   \n",
       "173     3    13.71   5.65  2.45        20.5         95     1.68        0.61   \n",
       "174     3    13.40   3.91  2.48        23.0        102     1.80        0.75   \n",
       "175     3    13.27   4.28  2.26        20.0        120     1.59        0.69   \n",
       "176     3    13.17   2.59  2.37        20.0        120     1.65        0.68   \n",
       "177     3    14.13   4.10  2.74        24.5         96     2.05        0.76   \n",
       "\n",
       "     Nonflavanoids  Proanthocyanins  Color   Hue  Dilution  Proline  \n",
       "0             0.28             2.29   5.64  1.04      3.92     1065  \n",
       "1             0.26             1.28   4.38  1.05      3.40     1050  \n",
       "2             0.30             2.81   5.68  1.03      3.17     1185  \n",
       "3             0.24             2.18   7.80  0.86      3.45     1480  \n",
       "4             0.39             1.82   4.32  1.04      2.93      735  \n",
       "..             ...              ...    ...   ...       ...      ...  \n",
       "173           0.52             1.06   7.70  0.64      1.74      740  \n",
       "174           0.43             1.41   7.30  0.70      1.56      750  \n",
       "175           0.43             1.35  10.20  0.59      1.56      835  \n",
       "176           0.53             1.46   9.30  0.60      1.62      840  \n",
       "177           0.56             1.35   9.20  0.61      1.60      560  \n",
       "\n",
       "[178 rows x 14 columns]"
      ]
     },
     "execution_count": 3,
     "metadata": {},
     "output_type": "execute_result"
    }
   ],
   "source": [
    "wine"
   ]
  },
  {
   "cell_type": "code",
   "execution_count": 4,
   "id": "a2b4ca0a",
   "metadata": {},
   "outputs": [
    {
     "data": {
      "text/html": [
       "<div>\n",
       "<style scoped>\n",
       "    .dataframe tbody tr th:only-of-type {\n",
       "        vertical-align: middle;\n",
       "    }\n",
       "\n",
       "    .dataframe tbody tr th {\n",
       "        vertical-align: top;\n",
       "    }\n",
       "\n",
       "    .dataframe thead th {\n",
       "        text-align: right;\n",
       "    }\n",
       "</style>\n",
       "<table border=\"1\" class=\"dataframe\">\n",
       "  <thead>\n",
       "    <tr style=\"text-align: right;\">\n",
       "      <th></th>\n",
       "      <th>Type</th>\n",
       "      <th>Alcohol</th>\n",
       "      <th>Malic</th>\n",
       "      <th>Ash</th>\n",
       "      <th>Alcalinity</th>\n",
       "      <th>Magnesium</th>\n",
       "      <th>Phenols</th>\n",
       "      <th>Flavanoids</th>\n",
       "      <th>Nonflavanoids</th>\n",
       "      <th>Proanthocyanins</th>\n",
       "      <th>Color</th>\n",
       "      <th>Hue</th>\n",
       "      <th>Dilution</th>\n",
       "      <th>Proline</th>\n",
       "    </tr>\n",
       "  </thead>\n",
       "  <tbody>\n",
       "    <tr>\n",
       "      <th>count</th>\n",
       "      <td>178.000000</td>\n",
       "      <td>178.000000</td>\n",
       "      <td>178.000000</td>\n",
       "      <td>178.000000</td>\n",
       "      <td>178.000000</td>\n",
       "      <td>178.000000</td>\n",
       "      <td>178.000000</td>\n",
       "      <td>178.000000</td>\n",
       "      <td>178.000000</td>\n",
       "      <td>178.000000</td>\n",
       "      <td>178.000000</td>\n",
       "      <td>178.000000</td>\n",
       "      <td>178.000000</td>\n",
       "      <td>178.000000</td>\n",
       "    </tr>\n",
       "    <tr>\n",
       "      <th>mean</th>\n",
       "      <td>1.938202</td>\n",
       "      <td>13.000618</td>\n",
       "      <td>2.336348</td>\n",
       "      <td>2.366517</td>\n",
       "      <td>19.494944</td>\n",
       "      <td>99.741573</td>\n",
       "      <td>2.295112</td>\n",
       "      <td>2.029270</td>\n",
       "      <td>0.361854</td>\n",
       "      <td>1.590899</td>\n",
       "      <td>5.058090</td>\n",
       "      <td>0.957449</td>\n",
       "      <td>2.611685</td>\n",
       "      <td>746.893258</td>\n",
       "    </tr>\n",
       "    <tr>\n",
       "      <th>std</th>\n",
       "      <td>0.775035</td>\n",
       "      <td>0.811827</td>\n",
       "      <td>1.117146</td>\n",
       "      <td>0.274344</td>\n",
       "      <td>3.339564</td>\n",
       "      <td>14.282484</td>\n",
       "      <td>0.625851</td>\n",
       "      <td>0.998859</td>\n",
       "      <td>0.124453</td>\n",
       "      <td>0.572359</td>\n",
       "      <td>2.318286</td>\n",
       "      <td>0.228572</td>\n",
       "      <td>0.709990</td>\n",
       "      <td>314.907474</td>\n",
       "    </tr>\n",
       "    <tr>\n",
       "      <th>min</th>\n",
       "      <td>1.000000</td>\n",
       "      <td>11.030000</td>\n",
       "      <td>0.740000</td>\n",
       "      <td>1.360000</td>\n",
       "      <td>10.600000</td>\n",
       "      <td>70.000000</td>\n",
       "      <td>0.980000</td>\n",
       "      <td>0.340000</td>\n",
       "      <td>0.130000</td>\n",
       "      <td>0.410000</td>\n",
       "      <td>1.280000</td>\n",
       "      <td>0.480000</td>\n",
       "      <td>1.270000</td>\n",
       "      <td>278.000000</td>\n",
       "    </tr>\n",
       "    <tr>\n",
       "      <th>25%</th>\n",
       "      <td>1.000000</td>\n",
       "      <td>12.362500</td>\n",
       "      <td>1.602500</td>\n",
       "      <td>2.210000</td>\n",
       "      <td>17.200000</td>\n",
       "      <td>88.000000</td>\n",
       "      <td>1.742500</td>\n",
       "      <td>1.205000</td>\n",
       "      <td>0.270000</td>\n",
       "      <td>1.250000</td>\n",
       "      <td>3.220000</td>\n",
       "      <td>0.782500</td>\n",
       "      <td>1.937500</td>\n",
       "      <td>500.500000</td>\n",
       "    </tr>\n",
       "    <tr>\n",
       "      <th>50%</th>\n",
       "      <td>2.000000</td>\n",
       "      <td>13.050000</td>\n",
       "      <td>1.865000</td>\n",
       "      <td>2.360000</td>\n",
       "      <td>19.500000</td>\n",
       "      <td>98.000000</td>\n",
       "      <td>2.355000</td>\n",
       "      <td>2.135000</td>\n",
       "      <td>0.340000</td>\n",
       "      <td>1.555000</td>\n",
       "      <td>4.690000</td>\n",
       "      <td>0.965000</td>\n",
       "      <td>2.780000</td>\n",
       "      <td>673.500000</td>\n",
       "    </tr>\n",
       "    <tr>\n",
       "      <th>75%</th>\n",
       "      <td>3.000000</td>\n",
       "      <td>13.677500</td>\n",
       "      <td>3.082500</td>\n",
       "      <td>2.557500</td>\n",
       "      <td>21.500000</td>\n",
       "      <td>107.000000</td>\n",
       "      <td>2.800000</td>\n",
       "      <td>2.875000</td>\n",
       "      <td>0.437500</td>\n",
       "      <td>1.950000</td>\n",
       "      <td>6.200000</td>\n",
       "      <td>1.120000</td>\n",
       "      <td>3.170000</td>\n",
       "      <td>985.000000</td>\n",
       "    </tr>\n",
       "    <tr>\n",
       "      <th>max</th>\n",
       "      <td>3.000000</td>\n",
       "      <td>14.830000</td>\n",
       "      <td>5.800000</td>\n",
       "      <td>3.230000</td>\n",
       "      <td>30.000000</td>\n",
       "      <td>162.000000</td>\n",
       "      <td>3.880000</td>\n",
       "      <td>5.080000</td>\n",
       "      <td>0.660000</td>\n",
       "      <td>3.580000</td>\n",
       "      <td>13.000000</td>\n",
       "      <td>1.710000</td>\n",
       "      <td>4.000000</td>\n",
       "      <td>1680.000000</td>\n",
       "    </tr>\n",
       "  </tbody>\n",
       "</table>\n",
       "</div>"
      ],
      "text/plain": [
       "             Type     Alcohol       Malic         Ash  Alcalinity   Magnesium  \\\n",
       "count  178.000000  178.000000  178.000000  178.000000  178.000000  178.000000   \n",
       "mean     1.938202   13.000618    2.336348    2.366517   19.494944   99.741573   \n",
       "std      0.775035    0.811827    1.117146    0.274344    3.339564   14.282484   \n",
       "min      1.000000   11.030000    0.740000    1.360000   10.600000   70.000000   \n",
       "25%      1.000000   12.362500    1.602500    2.210000   17.200000   88.000000   \n",
       "50%      2.000000   13.050000    1.865000    2.360000   19.500000   98.000000   \n",
       "75%      3.000000   13.677500    3.082500    2.557500   21.500000  107.000000   \n",
       "max      3.000000   14.830000    5.800000    3.230000   30.000000  162.000000   \n",
       "\n",
       "          Phenols  Flavanoids  Nonflavanoids  Proanthocyanins       Color  \\\n",
       "count  178.000000  178.000000     178.000000       178.000000  178.000000   \n",
       "mean     2.295112    2.029270       0.361854         1.590899    5.058090   \n",
       "std      0.625851    0.998859       0.124453         0.572359    2.318286   \n",
       "min      0.980000    0.340000       0.130000         0.410000    1.280000   \n",
       "25%      1.742500    1.205000       0.270000         1.250000    3.220000   \n",
       "50%      2.355000    2.135000       0.340000         1.555000    4.690000   \n",
       "75%      2.800000    2.875000       0.437500         1.950000    6.200000   \n",
       "max      3.880000    5.080000       0.660000         3.580000   13.000000   \n",
       "\n",
       "              Hue    Dilution      Proline  \n",
       "count  178.000000  178.000000   178.000000  \n",
       "mean     0.957449    2.611685   746.893258  \n",
       "std      0.228572    0.709990   314.907474  \n",
       "min      0.480000    1.270000   278.000000  \n",
       "25%      0.782500    1.937500   500.500000  \n",
       "50%      0.965000    2.780000   673.500000  \n",
       "75%      1.120000    3.170000   985.000000  \n",
       "max      1.710000    4.000000  1680.000000  "
      ]
     },
     "execution_count": 4,
     "metadata": {},
     "output_type": "execute_result"
    }
   ],
   "source": [
    "wine.describe()"
   ]
  },
  {
   "cell_type": "code",
   "execution_count": 5,
   "id": "6053ef84",
   "metadata": {},
   "outputs": [
    {
     "name": "stdout",
     "output_type": "stream",
     "text": [
      "<class 'pandas.core.frame.DataFrame'>\n",
      "RangeIndex: 178 entries, 0 to 177\n",
      "Data columns (total 14 columns):\n",
      " #   Column           Non-Null Count  Dtype  \n",
      "---  ------           --------------  -----  \n",
      " 0   Type             178 non-null    int64  \n",
      " 1   Alcohol          178 non-null    float64\n",
      " 2   Malic            178 non-null    float64\n",
      " 3   Ash              178 non-null    float64\n",
      " 4   Alcalinity       178 non-null    float64\n",
      " 5   Magnesium        178 non-null    int64  \n",
      " 6   Phenols          178 non-null    float64\n",
      " 7   Flavanoids       178 non-null    float64\n",
      " 8   Nonflavanoids    178 non-null    float64\n",
      " 9   Proanthocyanins  178 non-null    float64\n",
      " 10  Color            178 non-null    float64\n",
      " 11  Hue              178 non-null    float64\n",
      " 12  Dilution         178 non-null    float64\n",
      " 13  Proline          178 non-null    int64  \n",
      "dtypes: float64(11), int64(3)\n",
      "memory usage: 19.6 KB\n"
     ]
    }
   ],
   "source": [
    "wine.info()"
   ]
  },
  {
   "cell_type": "code",
   "execution_count": 6,
   "id": "b83c2f52",
   "metadata": {},
   "outputs": [
    {
     "data": {
      "image/png": "[encoded data removed]",
      "text/plain": [
       "<Figure size 432x288 with 1 Axes>"
      ]
     },
     "metadata": {
      "needs_background": "light"
     },
     "output_type": "display_data"
    }
   ],
   "source": [
    "plt.boxplot(wine.Malic);plt.title('Boxplot');plt.show()  # outliers present\n"
   ]
  },
  {
   "cell_type": "code",
   "execution_count": 7,
   "id": "a9d1f08e",
   "metadata": {},
   "outputs": [
    {
     "data": {
      "image/png": "[encoded data removed]",
      "text/plain": [
       "<Figure size 432x288 with 1 Axes>"
      ]
     },
     "metadata": {
      "needs_background": "light"
     },
     "output_type": "display_data"
    }
   ],
   "source": [
    "plt.boxplot(wine.Ash);plt.title('Boxplot');plt.show()  # outliers presentBalance\n"
   ]
  },
  {
   "cell_type": "code",
   "execution_count": 8,
   "id": "fa19b8a4",
   "metadata": {},
   "outputs": [
    {
     "data": {
      "image/png": "[encoded data removed]",
      "text/plain": [
       "<Figure size 432x288 with 1 Axes>"
      ]
     },
     "metadata": {
      "needs_background": "light"
     },
     "output_type": "display_data"
    }
   ],
   "source": [
    "plt.boxplot(wine.Alcalinity);plt.title('Boxplot');plt.show()  # outliers presentBalance\n"
   ]
  },
  {
   "cell_type": "code",
   "execution_count": 9,
   "id": "bb74236b",
   "metadata": {},
   "outputs": [
    {
     "data": {
      "image/png": "[encoded data removed]",
      "text/plain": [
       "<Figure size 432x288 with 1 Axes>"
      ]
     },
     "metadata": {
      "needs_background": "light"
     },
     "output_type": "display_data"
    }
   ],
   "source": [
    "plt.boxplot(wine.Magnesium);plt.title('Boxplot');plt.show()  # outliers presentBalance\n"
   ]
  },
  {
   "cell_type": "code",
   "execution_count": 10,
   "id": "3dc5353a",
   "metadata": {},
   "outputs": [
    {
     "data": {
      "image/png": "[encoded data removed]",
      "text/plain": [
       "<Figure size 432x288 with 1 Axes>"
      ]
     },
     "metadata": {
      "needs_background": "light"
     },
     "output_type": "display_data"
    }
   ],
   "source": [
    "plt.boxplot(wine.Proanthocyanins);plt.title('Boxplot');plt.show()  # outliers presentBalance\n"
   ]
  },
  {
   "cell_type": "code",
   "execution_count": 11,
   "id": "77ac64ba",
   "metadata": {},
   "outputs": [
    {
     "data": {
      "image/png": "[encoded data removed]",
      "text/plain": [
       "<Figure size 432x288 with 1 Axes>"
      ]
     },
     "metadata": {
      "needs_background": "light"
     },
     "output_type": "display_data"
    }
   ],
   "source": [
    "plt.boxplot(wine.Color);plt.title('Boxplot');plt.show()  # outliers presentBalance\n"
   ]
  },
  {
   "cell_type": "code",
   "execution_count": 12,
   "id": "a295c52d",
   "metadata": {},
   "outputs": [
    {
     "data": {
      "image/png": "[encoded data removed]",
      "text/plain": [
       "<Figure size 432x288 with 1 Axes>"
      ]
     },
     "metadata": {
      "needs_background": "light"
     },
     "output_type": "display_data"
    }
   ],
   "source": [
    "plt.boxplot(wine.Hue);plt.title('Boxplot');plt.show()  # outliers presentBalance\n"
   ]
  },
  {
   "cell_type": "markdown",
   "id": "654085bc",
   "metadata": {},
   "source": [
    "# Winsorization  is the transformation of statistics by limiting extreme values in the statistical data to reduce the effect of possibly spurious outliers. "
   ]
  },
  {
   "cell_type": "code",
   "execution_count": 13,
   "id": "05691029",
   "metadata": {},
   "outputs": [
    {
     "data": {
      "image/png": "[encoded data removed]",
      "text/plain": [
       "<Figure size 432x288 with 1 Axes>"
      ]
     },
     "metadata": {
      "needs_background": "light"
     },
     "output_type": "display_data"
    }
   ],
   "source": [
    "from scipy.stats.mstats import winsorize\n",
    "\n",
    "wine['Malic']=winsorize(wine.Malic,limits=[0.02, 0.098])   \n",
    "plt.boxplot(wine['Malic']);plt.title('Boxplot');plt.show()\n"
   ]
  },
  {
   "cell_type": "code",
   "execution_count": 14,
   "id": "5321c998",
   "metadata": {},
   "outputs": [
    {
     "data": {
      "image/png": "[encoded data removed]",
      "text/plain": [
       "<Figure size 432x288 with 1 Axes>"
      ]
     },
     "metadata": {
      "needs_background": "light"
     },
     "output_type": "display_data"
    },
    {
     "data": {
      "image/png": "[encoded data removed]",
      "text/plain": [
       "<Figure size 432x288 with 1 Axes>"
      ]
     },
     "metadata": {
      "needs_background": "light"
     },
     "output_type": "display_data"
    },
    {
     "data": {
      "image/png": "[encoded data removed]",
      "text/plain": [
       "<Figure size 432x288 with 1 Axes>"
      ]
     },
     "metadata": {
      "needs_background": "light"
     },
     "output_type": "display_data"
    },
    {
     "data": {
      "image/png": "[encoded data removed]",
      "text/plain": [
       "<Figure size 432x288 with 1 Axes>"
      ]
     },
     "metadata": {
      "needs_background": "light"
     },
     "output_type": "display_data"
    },
    {
     "data": {
      "image/png": "[encoded data removed]",
      "text/plain": [
       "<Figure size 432x288 with 1 Axes>"
      ]
     },
     "metadata": {
      "needs_background": "light"
     },
     "output_type": "display_data"
    },
    {
     "data": {
      "image/png": "[encoded data removed]",
      "text/plain": [
       "<Figure size 432x288 with 1 Axes>"
      ]
     },
     "metadata": {
      "needs_background": "light"
     },
     "output_type": "display_data"
    }
   ],
   "source": [
    "wine['Ash']=winsorize(wine.Malic,limits=[0.01, 0.099])   \n",
    "plt.boxplot(wine['Ash']);plt.title('Boxplot');plt.show()\n",
    "\n",
    "wine['Alcalinity']=winsorize(wine.Malic,limits=[0.02, 0.098])   \n",
    "plt.boxplot(wine['Alcalinity']);plt.title('Boxplot');plt.show()\n",
    "\n",
    "wine['Magnesium']=winsorize(wine.Malic,limits=[0.03, 0.097])   \n",
    "plt.boxplot(wine['Magnesium']);plt.title('Boxplot');plt.show()\n",
    "\n",
    "wine['Proanthocyanins']=winsorize(wine.Malic,limits=[0.02, 0.098])   \n",
    "plt.boxplot(wine['Proanthocyanins']);plt.title('Boxplot');plt.show()\n",
    "\n",
    "wine['Color']=winsorize(wine.Malic,limits=[0.03, 0.097])   \n",
    "plt.boxplot(wine['Color']);plt.title('Boxplot');plt.show()\n",
    "\n",
    "wine['Hue']=winsorize(wine.Malic,limits=[0.01, 0.099])   \n",
    "plt.boxplot(wine['Hue']);plt.title('Boxplot');plt.show()"
   ]
  },
  {
   "cell_type": "code",
   "execution_count": 15,
   "id": "a7a9a1ab",
   "metadata": {},
   "outputs": [
    {
     "name": "stdout",
     "output_type": "stream",
     "text": [
      "[[9.38860937e-04 1.33599911e-02 1.60545220e-03 ... 1.60545220e-03\n",
      "  3.68033487e-03 9.99886898e-01]\n",
      " [9.52284353e-04 1.25701535e-02 1.69506615e-03 ... 1.69506615e-03\n",
      "  3.23776680e-03 9.99898570e-01]\n",
      " [8.43809255e-04 1.11045298e-02 1.99138984e-03 ... 1.99138984e-03\n",
      "  2.67487534e-03 9.99913967e-01]\n",
      " ...\n",
      " [3.59203612e-03 1.58887731e-02 4.77740803e-03 ... 4.77740803e-03\n",
      "  1.86785878e-03 9.99783385e-01]\n",
      " [3.57083273e-03 1.56759557e-02 3.08281893e-03 ... 3.08281893e-03\n",
      "  1.92824968e-03 9.99833165e-01]\n",
      " [5.35434561e-03 2.52189678e-02 7.12127966e-03 ... 7.12127966e-03\n",
      "  2.85565099e-03 9.99477847e-01]]\n"
     ]
    }
   ],
   "source": [
    "from sklearn import preprocessing   #package for normalize\n",
    "wine_normalized = preprocessing.normalize(wine)\n",
    "print(wine_normalized)\n"
   ]
  },
  {
   "cell_type": "code",
   "execution_count": 16,
   "id": "1e93a0fa",
   "metadata": {},
   "outputs": [
    {
     "data": {
      "text/plain": [
       "Type              -1.322787\n",
       "Alcohol           -0.852500\n",
       "Malic             -0.951546\n",
       "Ash               -0.951546\n",
       "Alcalinity        -0.951546\n",
       "Magnesium         -0.952482\n",
       "Phenols           -0.835627\n",
       "Flavanoids        -0.880382\n",
       "Nonflavanoids     -0.637191\n",
       "Proanthocyanins   -0.951546\n",
       "Color             -0.952482\n",
       "Hue               -0.951546\n",
       "Dilution          -1.086435\n",
       "Proline           -0.248403\n",
       "dtype: float64"
      ]
     },
     "execution_count": 16,
     "metadata": {},
     "output_type": "execute_result"
    },
    {
     "data": {
      "image/png": "[encoded data removed]",
      "text/plain": [
       "<Figure size 432x288 with 1 Axes>"
      ]
     },
     "metadata": {
      "needs_background": "light"
     },
     "output_type": "display_data"
    }
   ],
   "source": [
    "##########################Univariate, Bivariate################\n",
    "plt.hist(wine[\"Alcohol\"])   #Univariate\n",
    "\n",
    "plt.hist(wine[\"Color\"])\n",
    "\n",
    "plt.scatter(wine[\"Type\"], wine[\"Alcohol\"]);plt.xlabel('Type');plt.ylabel('Alcohol')   #Bivariate\n",
    "\n",
    "wine.skew(axis = 0, skipna = True) \n",
    "\n",
    "wine.kurtosis(axis = 0, skipna = True)\n"
   ]
  },
  {
   "cell_type": "code",
   "execution_count": 17,
   "id": "6646917a",
   "metadata": {},
   "outputs": [],
   "source": [
    "##################### Hierarchical Clustering ##########################\n",
    "from scipy.cluster.hierarchy import linkage\n",
    "import scipy.cluster.hierarchy as sch \n",
    "\n",
    "###Fidning Distance\n",
    "z = linkage(wine_normalized, method = \"complete\", metric = \"euclidean\")\n"
   ]
  },
  {
   "cell_type": "code",
   "execution_count": 19,
   "id": "1448c9ab",
   "metadata": {},
   "outputs": [
    {
     "data": {
      "image/png": "[encoded data removed]",
      "text/plain": [
       "<Figure size 1080x576 with 1 Axes>"
      ]
     },
     "metadata": {
      "needs_background": "light"
     },
     "output_type": "display_data"
    }
   ],
   "source": [
    "#####Dendogram\n",
    "plt.figure(figsize=(15, 8));plt.title('Hierarchical Clustering Dendrogram');plt.xlabel('Index');plt.ylabel('Distance')\n",
    "sch.dendrogram(z, leaf_rotation = 0,  leaf_font_size = 5 )  \n",
    "plt.show()\n"
   ]
  },
  {
   "cell_type": "code",
   "execution_count": 20,
   "id": "747cd81a",
   "metadata": {},
   "outputs": [],
   "source": [
    "# Now applying AgglomerativeClustering choosing 3 as clusters from the above dendrogram\n",
    "from sklearn.cluster import AgglomerativeClustering\n",
    "h_complete = AgglomerativeClustering(n_clusters = 3, linkage = 'complete', affinity = \"euclidean\").fit(wine_normalized) \n",
    "h_complete.labels_\n",
    "\n",
    "cluster_labels = pd.Series(h_complete.labels_)\n"
   ]
  },
  {
   "cell_type": "code",
   "execution_count": 21,
   "id": "d86157a4",
   "metadata": {},
   "outputs": [
    {
     "data": {
      "text/html": [
       "<div>\n",
       "<style scoped>\n",
       "    .dataframe tbody tr th:only-of-type {\n",
       "        vertical-align: middle;\n",
       "    }\n",
       "\n",
       "    .dataframe tbody tr th {\n",
       "        vertical-align: top;\n",
       "    }\n",
       "\n",
       "    .dataframe thead th {\n",
       "        text-align: right;\n",
       "    }\n",
       "</style>\n",
       "<table border=\"1\" class=\"dataframe\">\n",
       "  <thead>\n",
       "    <tr style=\"text-align: right;\">\n",
       "      <th></th>\n",
       "      <th>Type</th>\n",
       "      <th>Alcohol</th>\n",
       "      <th>Malic</th>\n",
       "      <th>Ash</th>\n",
       "      <th>Alcalinity</th>\n",
       "      <th>Magnesium</th>\n",
       "      <th>Phenols</th>\n",
       "      <th>Flavanoids</th>\n",
       "      <th>Nonflavanoids</th>\n",
       "      <th>Proanthocyanins</th>\n",
       "      <th>Color</th>\n",
       "      <th>Hue</th>\n",
       "      <th>Dilution</th>\n",
       "      <th>Proline</th>\n",
       "      <th>clust</th>\n",
       "    </tr>\n",
       "    <tr>\n",
       "      <th>clust</th>\n",
       "      <th></th>\n",
       "      <th></th>\n",
       "      <th></th>\n",
       "      <th></th>\n",
       "      <th></th>\n",
       "      <th></th>\n",
       "      <th></th>\n",
       "      <th></th>\n",
       "      <th></th>\n",
       "      <th></th>\n",
       "      <th></th>\n",
       "      <th></th>\n",
       "      <th></th>\n",
       "      <th></th>\n",
       "      <th></th>\n",
       "    </tr>\n",
       "  </thead>\n",
       "  <tbody>\n",
       "    <tr>\n",
       "      <th>0</th>\n",
       "      <td>2.047619</td>\n",
       "      <td>12.499048</td>\n",
       "      <td>2.411429</td>\n",
       "      <td>2.411429</td>\n",
       "      <td>2.411429</td>\n",
       "      <td>2.413333</td>\n",
       "      <td>2.350476</td>\n",
       "      <td>2.244286</td>\n",
       "      <td>0.357619</td>\n",
       "      <td>2.411429</td>\n",
       "      <td>2.413333</td>\n",
       "      <td>2.411429</td>\n",
       "      <td>2.889048</td>\n",
       "      <td>362.142857</td>\n",
       "      <td>0</td>\n",
       "    </tr>\n",
       "    <tr>\n",
       "      <th>1</th>\n",
       "      <td>2.284314</td>\n",
       "      <td>12.762745</td>\n",
       "      <td>2.387549</td>\n",
       "      <td>2.387549</td>\n",
       "      <td>2.387549</td>\n",
       "      <td>2.387941</td>\n",
       "      <td>2.053039</td>\n",
       "      <td>1.604902</td>\n",
       "      <td>0.395686</td>\n",
       "      <td>2.387549</td>\n",
       "      <td>2.387941</td>\n",
       "      <td>2.387549</td>\n",
       "      <td>2.369412</td>\n",
       "      <td>610.166667</td>\n",
       "      <td>1</td>\n",
       "    </tr>\n",
       "    <tr>\n",
       "      <th>2</th>\n",
       "      <td>1.254545</td>\n",
       "      <td>13.633273</td>\n",
       "      <td>1.995455</td>\n",
       "      <td>1.995455</td>\n",
       "      <td>1.995455</td>\n",
       "      <td>1.995455</td>\n",
       "      <td>2.722909</td>\n",
       "      <td>2.734182</td>\n",
       "      <td>0.300727</td>\n",
       "      <td>1.995455</td>\n",
       "      <td>1.995455</td>\n",
       "      <td>1.995455</td>\n",
       "      <td>2.955091</td>\n",
       "      <td>1147.363636</td>\n",
       "      <td>2</td>\n",
       "    </tr>\n",
       "  </tbody>\n",
       "</table>\n",
       "</div>"
      ],
      "text/plain": [
       "           Type    Alcohol     Malic       Ash  Alcalinity  Magnesium  \\\n",
       "clust                                                                   \n",
       "0      2.047619  12.499048  2.411429  2.411429    2.411429   2.413333   \n",
       "1      2.284314  12.762745  2.387549  2.387549    2.387549   2.387941   \n",
       "2      1.254545  13.633273  1.995455  1.995455    1.995455   1.995455   \n",
       "\n",
       "        Phenols  Flavanoids  Nonflavanoids  Proanthocyanins     Color  \\\n",
       "clust                                                                   \n",
       "0      2.350476    2.244286       0.357619         2.411429  2.413333   \n",
       "1      2.053039    1.604902       0.395686         2.387549  2.387941   \n",
       "2      2.722909    2.734182       0.300727         1.995455  1.995455   \n",
       "\n",
       "            Hue  Dilution      Proline  clust  \n",
       "clust                                          \n",
       "0      2.411429  2.889048   362.142857      0  \n",
       "1      2.387549  2.369412   610.166667      1  \n",
       "2      1.995455  2.955091  1147.363636      2  "
      ]
     },
     "execution_count": 21,
     "metadata": {},
     "output_type": "execute_result"
    }
   ],
   "source": [
    "wine['clust'] = cluster_labels # creating a new column and assigning it to new column \n",
    "\n",
    "wine.head()\n",
    "\n",
    "# Aggregate mean of each cluster\n",
    "wine.iloc[:, 0:].groupby(wine.clust).mean()\n"
   ]
  },
  {
   "cell_type": "code",
   "execution_count": 22,
   "id": "92abad22",
   "metadata": {},
   "outputs": [
    {
     "name": "stdout",
     "output_type": "stream",
     "text": [
      "     Type  Alcohol\n",
      "0       1    14.23\n",
      "1       1    13.20\n",
      "2       1    13.16\n",
      "3       1    14.37\n",
      "4       1    13.24\n",
      "..    ...      ...\n",
      "173     3    13.71\n",
      "174     3    13.40\n",
      "175     3    13.27\n",
      "176     3    13.17\n",
      "177     3    14.13\n",
      "\n",
      "[178 rows x 2 columns]\n"
     ]
    },
    {
     "data": {
      "text/plain": [
       "<AxesSubplot:xlabel='Type', ylabel='Alcohol'>"
      ]
     },
     "execution_count": 22,
     "metadata": {},
     "output_type": "execute_result"
    },
    {
     "data": {
      "image/png": "[encoded data removed]",
      "text/plain": [
       "<Figure size 432x288 with 2 Axes>"
      ]
     },
     "metadata": {
      "needs_background": "light"
     },
     "output_type": "display_data"
    }
   ],
   "source": [
    "################################## K means clustering ########################\n",
    "\n",
    "from sklearn.cluster import\tKMeans\n",
    "df_data = pd.DataFrame(wine,columns=['Type','Alcohol'])\n",
    "print(df_data)\n",
    "model1 = KMeans(n_clusters = 3).fit(df_data)\n",
    "df_data.plot(x = \"Type\", y = \"Alcohol\", c = model1.labels_, kind=\"scatter\", s = 10, cmap = plt.cm.coolwarm)\n"
   ]
  },
  {
   "cell_type": "code",
   "execution_count": 23,
   "id": "558c4a84",
   "metadata": {},
   "outputs": [
    {
     "data": {
      "text/plain": [
       "[0.008741723957442903,\n",
       " 0.0058309900327630365,\n",
       " 0.004450515365720012,\n",
       " 0.003411618448410316,\n",
       " 0.0027486410110211397,\n",
       " 0.0022988626943913587,\n",
       " 0.002076975927007789]"
      ]
     },
     "execution_count": 23,
     "metadata": {},
     "output_type": "execute_result"
    }
   ],
   "source": [
    "###### scree plot or elbow curve ############\n",
    "TWSS = []\n",
    "k = list(range(2, 9))\n",
    "\n",
    "for i in k:\n",
    "    kmeans = KMeans(n_clusters = i)\n",
    "    kmeans.fit(wine_normalized)\n",
    "    TWSS.append(kmeans.inertia_)\n",
    "    \n",
    "TWSS"
   ]
  },
  {
   "cell_type": "code",
   "execution_count": 25,
   "id": "d942cb08",
   "metadata": {},
   "outputs": [
    {
     "data": {
      "text/plain": [
       "Text(0, 0.5, 'total_within_SS')"
      ]
     },
     "execution_count": 25,
     "metadata": {},
     "output_type": "execute_result"
    },
    {
     "data": {
      "image/png": "[encoded data removed]",
      "text/plain": [
       "<Figure size 432x288 with 1 Axes>"
      ]
     },
     "metadata": {
      "needs_background": "light"
     },
     "output_type": "display_data"
    }
   ],
   "source": [
    "# Scree plot \n",
    "plt.plot(k, TWSS, 'ro-');plt.xlabel(\"No_of_Clusters\");plt.ylabel(\"total_within_SS\")\n"
   ]
  },
  {
   "cell_type": "code",
   "execution_count": 28,
   "id": "ae766c60",
   "metadata": {},
   "outputs": [
    {
     "data": {
      "text/html": [
       "<div>\n",
       "<style scoped>\n",
       "    .dataframe tbody tr th:only-of-type {\n",
       "        vertical-align: middle;\n",
       "    }\n",
       "\n",
       "    .dataframe tbody tr th {\n",
       "        vertical-align: top;\n",
       "    }\n",
       "\n",
       "    .dataframe thead th {\n",
       "        text-align: right;\n",
       "    }\n",
       "</style>\n",
       "<table border=\"1\" class=\"dataframe\">\n",
       "  <thead>\n",
       "    <tr style=\"text-align: right;\">\n",
       "      <th></th>\n",
       "      <th>Type</th>\n",
       "      <th>Alcohol</th>\n",
       "      <th>Malic</th>\n",
       "      <th>Ash</th>\n",
       "      <th>Alcalinity</th>\n",
       "      <th>Magnesium</th>\n",
       "      <th>Phenols</th>\n",
       "      <th>Flavanoids</th>\n",
       "      <th>Nonflavanoids</th>\n",
       "      <th>Proanthocyanins</th>\n",
       "      <th>Color</th>\n",
       "      <th>Hue</th>\n",
       "      <th>Dilution</th>\n",
       "      <th>Proline</th>\n",
       "    </tr>\n",
       "    <tr>\n",
       "      <th>clust</th>\n",
       "      <th></th>\n",
       "      <th></th>\n",
       "      <th></th>\n",
       "      <th></th>\n",
       "      <th></th>\n",
       "      <th></th>\n",
       "      <th></th>\n",
       "      <th></th>\n",
       "      <th></th>\n",
       "      <th></th>\n",
       "      <th></th>\n",
       "      <th></th>\n",
       "      <th></th>\n",
       "      <th></th>\n",
       "    </tr>\n",
       "  </thead>\n",
       "  <tbody>\n",
       "    <tr>\n",
       "      <th>0</th>\n",
       "      <td>1.387500</td>\n",
       "      <td>13.367625</td>\n",
       "      <td>1.860625</td>\n",
       "      <td>1.860625</td>\n",
       "      <td>1.860625</td>\n",
       "      <td>1.860625</td>\n",
       "      <td>2.63625</td>\n",
       "      <td>2.584625</td>\n",
       "      <td>0.318250</td>\n",
       "      <td>1.860625</td>\n",
       "      <td>1.860625</td>\n",
       "      <td>1.860625</td>\n",
       "      <td>2.944500</td>\n",
       "      <td>1021.462500</td>\n",
       "    </tr>\n",
       "    <tr>\n",
       "      <th>1</th>\n",
       "      <td>2.125000</td>\n",
       "      <td>12.573750</td>\n",
       "      <td>2.457500</td>\n",
       "      <td>2.457500</td>\n",
       "      <td>2.457500</td>\n",
       "      <td>2.459167</td>\n",
       "      <td>2.33000</td>\n",
       "      <td>2.139583</td>\n",
       "      <td>0.357917</td>\n",
       "      <td>2.457500</td>\n",
       "      <td>2.459167</td>\n",
       "      <td>2.457500</td>\n",
       "      <td>2.792500</td>\n",
       "      <td>372.833333</td>\n",
       "    </tr>\n",
       "    <tr>\n",
       "      <th>2</th>\n",
       "      <td>2.472973</td>\n",
       "      <td>12.742297</td>\n",
       "      <td>2.649865</td>\n",
       "      <td>2.649865</td>\n",
       "      <td>2.649865</td>\n",
       "      <td>2.650405</td>\n",
       "      <td>1.91500</td>\n",
       "      <td>1.393108</td>\n",
       "      <td>0.410270</td>\n",
       "      <td>2.649865</td>\n",
       "      <td>2.650405</td>\n",
       "      <td>2.649865</td>\n",
       "      <td>2.193243</td>\n",
       "      <td>571.378378</td>\n",
       "    </tr>\n",
       "  </tbody>\n",
       "</table>\n",
       "</div>"
      ],
      "text/plain": [
       "           Type    Alcohol     Malic       Ash  Alcalinity  Magnesium  \\\n",
       "clust                                                                   \n",
       "0      1.387500  13.367625  1.860625  1.860625    1.860625   1.860625   \n",
       "1      2.125000  12.573750  2.457500  2.457500    2.457500   2.459167   \n",
       "2      2.472973  12.742297  2.649865  2.649865    2.649865   2.650405   \n",
       "\n",
       "       Phenols  Flavanoids  Nonflavanoids  Proanthocyanins     Color  \\\n",
       "clust                                                                  \n",
       "0      2.63625    2.584625       0.318250         1.860625  1.860625   \n",
       "1      2.33000    2.139583       0.357917         2.457500  2.459167   \n",
       "2      1.91500    1.393108       0.410270         2.649865  2.650405   \n",
       "\n",
       "            Hue  Dilution      Proline  \n",
       "clust                                   \n",
       "0      1.860625  2.944500  1021.462500  \n",
       "1      2.457500  2.792500   372.833333  \n",
       "2      2.649865  2.193243   571.378378  "
      ]
     },
     "execution_count": 28,
     "metadata": {},
     "output_type": "execute_result"
    }
   ],
   "source": [
    "############# Selecting 3 clusters from the above scree plot which is the optimum number of clusters \n",
    "model = KMeans(n_clusters = 3)\n",
    "model.fit(wine_normalized)\n",
    "model.labels_ # getting the labels of clusters assigned to each row \n",
    "mb = pd.Series(model.labels_)  # converting numpy array into pandas series object \n",
    "wine['clust'] = mb # creating a  new column and assigning it to new column \n",
    "wine.head()\n",
    "wine.iloc[:, :].groupby(wine.clust).mean()\n"
   ]
  },
  {
   "cell_type": "code",
   "execution_count": 32,
   "id": "b844b253",
   "metadata": {},
   "outputs": [],
   "source": [
    "# creating a csv file \n",
    "wine.to_csv(\"wines.csv\", encoding = \"utf-8\")\n"
   ]
  },
  {
   "cell_type": "code",
   "execution_count": 33,
   "id": "6415e1bc",
   "metadata": {},
   "outputs": [
    {
     "data": {
      "text/plain": [
       "'C:\\\\Users\\\\WELCOME\\\\Downloads\\\\PCA'"
      ]
     },
     "execution_count": 33,
     "metadata": {},
     "output_type": "execute_result"
    }
   ],
   "source": [
    "\n",
    "import os\n",
    "os.getcwd()"
   ]
  },
  {
   "cell_type": "code",
   "execution_count": 35,
   "id": "7c6b8eaa",
   "metadata": {},
   "outputs": [
    {
     "name": "stdout",
     "output_type": "stream",
     "text": [
      "<class 'pandas.core.frame.DataFrame'>\n",
      "RangeIndex: 178 entries, 0 to 177\n",
      "Data columns (total 16 columns):\n",
      " #   Column           Non-Null Count  Dtype  \n",
      "---  ------           --------------  -----  \n",
      " 0   Unnamed: 0       178 non-null    int64  \n",
      " 1   Type             178 non-null    int64  \n",
      " 2   Alcohol          178 non-null    float64\n",
      " 3   Malic            178 non-null    float64\n",
      " 4   Ash              178 non-null    float64\n",
      " 5   Alcalinity       178 non-null    float64\n",
      " 6   Magnesium        178 non-null    float64\n",
      " 7   Phenols          178 non-null    float64\n",
      " 8   Flavanoids       178 non-null    float64\n",
      " 9   Nonflavanoids    178 non-null    float64\n",
      " 10  Proanthocyanins  178 non-null    float64\n",
      " 11  Color            178 non-null    float64\n",
      " 12  Hue              178 non-null    float64\n",
      " 13  Dilution         178 non-null    float64\n",
      " 14  Proline          178 non-null    int64  \n",
      " 15  clust            178 non-null    int64  \n",
      "dtypes: float64(12), int64(4)\n",
      "memory usage: 22.4 KB\n"
     ]
    }
   ],
   "source": [
    "################################  PCA  ##############################################\n",
    "wine = pd.read_csv(\"wines.csv\")\n",
    "wine.describe()\n",
    "wine.info()"
   ]
  },
  {
   "cell_type": "code",
   "execution_count": 36,
   "id": "0cb0fa32",
   "metadata": {},
   "outputs": [
    {
     "data": {
      "image/png": "[encoded data removed]",
      "text/plain": [
       "<Figure size 432x288 with 1 Axes>"
      ]
     },
     "metadata": {
      "needs_background": "light"
     },
     "output_type": "display_data"
    },
    {
     "data": {
      "image/png": "[encoded data removed]",
      "text/plain": [
       "<Figure size 432x288 with 1 Axes>"
      ]
     },
     "metadata": {
      "needs_background": "light"
     },
     "output_type": "display_data"
    },
    {
     "data": {
      "image/png": "[encoded data removed]",
      "text/plain": [
       "<Figure size 432x288 with 1 Axes>"
      ]
     },
     "metadata": {
      "needs_background": "light"
     },
     "output_type": "display_data"
    },
    {
     "data": {
      "image/png": "[encoded data removed]",
      "text/plain": [
       "<Figure size 432x288 with 1 Axes>"
      ]
     },
     "metadata": {
      "needs_background": "light"
     },
     "output_type": "display_data"
    },
    {
     "data": {
      "image/png": "[encoded data removed]",
      "text/plain": [
       "<Figure size 432x288 with 1 Axes>"
      ]
     },
     "metadata": {
      "needs_background": "light"
     },
     "output_type": "display_data"
    },
    {
     "data": {
      "image/png": "[encoded data removed]",
      "text/plain": [
       "<Figure size 432x288 with 1 Axes>"
      ]
     },
     "metadata": {
      "needs_background": "light"
     },
     "output_type": "display_data"
    },
    {
     "data": {
      "image/png": "[encoded data removed]",
      "text/plain": [
       "<Figure size 432x288 with 1 Axes>"
      ]
     },
     "metadata": {
      "needs_background": "light"
     },
     "output_type": "display_data"
    }
   ],
   "source": [
    "#############Winsorization########################\n",
    "from scipy.stats.mstats import winsorize\n",
    "\n",
    "wine['Malic']=winsorize(wine.Malic,limits=[0.02, 0.098])   \n",
    "plt.boxplot(wine['Malic']);plt.title('Boxplot');plt.show()\n",
    "\n",
    "wine['Ash']=winsorize(wine.Malic,limits=[0.01, 0.099])   \n",
    "plt.boxplot(wine['Ash']);plt.title('Boxplot');plt.show()\n",
    "\n",
    "wine['Alcalinity']=winsorize(wine.Malic,limits=[0.02, 0.098])   \n",
    "plt.boxplot(wine['Alcalinity']);plt.title('Boxplot');plt.show()\n",
    "\n",
    "wine['Magnesium']=winsorize(wine.Malic,limits=[0.03, 0.097])   \n",
    "plt.boxplot(wine['Magnesium']);plt.title('Boxplot');plt.show()\n",
    "\n",
    "wine['Proanthocyanins']=winsorize(wine.Malic,limits=[0.02, 0.098])   \n",
    "plt.boxplot(wine['Proanthocyanins']);plt.title('Boxplot');plt.show()\n",
    "\n",
    "wine['Color']=winsorize(wine.Malic,limits=[0.03, 0.097])   \n",
    "plt.boxplot(wine['Color']);plt.title('Boxplot');plt.show()\n",
    "\n",
    "wine['Hue']=winsorize(wine.Malic,limits=[0.01, 0.099])   \n",
    "plt.boxplot(wine['Hue']);plt.title('Boxplot');plt.show()\n",
    "\n",
    "from sklearn.decomposition import PCA\n",
    "from sklearn.preprocessing import scale "
   ]
  },
  {
   "cell_type": "code",
   "execution_count": 37,
   "id": "daf5ebb5",
   "metadata": {},
   "outputs": [
    {
     "data": {
      "text/plain": [
       "[<matplotlib.lines.Line2D at 0x131d4df0>]"
      ]
     },
     "execution_count": 37,
     "metadata": {},
     "output_type": "execute_result"
    },
    {
     "data": {
      "image/png": "[encoded data removed]",
      "text/plain": [
       "<Figure size 432x288 with 1 Axes>"
      ]
     },
     "metadata": {
      "needs_background": "light"
     },
     "output_type": "display_data"
    }
   ],
   "source": [
    "\n",
    "# Normalizing the numerical data \n",
    "wine_normal = scale(wine)\n",
    "wine_normal\n",
    "\n",
    "pca = PCA(n_components = 14)\n",
    "pca_values = pca.fit_transform(wine_normalized)\n",
    "\n",
    "# The amount of variance that each PCA explains is \n",
    "var = pca.explained_variance_ratio_\n",
    "var\n",
    "\n",
    "pca.components_\n",
    "pca.components_[0]\n",
    "# Cumulative variance \n",
    "\n",
    "var1 = np.cumsum(np.round(var, decimals = 4) * 100)\n",
    "var1\n",
    "\n",
    "# Variance plot for PCA components obtained \n",
    "plt.plot(var1, color = \"red\")\n"
   ]
  },
  {
   "cell_type": "code",
   "execution_count": 38,
   "id": "254387dd",
   "metadata": {},
   "outputs": [
    {
     "data": {
      "text/plain": [
       "<matplotlib.collections.PathCollection at 0x13f56760>"
      ]
     },
     "execution_count": 38,
     "metadata": {},
     "output_type": "execute_result"
    },
    {
     "data": {
      "image/png": "[encoded data removed]",
      "text/plain": [
       "<Figure size 432x288 with 1 Axes>"
      ]
     },
     "metadata": {
      "needs_background": "light"
     },
     "output_type": "display_data"
    }
   ],
   "source": [
    "# PCA scores\n",
    "pca_values\n",
    "\n",
    "\n",
    "pca_data = pd.DataFrame(pca_values)\n",
    "pca_data.columns = \"comp0\", \"comp1\", \"comp2\", \"comp3\", \"comp4\", \"comp5\",\"comp6\",\"comp7\",\"comp8\",\"comp9\",\"comp10\",\"comp11\",\"comp12\",\"comp13\"\n",
    "final = pd.concat([wine, pca_data.iloc[:, 0:3]], axis = 1)\n",
    "\n",
    "# Scatter diagram\n",
    "plt.scatter(x = final.comp0, y = final.comp1)\n"
   ]
  },
  {
   "cell_type": "code",
   "execution_count": 39,
   "id": "eb4d5799",
   "metadata": {},
   "outputs": [],
   "source": [
    "##################### After PCA Hierarchical Clustering ##########################\n",
    "\n",
    "from scipy.cluster.hierarchy import linkage\n",
    "import scipy.cluster.hierarchy as sch \n",
    "\n",
    "###Fidning Distance\n",
    "z = linkage(pca_data, method = \"complete\", metric = \"euclidean\")\n"
   ]
  },
  {
   "cell_type": "code",
   "execution_count": 40,
   "id": "2e3889b0",
   "metadata": {},
   "outputs": [
    {
     "data": {
      "image/png": "[encoded data removed]",
      "text/plain": [
       "<Figure size 1080x576 with 1 Axes>"
      ]
     },
     "metadata": {
      "needs_background": "light"
     },
     "output_type": "display_data"
    }
   ],
   "source": [
    "#####Dendogram\n",
    "plt.figure(figsize=(15, 8));plt.title('Hierarchical Clustering Dendrogram');plt.xlabel('Index');plt.ylabel('Distance')\n",
    "sch.dendrogram(z, leaf_rotation = 0,  leaf_font_size = 5 )  \n",
    "plt.show()\n"
   ]
  },
  {
   "cell_type": "code",
   "execution_count": 41,
   "id": "1dfc719e",
   "metadata": {},
   "outputs": [
    {
     "data": {
      "text/html": [
       "<div>\n",
       "<style scoped>\n",
       "    .dataframe tbody tr th:only-of-type {\n",
       "        vertical-align: middle;\n",
       "    }\n",
       "\n",
       "    .dataframe tbody tr th {\n",
       "        vertical-align: top;\n",
       "    }\n",
       "\n",
       "    .dataframe thead th {\n",
       "        text-align: right;\n",
       "    }\n",
       "</style>\n",
       "<table border=\"1\" class=\"dataframe\">\n",
       "  <thead>\n",
       "    <tr style=\"text-align: right;\">\n",
       "      <th></th>\n",
       "      <th>comp0</th>\n",
       "      <th>comp1</th>\n",
       "      <th>comp2</th>\n",
       "      <th>comp3</th>\n",
       "      <th>comp4</th>\n",
       "      <th>comp5</th>\n",
       "      <th>comp6</th>\n",
       "      <th>comp7</th>\n",
       "      <th>comp8</th>\n",
       "      <th>comp9</th>\n",
       "      <th>comp10</th>\n",
       "      <th>comp11</th>\n",
       "      <th>comp12</th>\n",
       "      <th>comp13</th>\n",
       "      <th>clust</th>\n",
       "    </tr>\n",
       "    <tr>\n",
       "      <th>clust</th>\n",
       "      <th></th>\n",
       "      <th></th>\n",
       "      <th></th>\n",
       "      <th></th>\n",
       "      <th></th>\n",
       "      <th></th>\n",
       "      <th></th>\n",
       "      <th></th>\n",
       "      <th></th>\n",
       "      <th></th>\n",
       "      <th></th>\n",
       "      <th></th>\n",
       "      <th></th>\n",
       "      <th></th>\n",
       "      <th></th>\n",
       "    </tr>\n",
       "  </thead>\n",
       "  <tbody>\n",
       "    <tr>\n",
       "      <th>0</th>\n",
       "      <td>0.017586</td>\n",
       "      <td>0.002299</td>\n",
       "      <td>0.001517</td>\n",
       "      <td>0.000130</td>\n",
       "      <td>0.000178</td>\n",
       "      <td>-0.000076</td>\n",
       "      <td>-0.000020</td>\n",
       "      <td>0.000047</td>\n",
       "      <td>-3.760844e-07</td>\n",
       "      <td>3.350524e-20</td>\n",
       "      <td>1.072122e-22</td>\n",
       "      <td>2.729369e-22</td>\n",
       "      <td>6.651227e-23</td>\n",
       "      <td>8.217341e-38</td>\n",
       "      <td>0</td>\n",
       "    </tr>\n",
       "    <tr>\n",
       "      <th>1</th>\n",
       "      <td>0.001694</td>\n",
       "      <td>-0.000297</td>\n",
       "      <td>-0.000654</td>\n",
       "      <td>-0.000038</td>\n",
       "      <td>-0.000093</td>\n",
       "      <td>0.000029</td>\n",
       "      <td>0.000012</td>\n",
       "      <td>-0.000025</td>\n",
       "      <td>2.216857e-07</td>\n",
       "      <td>-5.290600e-21</td>\n",
       "      <td>2.078259e-21</td>\n",
       "      <td>3.250540e-22</td>\n",
       "      <td>9.379065e-23</td>\n",
       "      <td>9.947637e-38</td>\n",
       "      <td>1</td>\n",
       "    </tr>\n",
       "    <tr>\n",
       "      <th>2</th>\n",
       "      <td>-0.009856</td>\n",
       "      <td>-0.000327</td>\n",
       "      <td>0.000633</td>\n",
       "      <td>0.000022</td>\n",
       "      <td>0.000104</td>\n",
       "      <td>-0.000025</td>\n",
       "      <td>-0.000015</td>\n",
       "      <td>0.000028</td>\n",
       "      <td>-2.675304e-07</td>\n",
       "      <td>1.814058e-20</td>\n",
       "      <td>-8.079236e-22</td>\n",
       "      <td>1.111632e-22</td>\n",
       "      <td>8.960187e-23</td>\n",
       "      <td>2.756206e-37</td>\n",
       "      <td>2</td>\n",
       "    </tr>\n",
       "  </tbody>\n",
       "</table>\n",
       "</div>"
      ],
      "text/plain": [
       "          comp0     comp1     comp2     comp3     comp4     comp5     comp6  \\\n",
       "clust                                                                         \n",
       "0      0.017586  0.002299  0.001517  0.000130  0.000178 -0.000076 -0.000020   \n",
       "1      0.001694 -0.000297 -0.000654 -0.000038 -0.000093  0.000029  0.000012   \n",
       "2     -0.009856 -0.000327  0.000633  0.000022  0.000104 -0.000025 -0.000015   \n",
       "\n",
       "          comp7         comp8         comp9        comp10        comp11  \\\n",
       "clust                                                                     \n",
       "0      0.000047 -3.760844e-07  3.350524e-20  1.072122e-22  2.729369e-22   \n",
       "1     -0.000025  2.216857e-07 -5.290600e-21  2.078259e-21  3.250540e-22   \n",
       "2      0.000028 -2.675304e-07  1.814058e-20 -8.079236e-22  1.111632e-22   \n",
       "\n",
       "             comp12        comp13  clust  \n",
       "clust                                     \n",
       "0      6.651227e-23  8.217341e-38      0  \n",
       "1      9.379065e-23  9.947637e-38      1  \n",
       "2      8.960187e-23  2.756206e-37      2  "
      ]
     },
     "execution_count": 41,
     "metadata": {},
     "output_type": "execute_result"
    }
   ],
   "source": [
    "# Now applying AgglomerativeClustering choosing 3 as clusters from the above dendrogram\n",
    "from sklearn.cluster import AgglomerativeClustering\n",
    "h_complete = AgglomerativeClustering(n_clusters = 3, linkage = 'complete', affinity = \"euclidean\").fit(pca_data) \n",
    "h_complete.labels_\n",
    "\n",
    "cluster_labels = pd.Series(h_complete.labels_)\n",
    "\n",
    "pca_data['clust'] = cluster_labels\n",
    "\n",
    "# Aggregate mean of each cluster\n",
    "pca_data.iloc[:, 0:].groupby(pca_data.clust).mean()"
   ]
  },
  {
   "cell_type": "code",
   "execution_count": 42,
   "id": "8cd438a1",
   "metadata": {},
   "outputs": [
    {
     "data": {
      "text/plain": [
       "[17.4261195038939,\n",
       " 0.0068857920921046615,\n",
       " 0.004924790345054414,\n",
       " 0.003846867377274171,\n",
       " 0.0029211602878799546,\n",
       " 0.002509788330356629,\n",
       " 0.00218471312666794]"
      ]
     },
     "execution_count": 42,
     "metadata": {},
     "output_type": "execute_result"
    }
   ],
   "source": [
    "################################## K means clustering ########################\n",
    "##we can use air_normalized and air datasets to use.\n",
    "\n",
    "from sklearn.cluster import\tKMeans\n",
    "###### scree plot or elbow curve ############\n",
    "TWSS = []\n",
    "k = list(range(2, 9))\n",
    "\n",
    "for i in k:\n",
    "    kmeans = KMeans(n_clusters = i)\n",
    "    kmeans.fit(pca_data)\n",
    "    TWSS.append(kmeans.inertia_)\n",
    "    \n",
    "TWSS\n"
   ]
  },
  {
   "cell_type": "code",
   "execution_count": 43,
   "id": "fa4cce42",
   "metadata": {},
   "outputs": [
    {
     "data": {
      "text/html": [
       "<div>\n",
       "<style scoped>\n",
       "    .dataframe tbody tr th:only-of-type {\n",
       "        vertical-align: middle;\n",
       "    }\n",
       "\n",
       "    .dataframe tbody tr th {\n",
       "        vertical-align: top;\n",
       "    }\n",
       "\n",
       "    .dataframe thead th {\n",
       "        text-align: right;\n",
       "    }\n",
       "</style>\n",
       "<table border=\"1\" class=\"dataframe\">\n",
       "  <thead>\n",
       "    <tr style=\"text-align: right;\">\n",
       "      <th></th>\n",
       "      <th>comp0</th>\n",
       "      <th>comp1</th>\n",
       "      <th>comp2</th>\n",
       "      <th>comp3</th>\n",
       "      <th>comp4</th>\n",
       "      <th>comp5</th>\n",
       "      <th>comp6</th>\n",
       "      <th>comp7</th>\n",
       "      <th>comp8</th>\n",
       "      <th>comp9</th>\n",
       "      <th>comp10</th>\n",
       "      <th>comp11</th>\n",
       "      <th>comp12</th>\n",
       "      <th>comp13</th>\n",
       "    </tr>\n",
       "    <tr>\n",
       "      <th>clust</th>\n",
       "      <th></th>\n",
       "      <th></th>\n",
       "      <th></th>\n",
       "      <th></th>\n",
       "      <th></th>\n",
       "      <th></th>\n",
       "      <th></th>\n",
       "      <th></th>\n",
       "      <th></th>\n",
       "      <th></th>\n",
       "      <th></th>\n",
       "      <th></th>\n",
       "      <th></th>\n",
       "      <th></th>\n",
       "    </tr>\n",
       "  </thead>\n",
       "  <tbody>\n",
       "    <tr>\n",
       "      <th>0</th>\n",
       "      <td>0.017586</td>\n",
       "      <td>0.002299</td>\n",
       "      <td>0.001517</td>\n",
       "      <td>0.000130</td>\n",
       "      <td>0.000178</td>\n",
       "      <td>-0.000076</td>\n",
       "      <td>-0.000020</td>\n",
       "      <td>0.000047</td>\n",
       "      <td>-3.760844e-07</td>\n",
       "      <td>3.350524e-20</td>\n",
       "      <td>1.072122e-22</td>\n",
       "      <td>2.729369e-22</td>\n",
       "      <td>6.651227e-23</td>\n",
       "      <td>8.217341e-38</td>\n",
       "    </tr>\n",
       "    <tr>\n",
       "      <th>1</th>\n",
       "      <td>0.001694</td>\n",
       "      <td>-0.000297</td>\n",
       "      <td>-0.000654</td>\n",
       "      <td>-0.000038</td>\n",
       "      <td>-0.000093</td>\n",
       "      <td>0.000029</td>\n",
       "      <td>0.000012</td>\n",
       "      <td>-0.000025</td>\n",
       "      <td>2.216857e-07</td>\n",
       "      <td>-5.290600e-21</td>\n",
       "      <td>2.078259e-21</td>\n",
       "      <td>3.250540e-22</td>\n",
       "      <td>9.379065e-23</td>\n",
       "      <td>9.947637e-38</td>\n",
       "    </tr>\n",
       "    <tr>\n",
       "      <th>2</th>\n",
       "      <td>-0.009856</td>\n",
       "      <td>-0.000327</td>\n",
       "      <td>0.000633</td>\n",
       "      <td>0.000022</td>\n",
       "      <td>0.000104</td>\n",
       "      <td>-0.000025</td>\n",
       "      <td>-0.000015</td>\n",
       "      <td>0.000028</td>\n",
       "      <td>-2.675304e-07</td>\n",
       "      <td>1.814058e-20</td>\n",
       "      <td>-8.079236e-22</td>\n",
       "      <td>1.111632e-22</td>\n",
       "      <td>8.960187e-23</td>\n",
       "      <td>2.756206e-37</td>\n",
       "    </tr>\n",
       "  </tbody>\n",
       "</table>\n",
       "</div>"
      ],
      "text/plain": [
       "          comp0     comp1     comp2     comp3     comp4     comp5     comp6  \\\n",
       "clust                                                                         \n",
       "0      0.017586  0.002299  0.001517  0.000130  0.000178 -0.000076 -0.000020   \n",
       "1      0.001694 -0.000297 -0.000654 -0.000038 -0.000093  0.000029  0.000012   \n",
       "2     -0.009856 -0.000327  0.000633  0.000022  0.000104 -0.000025 -0.000015   \n",
       "\n",
       "          comp7         comp8         comp9        comp10        comp11  \\\n",
       "clust                                                                     \n",
       "0      0.000047 -3.760844e-07  3.350524e-20  1.072122e-22  2.729369e-22   \n",
       "1     -0.000025  2.216857e-07 -5.290600e-21  2.078259e-21  3.250540e-22   \n",
       "2      0.000028 -2.675304e-07  1.814058e-20 -8.079236e-22  1.111632e-22   \n",
       "\n",
       "             comp12        comp13  \n",
       "clust                              \n",
       "0      6.651227e-23  8.217341e-38  \n",
       "1      9.379065e-23  9.947637e-38  \n",
       "2      8.960187e-23  2.756206e-37  "
      ]
     },
     "execution_count": 43,
     "metadata": {},
     "output_type": "execute_result"
    },
    {
     "data": {
      "image/png": "[encoded data removed]",
      "text/plain": [
       "<Figure size 432x288 with 1 Axes>"
      ]
     },
     "metadata": {
      "needs_background": "light"
     },
     "output_type": "display_data"
    }
   ],
   "source": [
    "# Scree plot \n",
    "plt.plot(k, TWSS, 'ro-');plt.xlabel(\"No_of_Clusters\");plt.ylabel(\"total_within_SS\")\n",
    "\n",
    "############# Selecting 3 clusters from the above scree plot which is the optimum number of clusters \n",
    "model = KMeans(n_clusters = 3)\n",
    "model.fit(pca_data)\n",
    "model.labels_ # getting the labels of clusters assigned to each row \n",
    "mb = pd.Series(model.labels_)  # converting numpy array into pandas series object \n",
    "pca_data['clust'] = mb # creating a  new column and assigning it to new column \n",
    "pca_data.head()\n",
    "pca_data.iloc[:, :].groupby(pca_data.clust).mean()\n"
   ]
  },
  {
   "cell_type": "markdown",
   "id": "e60e6a44",
   "metadata": {},
   "source": [
    "# Solution If we take K-means clustering, Cluster 3 for wine dataset.\n",
    "\n",
    "Cluster 0 > Cluster > Cluster 1\n",
    "\n",
    "If we take K means clustering, Cluster 3 people are more prone to heart disease\n",
    "\n",
    "Cluster 3 > Cluster 1 > Cluster 2 > Cluster 4"
   ]
  }
 ],
 "metadata": {
  "kernelspec": {
   "display_name": "Python 3",
   "language": "python",
   "name": "python3"
  },
  "language_info": {
   "codemirror_mode": {
    "name": "ipython",
    "version": 3
   },
   "file_extension": ".py",
   "mimetype": "text/x-python",
   "name": "python",
   "nbconvert_exporter": "python",
   "pygments_lexer": "ipython3",
   "version": "3.8.8"
  }
 },
 "nbformat": 4,
 "nbformat_minor": 5
}
