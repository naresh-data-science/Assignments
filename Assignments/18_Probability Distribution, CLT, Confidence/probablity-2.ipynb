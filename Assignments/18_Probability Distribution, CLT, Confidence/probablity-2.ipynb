{
 "cells": [
  {
   "cell_type": "markdown",
   "metadata": {},
   "source": [
    "# Basic Statistics (Module – 4 (Part – 2))"
   ]
  },
  {
   "cell_type": "markdown",
   "metadata": {},
   "source": [
    "### Q3) Suppose we want to estimate the average weight of an adult male in Mexico. We draw a random sample of 2,000 men from a population of 3,000,000 men and weigh them. We find that the average person in our sample weighs 200 pounds, and the standard deviation of the sample is 30 pounds. Calculate 94%,98%,96% confidence interval?"
   ]
  },
  {
   "cell_type": "code",
   "execution_count": 3,
   "metadata": {},
   "outputs": [],
   "source": [
    "import scipy.stats as stats\n",
    "from scipy.stats import norm"
   ]
  },
  {
   "cell_type": "code",
   "execution_count": 4,
   "metadata": {},
   "outputs": [
    {
     "name": "stdout",
     "output_type": "stream",
     "text": [
      "94% confidence interval :  (198.738325292158, 201.261674707842)\n",
      "98% confidence interval :  (198.43943840429978, 201.56056159570022)\n",
      "96% confidence interval :  (198.62230334813333, 201.37769665186667)\n"
     ]
    }
   ],
   "source": [
    "weight_mean = 200\n",
    "weight_Std = 30\n",
    "conf_int_94 = stats.norm.interval(0.94, weight_mean,weight_Std/(2000**0.5)) # Finding confidence interval\n",
    "print(\"94% confidence interval : \", conf_int_94)\n",
    "conf_int_98 = stats.norm.interval(0.98, weight_mean,weight_Std/(2000**0.5)) # Finding confidence interval\n",
    "print(\"98% confidence interval : \", conf_int_98)\n",
    "conf_int_96 = stats.norm.interval(0.96, weight_mean,weight_Std/(2000**0.5)) # Finding confidence interval\n",
    "print(\"96% confidence interval : \", conf_int_96)"
   ]
  },
  {
   "cell_type": "code",
   "execution_count": null,
   "metadata": {},
   "outputs": [],
   "source": []
  }
 ],
 "metadata": {
  "kernelspec": {
   "display_name": "Python 3",
   "language": "python",
   "name": "python3"
  },
  "language_info": {
   "codemirror_mode": {
    "name": "ipython",
    "version": 3
   },
   "file_extension": ".py",
   "mimetype": "text/x-python",
   "name": "python",
   "nbconvert_exporter": "python",
   "pygments_lexer": "ipython3",
   "version": "3.7.3"
  }
 },
 "nbformat": 4,
 "nbformat_minor": 2
}
