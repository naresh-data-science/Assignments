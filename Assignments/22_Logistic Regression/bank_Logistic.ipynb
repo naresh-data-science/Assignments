{
 "cells": [
  {
   "cell_type": "markdown",
   "metadata": {
    "id": "diyT0rn_bHh0"
   },
   "source": [
    "In Financial Institutions getting their customers to do a fixed deposit in the banks is a vital and at most important for the bank as they bank uses it and pays an interest amount to those deposited customers. To ask every customer for a term deposit is not viable as well as time consuming process, can you come up with a Logistic Regression model to predict customers who will do a term deposit or not. \n",
    "\n",
    "The output variable in the dataset is Y which is discreet and binary. Snapshot of the dataset is given below.\n"
   ]
  },
  {
   "cell_type": "markdown",
   "metadata": {
    "id": "BXtlazwZu-51"
   },
   "source": [
    "**Business Objective :- To predict the fix deposit in the bank by the customer**"
   ]
  },
  {
   "cell_type": "code",
   "execution_count": null,
   "metadata": {
    "colab": {
     "base_uri": "https://localhost:8080/"
    },
    "id": "QKVYD2XqagEz",
    "outputId": "8580c72f-84c5-47b4-9878-49555135c0c1"
   },
   "outputs": [
    {
     "name": "stderr",
     "output_type": "stream",
     "text": [
      "/usr/local/lib/python3.7/dist-packages/statsmodels/tools/_testing.py:19: FutureWarning: pandas.util.testing is deprecated. Use the functions in the public API at pandas.testing instead.\n",
      "  import pandas.util.testing as tm\n"
     ]
    }
   ],
   "source": [
    "#lets laod the required libraries\n",
    "import pandas as pd\n",
    "import numpy as np\n",
    "import seaborn as sb\n",
    "import matplotlib.pyplot as plt\n",
    "\n",
    "import statsmodels.formula.api as sm\n",
    "from sklearn.model_selection import train_test_split # train and test \n",
    "from sklearn import metrics\n",
    "from sklearn.metrics import roc_curve, auc\n",
    "from sklearn.metrics import classification_report\n"
   ]
  },
  {
   "cell_type": "code",
   "execution_count": null,
   "metadata": {
    "id": "P_ICZrHyqcc6"
   },
   "outputs": [],
   "source": [
    "#lets import the data\n",
    "bank = pd.read_csv(\"/content/bank_data.csv\")\n"
   ]
  },
  {
   "cell_type": "code",
   "execution_count": null,
   "metadata": {
    "colab": {
     "base_uri": "https://localhost:8080/"
    },
    "id": "YsfR16ADqcns",
    "outputId": "767fe7f2-2ed0-4fac-c78f-4b4cc5c6778c"
   },
   "outputs": [
    {
     "data": {
      "text/plain": [
       "Index(['age', 'default', 'balance', 'housing', 'loan', 'duration', 'campaign',\n",
       "       'pdays', 'previous', 'poutfailure', 'poutother', 'poutsuccess',\n",
       "       'poutunknown', 'con_cellular', 'con_telephone', 'con_unknown',\n",
       "       'divorced', 'married', 'single', 'joadmin.', 'joblue.collar',\n",
       "       'joentrepreneur', 'johousemaid', 'jomanagement', 'joretired',\n",
       "       'joself.employed', 'joservices', 'jostudent', 'jotechnician',\n",
       "       'jounemployed', 'jounknown', 'y'],\n",
       "      dtype='object')"
      ]
     },
     "execution_count": 3,
     "metadata": {},
     "output_type": "execute_result"
    }
   ],
   "source": [
    "bank.columns"
   ]
  },
  {
   "cell_type": "markdown",
   "metadata": {
    "id": "86w_TBFgvJyf"
   },
   "source": [
    "1\tage\tAge of person\n",
    "\n",
    "2\tdefault\tDefaulter or not\n",
    "\n",
    "3\tbalance\tBalance in the account \n",
    "\n",
    "4\thousing\thouse available or not\n",
    "\n",
    "5\tloan\tLoan required or not\n",
    "\n",
    "6\tduration\tDuration in months\n",
    "\n",
    "7\tcampaign\tCampaign done or not\n",
    "\n",
    "8\tpdays\tPaid days \n",
    "\n",
    "9\tprevious\tPrevious any due\n",
    "\n",
    "10\tpoutfailure\tFailure \n",
    "\n",
    "11\tpoutother\tOthers\n",
    "\n",
    "12\tpoutsuccess\tSuccess\n",
    "\n",
    "13\tpoutunknown\tUnknown\n",
    "\n",
    "14\tcon_cellular\tMobile \n",
    "\n",
    "15\tcon_telephone\tTelephone \n",
    "\n",
    "16\tcon_unknown\tUnknown \n",
    "\n",
    "17\tdivorced\tMarital status\n",
    "\n",
    "18\tmarried\tMarital status\n",
    "\n",
    "19\tsingle\tMarital status\n",
    "\n",
    "20\tjoadmin.\tType of job or work status\n",
    "\n",
    "21\tjoblue.collar\tType of job or work status\n",
    "\n",
    "22\tjoentrepreneur\tType of job or work status\n",
    "\n",
    "23\tjohousemaid\tType of job or work status\n",
    "\n",
    "24\tjomanagement\tType of job or work status\n",
    "\n",
    "25\tjoretired\tType of job or work status\n",
    "\n",
    "26\tjoself.employed\tType of job or work status\n",
    "\n",
    "27\tjoservices\tType of job or work status\n",
    "\n",
    "28\tjostudent\tType of job or work status\n",
    "\n",
    "29\tjotechnician\tType of job or work status\n",
    "\n",
    "30\tjounemployed\tType of job or work status\n",
    "\n",
    "31\tjounknown\tType of job or work status\n",
    "\n",
    "32\ty\tFix deposit status \n"
   ]
  },
  {
   "cell_type": "code",
   "execution_count": null,
   "metadata": {
    "colab": {
     "base_uri": "https://localhost:8080/"
    },
    "id": "n3hoNZSzqcuf",
    "outputId": "4eeb8285-b0ef-480c-ea61-7270f661b41e"
   },
   "outputs": [
    {
     "data": {
      "text/plain": [
       "age                0\n",
       "default            0\n",
       "balance            0\n",
       "housing            0\n",
       "loan               0\n",
       "duration           0\n",
       "campaign           0\n",
       "pdays              0\n",
       "previous           0\n",
       "poutfailure        0\n",
       "poutother          0\n",
       "poutsuccess        0\n",
       "poutunknown        0\n",
       "con_cellular       0\n",
       "con_telephone      0\n",
       "con_unknown        0\n",
       "divorced           0\n",
       "married            0\n",
       "single             0\n",
       "joadmin.           0\n",
       "joblue.collar      0\n",
       "joentrepreneur     0\n",
       "johousemaid        0\n",
       "jomanagement       0\n",
       "joretired          0\n",
       "joself.employed    0\n",
       "joservices         0\n",
       "jostudent          0\n",
       "jotechnician       0\n",
       "jounemployed       0\n",
       "jounknown          0\n",
       "y                  0\n",
       "dtype: int64"
      ]
     },
     "execution_count": 4,
     "metadata": {},
     "output_type": "execute_result"
    }
   ],
   "source": [
    "bank.isna().sum()\n"
   ]
  },
  {
   "cell_type": "code",
   "execution_count": null,
   "metadata": {
    "colab": {
     "base_uri": "https://localhost:8080/"
    },
    "id": "900cNgmYqc0H",
    "outputId": "1baa5312-5b6f-4a98-d337-c36796894662"
   },
   "outputs": [
    {
     "data": {
      "text/plain": [
       "<bound method NDFrame.describe of        age  default  balance  housing  ...  jotechnician  jounemployed  jounknown  y\n",
       "0       58        0     2143        1  ...             0             0          0  0\n",
       "1       44        0       29        1  ...             1             0          0  0\n",
       "2       33        0        2        1  ...             0             0          0  0\n",
       "3       47        0     1506        1  ...             0             0          0  0\n",
       "4       33        0        1        0  ...             0             0          1  0\n",
       "...    ...      ...      ...      ...  ...           ...           ...        ... ..\n",
       "45206   51        0      825        0  ...             1             0          0  1\n",
       "45207   71        0     1729        0  ...             0             0          0  1\n",
       "45208   72        0     5715        0  ...             0             0          0  1\n",
       "45209   57        0      668        0  ...             0             0          0  0\n",
       "45210   37        0     2971        0  ...             0             0          0  0\n",
       "\n",
       "[45211 rows x 32 columns]>"
      ]
     },
     "execution_count": 5,
     "metadata": {},
     "output_type": "execute_result"
    }
   ],
   "source": [
    "bank.describe\n"
   ]
  },
  {
   "cell_type": "code",
   "execution_count": null,
   "metadata": {
    "colab": {
     "base_uri": "https://localhost:8080/"
    },
    "id": "RxWOvmwEqc8E",
    "outputId": "167d98e3-5da4-479d-d29d-5e25887a0005"
   },
   "outputs": [
    {
     "name": "stdout",
     "output_type": "stream",
     "text": [
      "<class 'pandas.core.frame.DataFrame'>\n",
      "RangeIndex: 45211 entries, 0 to 45210\n",
      "Data columns (total 32 columns):\n",
      " #   Column           Non-Null Count  Dtype\n",
      "---  ------           --------------  -----\n",
      " 0   age              45211 non-null  int64\n",
      " 1   default          45211 non-null  int64\n",
      " 2   balance          45211 non-null  int64\n",
      " 3   housing          45211 non-null  int64\n",
      " 4   loan             45211 non-null  int64\n",
      " 5   duration         45211 non-null  int64\n",
      " 6   campaign         45211 non-null  int64\n",
      " 7   pdays            45211 non-null  int64\n",
      " 8   previous         45211 non-null  int64\n",
      " 9   poutfailure      45211 non-null  int64\n",
      " 10  poutother        45211 non-null  int64\n",
      " 11  poutsuccess      45211 non-null  int64\n",
      " 12  poutunknown      45211 non-null  int64\n",
      " 13  con_cellular     45211 non-null  int64\n",
      " 14  con_telephone    45211 non-null  int64\n",
      " 15  con_unknown      45211 non-null  int64\n",
      " 16  divorced         45211 non-null  int64\n",
      " 17  married          45211 non-null  int64\n",
      " 18  single           45211 non-null  int64\n",
      " 19  joadmin.         45211 non-null  int64\n",
      " 20  joblue.collar    45211 non-null  int64\n",
      " 21  joentrepreneur   45211 non-null  int64\n",
      " 22  johousemaid      45211 non-null  int64\n",
      " 23  jomanagement     45211 non-null  int64\n",
      " 24  joretired        45211 non-null  int64\n",
      " 25  joself.employed  45211 non-null  int64\n",
      " 26  joservices       45211 non-null  int64\n",
      " 27  jostudent        45211 non-null  int64\n",
      " 28  jotechnician     45211 non-null  int64\n",
      " 29  jounemployed     45211 non-null  int64\n",
      " 30  jounknown        45211 non-null  int64\n",
      " 31  y                45211 non-null  int64\n",
      "dtypes: int64(32)\n",
      "memory usage: 11.0 MB\n"
     ]
    }
   ],
   "source": [
    "bank.info()"
   ]
  },
  {
   "cell_type": "code",
   "execution_count": null,
   "metadata": {
    "colab": {
     "base_uri": "https://localhost:8080/"
    },
    "id": "_aQcr_95qdD5",
    "outputId": "55e30853-ddb2-4daf-a567-6a235aeb91e6"
   },
   "outputs": [
    {
     "data": {
      "text/plain": [
       "Index(['age', 'balance', 'duration', 'campaign', 'pdays', 'previous', 'y'], dtype='object')"
      ]
     },
     "execution_count": 7,
     "metadata": {},
     "output_type": "execute_result"
    }
   ],
   "source": [
    "#lets take the required data variables only remaining will be droped out\n",
    "bank1 = bank.iloc[:,[0,2,5,6,7,8,31]]\n",
    "bank1.columns\n"
   ]
  },
  {
   "cell_type": "code",
   "execution_count": null,
   "metadata": {
    "colab": {
     "base_uri": "https://localhost:8080/"
    },
    "id": "3n-Lx-GCqdK9",
    "outputId": "6d89a1f1-3a0c-4a94-b852-a8b14c0ab6bd"
   },
   "outputs": [
    {
     "data": {
      "text/plain": [
       "age         0\n",
       "balance     0\n",
       "duration    0\n",
       "campaign    0\n",
       "pdays       0\n",
       "previous    0\n",
       "y           0\n",
       "dtype: int64"
      ]
     },
     "execution_count": 8,
     "metadata": {},
     "output_type": "execute_result"
    }
   ],
   "source": [
    "bank1.isna().sum()\n"
   ]
  },
  {
   "cell_type": "code",
   "execution_count": null,
   "metadata": {
    "colab": {
     "base_uri": "https://localhost:8080/"
    },
    "id": "v_DNUf1zqdRH",
    "outputId": "8d22877f-2b61-4451-8479-da18078751af"
   },
   "outputs": [
    {
     "data": {
      "text/plain": [
       "<bound method NDFrame.describe of        age  balance  duration  campaign  pdays  previous  y\n",
       "0       58     2143       261         1     -1         0  0\n",
       "1       44       29       151         1     -1         0  0\n",
       "2       33        2        76         1     -1         0  0\n",
       "3       47     1506        92         1     -1         0  0\n",
       "4       33        1       198         1     -1         0  0\n",
       "...    ...      ...       ...       ...    ...       ... ..\n",
       "45206   51      825       977         3     -1         0  1\n",
       "45207   71     1729       456         2     -1         0  1\n",
       "45208   72     5715      1127         5    184         3  1\n",
       "45209   57      668       508         4     -1         0  0\n",
       "45210   37     2971       361         2    188        11  0\n",
       "\n",
       "[45211 rows x 7 columns]>"
      ]
     },
     "execution_count": 9,
     "metadata": {},
     "output_type": "execute_result"
    }
   ],
   "source": [
    "bank1.describe\n"
   ]
  },
  {
   "cell_type": "code",
   "execution_count": null,
   "metadata": {
    "colab": {
     "base_uri": "https://localhost:8080/"
    },
    "id": "7VNNEbOiqdXA",
    "outputId": "33055a62-19fa-4753-dbbb-87be9bb63d5b"
   },
   "outputs": [
    {
     "name": "stdout",
     "output_type": "stream",
     "text": [
      "<class 'pandas.core.frame.DataFrame'>\n",
      "RangeIndex: 45211 entries, 0 to 45210\n",
      "Data columns (total 7 columns):\n",
      " #   Column    Non-Null Count  Dtype\n",
      "---  ------    --------------  -----\n",
      " 0   age       45211 non-null  int64\n",
      " 1   balance   45211 non-null  int64\n",
      " 2   duration  45211 non-null  int64\n",
      " 3   campaign  45211 non-null  int64\n",
      " 4   pdays     45211 non-null  int64\n",
      " 5   previous  45211 non-null  int64\n",
      " 6   y         45211 non-null  int64\n",
      "dtypes: int64(7)\n",
      "memory usage: 2.4 MB\n"
     ]
    }
   ],
   "source": [
    "bank1.info()"
   ]
  },
  {
   "cell_type": "code",
   "execution_count": null,
   "metadata": {
    "colab": {
     "base_uri": "https://localhost:8080/",
     "height": 514
    },
    "id": "Z0GkBbfHqtrV",
    "outputId": "2450d4fe-25d1-41ac-dedf-4b6ef1bf820c"
   },
   "outputs": [
    {
     "data": {
      "text/plain": [
       "Text(0.5, 0, 'balance')"
      ]
     },
     "execution_count": 11,
     "metadata": {},
     "output_type": "execute_result"
    },
    {
     "data": {
      "image/png": "[encoded data removed]",
      "text/plain": [
       "<Figure size 720x576 with 1 Axes>"
      ]
     },
     "metadata": {
      "needs_background": "light"
     },
     "output_type": "display_data"
    }
   ],
   "source": [
    "#Exploratory data anlysis\n",
    "#histogram\n",
    "plt.figure(figsize=(10, 8))\n",
    "bank1.balance.hist(bins=bank1.balance.nunique())\n",
    "plt.xlabel('balance')\n",
    "\n"
   ]
  },
  {
   "cell_type": "code",
   "execution_count": null,
   "metadata": {
    "colab": {
     "base_uri": "https://localhost:8080/"
    },
    "id": "4lLhBLxKqzQK",
    "outputId": "470bc0ee-d565-438b-d460-8b27fdbd5c68"
   },
   "outputs": [
    {
     "data": {
      "text/plain": [
       "0    39922\n",
       "1     5289\n",
       "Name: y, dtype: int64"
      ]
     },
     "execution_count": 12,
     "metadata": {},
     "output_type": "execute_result"
    }
   ],
   "source": [
    "bank1.y.value_counts()"
   ]
  },
  {
   "cell_type": "code",
   "execution_count": null,
   "metadata": {
    "colab": {
     "base_uri": "https://localhost:8080/"
    },
    "id": "Rk2IVUQtq0Br",
    "outputId": "cb9d7d0d-3de0-48e7-8c56-1725b99a3609"
   },
   "outputs": [
    {
     "name": "stdout",
     "output_type": "stream",
     "text": [
      "Optimization terminated successfully.\n",
      "         Current function value: 0.293213\n",
      "         Iterations 7\n"
     ]
    }
   ],
   "source": [
    "######## Model building \n",
    "import statsmodels.formula.api as sm\n",
    "logit_model = sm.logit('y ~ age+balance+duration+campaign+pdays+previous', data = bank1).fit()\n"
   ]
  },
  {
   "cell_type": "code",
   "execution_count": null,
   "metadata": {
    "colab": {
     "base_uri": "https://localhost:8080/",
     "height": 357
    },
    "id": "O8eZxDoeq2wJ",
    "outputId": "0bd9d2e3-1bbc-406e-bde4-4041139d8149"
   },
   "outputs": [
    {
     "data": {
      "text/html": [
       "<table class=\"simpletable\">\n",
       "<tr>\n",
       "        <td>Model:</td>              <td>Logit</td>      <td>Pseudo R-squared:</td>    <td>0.187</td>  \n",
       "</tr>\n",
       "<tr>\n",
       "  <td>Dependent Variable:</td>         <td>y</td>              <td>AIC:</td>        <td>26526.9455</td>\n",
       "</tr>\n",
       "<tr>\n",
       "         <td>Date:</td>        <td>2021-10-29 11:09</td>       <td>BIC:</td>        <td>26587.9791</td>\n",
       "</tr>\n",
       "<tr>\n",
       "   <td>No. Observations:</td>        <td>45211</td>       <td>Log-Likelihood:</td>    <td>-13256.</td> \n",
       "</tr>\n",
       "<tr>\n",
       "       <td>Df Model:</td>              <td>6</td>            <td>LL-Null:</td>        <td>-16315.</td> \n",
       "</tr>\n",
       "<tr>\n",
       "     <td>Df Residuals:</td>          <td>45204</td>        <td>LLR p-value:</td>      <td>0.0000</td>  \n",
       "</tr>\n",
       "<tr>\n",
       "      <td>Converged:</td>           <td>1.0000</td>           <td>Scale:</td>         <td>1.0000</td>  \n",
       "</tr>\n",
       "<tr>\n",
       "    <td>No. Iterations:</td>        <td>7.0000</td>              <td></td>               <td></td>     \n",
       "</tr>\n",
       "</table>\n",
       "<table class=\"simpletable\">\n",
       "<tr>\n",
       "      <td></td>       <th>Coef.</th>  <th>Std.Err.</th>     <th>z</th>     <th>P>|z|</th> <th>[0.025</th>  <th>0.975]</th> \n",
       "</tr>\n",
       "<tr>\n",
       "  <th>Intercept</th> <td>-3.4952</td>  <td>0.0706</td>  <td>-49.5376</td> <td>0.0000</td> <td>-3.6335</td> <td>-3.3569</td>\n",
       "</tr>\n",
       "<tr>\n",
       "  <th>age</th>       <td>0.0080</td>   <td>0.0015</td>   <td>5.4254</td>  <td>0.0000</td> <td>0.0051</td>  <td>0.0109</td> \n",
       "</tr>\n",
       "<tr>\n",
       "  <th>balance</th>   <td>0.0000</td>   <td>0.0000</td>   <td>8.6625</td>  <td>0.0000</td> <td>0.0000</td>  <td>0.0000</td> \n",
       "</tr>\n",
       "<tr>\n",
       "  <th>duration</th>  <td>0.0036</td>   <td>0.0001</td>   <td>64.4801</td> <td>0.0000</td> <td>0.0035</td>  <td>0.0037</td> \n",
       "</tr>\n",
       "<tr>\n",
       "  <th>campaign</th>  <td>-0.1288</td>  <td>0.0095</td>  <td>-13.5025</td> <td>0.0000</td> <td>-0.1475</td> <td>-0.1101</td>\n",
       "</tr>\n",
       "<tr>\n",
       "  <th>pdays</th>     <td>0.0021</td>   <td>0.0002</td>   <td>13.7893</td> <td>0.0000</td> <td>0.0018</td>  <td>0.0024</td> \n",
       "</tr>\n",
       "<tr>\n",
       "  <th>previous</th>  <td>0.0860</td>   <td>0.0074</td>   <td>11.6692</td> <td>0.0000</td> <td>0.0715</td>  <td>0.1004</td> \n",
       "</tr>\n",
       "</table>"
      ],
      "text/plain": [
       "<class 'statsmodels.iolib.summary2.Summary'>\n",
       "\"\"\"\n",
       "                         Results: Logit\n",
       "=================================================================\n",
       "Model:              Logit            Pseudo R-squared: 0.187     \n",
       "Dependent Variable: y                AIC:              26526.9455\n",
       "Date:               2021-10-29 11:09 BIC:              26587.9791\n",
       "No. Observations:   45211            Log-Likelihood:   -13256.   \n",
       "Df Model:           6                LL-Null:          -16315.   \n",
       "Df Residuals:       45204            LLR p-value:      0.0000    \n",
       "Converged:          1.0000           Scale:            1.0000    \n",
       "No. Iterations:     7.0000                                       \n",
       "------------------------------------------------------------------\n",
       "              Coef.   Std.Err.     z      P>|z|    [0.025   0.975]\n",
       "------------------------------------------------------------------\n",
       "Intercept    -3.4952    0.0706  -49.5376  0.0000  -3.6335  -3.3569\n",
       "age           0.0080    0.0015    5.4254  0.0000   0.0051   0.0109\n",
       "balance       0.0000    0.0000    8.6625  0.0000   0.0000   0.0000\n",
       "duration      0.0036    0.0001   64.4801  0.0000   0.0035   0.0037\n",
       "campaign     -0.1288    0.0095  -13.5025  0.0000  -0.1475  -0.1101\n",
       "pdays         0.0021    0.0002   13.7893  0.0000   0.0018   0.0024\n",
       "previous      0.0860    0.0074   11.6692  0.0000   0.0715   0.1004\n",
       "=================================================================\n",
       "\n",
       "\"\"\""
      ]
     },
     "execution_count": 14,
     "metadata": {},
     "output_type": "execute_result"
    }
   ],
   "source": [
    "#summary\n",
    "logit_model.summary2() # for AIC"
   ]
  },
  {
   "cell_type": "code",
   "execution_count": null,
   "metadata": {
    "colab": {
     "base_uri": "https://localhost:8080/",
     "height": 353
    },
    "id": "FH8rv10Oq44r",
    "outputId": "bfe76453-2376-4dc9-f162-17ad6b4a51d5"
   },
   "outputs": [
    {
     "data": {
      "text/html": [
       "<table class=\"simpletable\">\n",
       "<caption>Logit Regression Results</caption>\n",
       "<tr>\n",
       "  <th>Dep. Variable:</th>           <td>y</td>        <th>  No. Observations:  </th>  <td> 45211</td> \n",
       "</tr>\n",
       "<tr>\n",
       "  <th>Model:</th>                 <td>Logit</td>      <th>  Df Residuals:      </th>  <td> 45204</td> \n",
       "</tr>\n",
       "<tr>\n",
       "  <th>Method:</th>                 <td>MLE</td>       <th>  Df Model:          </th>  <td>     6</td> \n",
       "</tr>\n",
       "<tr>\n",
       "  <th>Date:</th>            <td>Fri, 29 Oct 2021</td> <th>  Pseudo R-squ.:     </th>  <td>0.1875</td> \n",
       "</tr>\n",
       "<tr>\n",
       "  <th>Time:</th>                <td>11:09:23</td>     <th>  Log-Likelihood:    </th> <td> -13256.</td>\n",
       "</tr>\n",
       "<tr>\n",
       "  <th>converged:</th>             <td>True</td>       <th>  LL-Null:           </th> <td> -16315.</td>\n",
       "</tr>\n",
       "<tr>\n",
       "  <th>Covariance Type:</th>     <td>nonrobust</td>    <th>  LLR p-value:       </th>  <td> 0.000</td> \n",
       "</tr>\n",
       "</table>\n",
       "<table class=\"simpletable\">\n",
       "<tr>\n",
       "      <td></td>         <th>coef</th>     <th>std err</th>      <th>z</th>      <th>P>|z|</th>  <th>[0.025</th>    <th>0.975]</th>  \n",
       "</tr>\n",
       "<tr>\n",
       "  <th>Intercept</th> <td>   -3.4952</td> <td>    0.071</td> <td>  -49.538</td> <td> 0.000</td> <td>   -3.633</td> <td>   -3.357</td>\n",
       "</tr>\n",
       "<tr>\n",
       "  <th>age</th>       <td>    0.0080</td> <td>    0.001</td> <td>    5.425</td> <td> 0.000</td> <td>    0.005</td> <td>    0.011</td>\n",
       "</tr>\n",
       "<tr>\n",
       "  <th>balance</th>   <td> 3.715e-05</td> <td> 4.29e-06</td> <td>    8.663</td> <td> 0.000</td> <td> 2.87e-05</td> <td> 4.56e-05</td>\n",
       "</tr>\n",
       "<tr>\n",
       "  <th>duration</th>  <td>    0.0036</td> <td> 5.64e-05</td> <td>   64.480</td> <td> 0.000</td> <td>    0.004</td> <td>    0.004</td>\n",
       "</tr>\n",
       "<tr>\n",
       "  <th>campaign</th>  <td>   -0.1288</td> <td>    0.010</td> <td>  -13.503</td> <td> 0.000</td> <td>   -0.148</td> <td>   -0.110</td>\n",
       "</tr>\n",
       "<tr>\n",
       "  <th>pdays</th>     <td>    0.0021</td> <td>    0.000</td> <td>   13.789</td> <td> 0.000</td> <td>    0.002</td> <td>    0.002</td>\n",
       "</tr>\n",
       "<tr>\n",
       "  <th>previous</th>  <td>    0.0860</td> <td>    0.007</td> <td>   11.669</td> <td> 0.000</td> <td>    0.072</td> <td>    0.100</td>\n",
       "</tr>\n",
       "</table>"
      ],
      "text/plain": [
       "<class 'statsmodels.iolib.summary.Summary'>\n",
       "\"\"\"\n",
       "                           Logit Regression Results                           \n",
       "==============================================================================\n",
       "Dep. Variable:                      y   No. Observations:                45211\n",
       "Model:                          Logit   Df Residuals:                    45204\n",
       "Method:                           MLE   Df Model:                            6\n",
       "Date:                Fri, 29 Oct 2021   Pseudo R-squ.:                  0.1875\n",
       "Time:                        11:09:23   Log-Likelihood:                -13256.\n",
       "converged:                       True   LL-Null:                       -16315.\n",
       "Covariance Type:            nonrobust   LLR p-value:                     0.000\n",
       "==============================================================================\n",
       "                 coef    std err          z      P>|z|      [0.025      0.975]\n",
       "------------------------------------------------------------------------------\n",
       "Intercept     -3.4952      0.071    -49.538      0.000      -3.633      -3.357\n",
       "age            0.0080      0.001      5.425      0.000       0.005       0.011\n",
       "balance     3.715e-05   4.29e-06      8.663      0.000    2.87e-05    4.56e-05\n",
       "duration       0.0036   5.64e-05     64.480      0.000       0.004       0.004\n",
       "campaign      -0.1288      0.010    -13.503      0.000      -0.148      -0.110\n",
       "pdays          0.0021      0.000     13.789      0.000       0.002       0.002\n",
       "previous       0.0860      0.007     11.669      0.000       0.072       0.100\n",
       "==============================================================================\n",
       "\"\"\""
      ]
     },
     "execution_count": 15,
     "metadata": {},
     "output_type": "execute_result"
    }
   ],
   "source": [
    "logit_model.summary()"
   ]
  },
  {
   "cell_type": "code",
   "execution_count": null,
   "metadata": {
    "id": "jFuEtx6eq7RL"
   },
   "outputs": [],
   "source": [
    "pred = logit_model.predict(bank1.iloc[ :, :6])"
   ]
  },
  {
   "cell_type": "code",
   "execution_count": null,
   "metadata": {
    "colab": {
     "base_uri": "https://localhost:8080/"
    },
    "id": "FrTeublVq9mt",
    "outputId": "9debf36b-a9ba-49ba-abb0-b59a0e19b760"
   },
   "outputs": [
    {
     "data": {
      "text/plain": [
       "0.09467858011431228"
      ]
     },
     "execution_count": 17,
     "metadata": {},
     "output_type": "execute_result"
    }
   ],
   "source": [
    "#ROC\n",
    "from sklearn import metrics\n",
    "fpr, tpr, thresholds = roc_curve(bank1.y, pred)\n",
    "optimal_idx = np.argmax(tpr - fpr)\n",
    "optimal_threshold = thresholds[optimal_idx]\n",
    "optimal_threshold"
   ]
  },
  {
   "cell_type": "code",
   "execution_count": null,
   "metadata": {
    "colab": {
     "base_uri": "https://localhost:8080/",
     "height": 80
    },
    "id": "xIxwHZcirArm",
    "outputId": "c146bd50-d2ed-4d14-8a9d-f943b6fd448b"
   },
   "outputs": [
    {
     "data": {
      "text/html": [
       "<div>\n",
       "<style scoped>\n",
       "    .dataframe tbody tr th:only-of-type {\n",
       "        vertical-align: middle;\n",
       "    }\n",
       "\n",
       "    .dataframe tbody tr th {\n",
       "        vertical-align: top;\n",
       "    }\n",
       "\n",
       "    .dataframe thead th {\n",
       "        text-align: right;\n",
       "    }\n",
       "</style>\n",
       "<table border=\"1\" class=\"dataframe\">\n",
       "  <thead>\n",
       "    <tr style=\"text-align: right;\">\n",
       "      <th></th>\n",
       "      <th>fpr</th>\n",
       "      <th>tpr</th>\n",
       "      <th>1-fpr</th>\n",
       "      <th>tf</th>\n",
       "      <th>thresholds</th>\n",
       "    </tr>\n",
       "  </thead>\n",
       "  <tbody>\n",
       "    <tr>\n",
       "      <th>5022</th>\n",
       "      <td>0.250664</td>\n",
       "      <td>0.749291</td>\n",
       "      <td>0.749336</td>\n",
       "      <td>-0.000045</td>\n",
       "      <td>0.103363</td>\n",
       "    </tr>\n",
       "  </tbody>\n",
       "</table>\n",
       "</div>"
      ],
      "text/plain": [
       "           fpr       tpr     1-fpr        tf  thresholds\n",
       "5022  0.250664  0.749291  0.749336 -0.000045    0.103363"
      ]
     },
     "execution_count": 18,
     "metadata": {},
     "output_type": "execute_result"
    }
   ],
   "source": [
    "import pylab as pl\n",
    "\n",
    "i = np.arange(len(tpr))\n",
    "roc = pd.DataFrame({'fpr' : pd.Series(fpr, index=i),'tpr' : pd.Series(tpr, index = i), '1-fpr' : pd.Series(1-fpr, index = i), 'tf' : pd.Series(tpr - (1-fpr), index = i), 'thresholds' : pd.Series(thresholds, index = i)})\n",
    "roc.iloc[(roc.tf-0).abs().argsort()[:1]]"
   ]
  },
  {
   "cell_type": "code",
   "execution_count": null,
   "metadata": {
    "colab": {
     "base_uri": "https://localhost:8080/",
     "height": 302
    },
    "id": "DhqYL2tFrDD1",
    "outputId": "8ee80c1a-b6c3-4b49-f34a-d4a60d213dd8"
   },
   "outputs": [
    {
     "data": {
      "text/plain": [
       "[]"
      ]
     },
     "execution_count": 19,
     "metadata": {},
     "output_type": "execute_result"
    },
    {
     "data": {
      "image/png": "[encoded data removed]",
      "text/plain": [
       "<Figure size 432x288 with 1 Axes>"
      ]
     },
     "metadata": {
      "needs_background": "light"
     },
     "output_type": "display_data"
    }
   ],
   "source": [
    "# Plot tpr vs 1-fpr\n",
    "fig, ax = pl.subplots()\n",
    "pl.plot(roc['tpr'], color = 'red')\n",
    "pl.plot(roc['1-fpr'], color = 'blue')\n",
    "pl.xlabel('1-False Positive Rate')\n",
    "pl.ylabel('True Positive Rate')\n",
    "pl.title('Receiver operating characteristic')\n",
    "ax.set_xticklabels([])"
   ]
  },
  {
   "cell_type": "code",
   "execution_count": null,
   "metadata": {
    "colab": {
     "base_uri": "https://localhost:8080/"
    },
    "id": "2Dl7PC9NrFza",
    "outputId": "defcc6cb-98af-4dd1-9932-9732814e2885"
   },
   "outputs": [
    {
     "name": "stdout",
     "output_type": "stream",
     "text": [
      "Area under the ROC curve : 0.830361\n"
     ]
    }
   ],
   "source": [
    "roc_auc = auc(fpr, tpr)\n",
    "print(\"Area under the ROC curve : %f\" % roc_auc)"
   ]
  },
  {
   "cell_type": "code",
   "execution_count": null,
   "metadata": {
    "colab": {
     "base_uri": "https://localhost:8080/"
    },
    "id": "NLQ3TnvgrICq",
    "outputId": "7b791237-2272-42f2-aa50-11785fb5cd21"
   },
   "outputs": [
    {
     "name": "stderr",
     "output_type": "stream",
     "text": [
      "/usr/local/lib/python3.7/dist-packages/ipykernel_launcher.py:2: SettingWithCopyWarning: \n",
      "A value is trying to be set on a copy of a slice from a DataFrame.\n",
      "Try using .loc[row_indexer,col_indexer] = value instead\n",
      "\n",
      "See the caveats in the documentation: https://pandas.pydata.org/pandas-docs/stable/user_guide/indexing.html#returning-a-view-versus-a-copy\n",
      "  \n"
     ]
    }
   ],
   "source": [
    "# filling all the cells with zeroes\n",
    "bank1[\"pred\"] = np.zeros(45211)\n"
   ]
  },
  {
   "cell_type": "code",
   "execution_count": null,
   "metadata": {
    "colab": {
     "base_uri": "https://localhost:8080/"
    },
    "id": "ksQ1Gk3frMoZ",
    "outputId": "9b06b8c5-85a4-446c-c21a-489e886f9e32"
   },
   "outputs": [
    {
     "name": "stderr",
     "output_type": "stream",
     "text": [
      "/usr/local/lib/python3.7/dist-packages/pandas/core/indexing.py:1763: SettingWithCopyWarning: \n",
      "A value is trying to be set on a copy of a slice from a DataFrame.\n",
      "Try using .loc[row_indexer,col_indexer] = value instead\n",
      "\n",
      "See the caveats in the documentation: https://pandas.pydata.org/pandas-docs/stable/user_guide/indexing.html#returning-a-view-versus-a-copy\n",
      "  isetter(loc, value)\n"
     ]
    }
   ],
   "source": [
    "# taking threshold value and above the prob value will be treated as correct value \n",
    "bank1.loc[pred > optimal_threshold, \"pred\"] = 1"
   ]
  },
  {
   "cell_type": "code",
   "execution_count": null,
   "metadata": {
    "colab": {
     "base_uri": "https://localhost:8080/",
     "height": 69
    },
    "id": "fbYvf2fOrNhs",
    "outputId": "5b317cfa-e590-4ff7-815a-4520f74777b9"
   },
   "outputs": [
    {
     "data": {
      "application/vnd.google.colaboratory.intrinsic+json": {
       "type": "string"
      },
      "text/plain": [
       "'              precision    recall  f1-score   support\\n\\n         0.0       0.71      0.96      0.82     29634\\n         1.0       0.79      0.27      0.40     15577\\n\\n    accuracy                           0.72     45211\\n   macro avg       0.75      0.61      0.61     45211\\nweighted avg       0.74      0.72      0.67     45211\\n'"
      ]
     },
     "execution_count": 23,
     "metadata": {},
     "output_type": "execute_result"
    }
   ],
   "source": [
    "# classification report\n",
    "classification = classification_report(bank1[\"pred\"], bank1[\"y\"])\n",
    "classification"
   ]
  },
  {
   "cell_type": "code",
   "execution_count": null,
   "metadata": {
    "id": "n14dbF-xrfdX"
   },
   "outputs": [],
   "source": [
    "### Splitting the data into train and test data \n",
    "from sklearn.model_selection import train_test_split\n",
    "train_data, test_data = train_test_split(bank1, test_size = 0.3)"
   ]
  },
  {
   "cell_type": "code",
   "execution_count": null,
   "metadata": {
    "colab": {
     "base_uri": "https://localhost:8080/"
    },
    "id": "hYlXf8DWtk69",
    "outputId": "ee8a2f5b-8d73-4ebd-c7d8-7148aec31294"
   },
   "outputs": [
    {
     "name": "stdout",
     "output_type": "stream",
     "text": [
      "Optimization terminated successfully.\n",
      "         Current function value: 0.297492\n",
      "         Iterations 7\n"
     ]
    }
   ],
   "source": [
    "# Model building \n",
    "import statsmodels.formula.api as sm\n",
    "model = sm.logit('y ~ age+balance+duration+campaign+pdays+previous', data = train_data).fit()\n"
   ]
  },
  {
   "cell_type": "code",
   "execution_count": null,
   "metadata": {
    "colab": {
     "base_uri": "https://localhost:8080/",
     "height": 357
    },
    "id": "yxD9ug4PtnPM",
    "outputId": "a87b61b4-539c-46b8-eda1-e28b6f8fa1ae"
   },
   "outputs": [
    {
     "data": {
      "text/html": [
       "<table class=\"simpletable\">\n",
       "<tr>\n",
       "        <td>Model:</td>              <td>Logit</td>      <td>Pseudo R-squared:</td>    <td>0.181</td>  \n",
       "</tr>\n",
       "<tr>\n",
       "  <td>Dependent Variable:</td>         <td>y</td>              <td>AIC:</td>        <td>18843.4606</td>\n",
       "</tr>\n",
       "<tr>\n",
       "         <td>Date:</td>        <td>2021-10-29 11:10</td>       <td>BIC:</td>        <td>18901.9974</td>\n",
       "</tr>\n",
       "<tr>\n",
       "   <td>No. Observations:</td>        <td>31647</td>       <td>Log-Likelihood:</td>    <td>-9414.7</td> \n",
       "</tr>\n",
       "<tr>\n",
       "       <td>Df Model:</td>              <td>6</td>            <td>LL-Null:</td>        <td>-11499.</td> \n",
       "</tr>\n",
       "<tr>\n",
       "     <td>Df Residuals:</td>          <td>31640</td>        <td>LLR p-value:</td>      <td>0.0000</td>  \n",
       "</tr>\n",
       "<tr>\n",
       "      <td>Converged:</td>           <td>1.0000</td>           <td>Scale:</td>         <td>1.0000</td>  \n",
       "</tr>\n",
       "<tr>\n",
       "    <td>No. Iterations:</td>        <td>7.0000</td>              <td></td>               <td></td>     \n",
       "</tr>\n",
       "</table>\n",
       "<table class=\"simpletable\">\n",
       "<tr>\n",
       "      <td></td>       <th>Coef.</th>  <th>Std.Err.</th>     <th>z</th>     <th>P>|z|</th> <th>[0.025</th>  <th>0.975]</th> \n",
       "</tr>\n",
       "<tr>\n",
       "  <th>Intercept</th> <td>-3.4753</td>  <td>0.0837</td>  <td>-41.5155</td> <td>0.0000</td> <td>-3.6394</td> <td>-3.3112</td>\n",
       "</tr>\n",
       "<tr>\n",
       "  <th>age</th>       <td>0.0089</td>   <td>0.0017</td>   <td>5.0978</td>  <td>0.0000</td> <td>0.0055</td>  <td>0.0123</td> \n",
       "</tr>\n",
       "<tr>\n",
       "  <th>balance</th>   <td>0.0000</td>   <td>0.0000</td>   <td>7.3611</td>  <td>0.0000</td> <td>0.0000</td>  <td>0.0000</td> \n",
       "</tr>\n",
       "<tr>\n",
       "  <th>duration</th>  <td>0.0035</td>   <td>0.0001</td>   <td>53.2714</td> <td>0.0000</td> <td>0.0034</td>  <td>0.0037</td> \n",
       "</tr>\n",
       "<tr>\n",
       "  <th>campaign</th>  <td>-0.1326</td>  <td>0.0114</td>  <td>-11.6354</td> <td>0.0000</td> <td>-0.1550</td> <td>-0.1103</td>\n",
       "</tr>\n",
       "<tr>\n",
       "  <th>pdays</th>     <td>0.0021</td>   <td>0.0002</td>   <td>11.7532</td> <td>0.0000</td> <td>0.0018</td>  <td>0.0025</td> \n",
       "</tr>\n",
       "<tr>\n",
       "  <th>previous</th>  <td>0.0767</td>   <td>0.0087</td>   <td>8.8350</td>  <td>0.0000</td> <td>0.0597</td>  <td>0.0938</td> \n",
       "</tr>\n",
       "</table>"
      ],
      "text/plain": [
       "<class 'statsmodels.iolib.summary2.Summary'>\n",
       "\"\"\"\n",
       "                         Results: Logit\n",
       "=================================================================\n",
       "Model:              Logit            Pseudo R-squared: 0.181     \n",
       "Dependent Variable: y                AIC:              18843.4606\n",
       "Date:               2021-10-29 11:10 BIC:              18901.9974\n",
       "No. Observations:   31647            Log-Likelihood:   -9414.7   \n",
       "Df Model:           6                LL-Null:          -11499.   \n",
       "Df Residuals:       31640            LLR p-value:      0.0000    \n",
       "Converged:          1.0000           Scale:            1.0000    \n",
       "No. Iterations:     7.0000                                       \n",
       "------------------------------------------------------------------\n",
       "              Coef.   Std.Err.     z      P>|z|    [0.025   0.975]\n",
       "------------------------------------------------------------------\n",
       "Intercept    -3.4753    0.0837  -41.5155  0.0000  -3.6394  -3.3112\n",
       "age           0.0089    0.0017    5.0978  0.0000   0.0055   0.0123\n",
       "balance       0.0000    0.0000    7.3611  0.0000   0.0000   0.0000\n",
       "duration      0.0035    0.0001   53.2714  0.0000   0.0034   0.0037\n",
       "campaign     -0.1326    0.0114  -11.6354  0.0000  -0.1550  -0.1103\n",
       "pdays         0.0021    0.0002   11.7532  0.0000   0.0018   0.0025\n",
       "previous      0.0767    0.0087    8.8350  0.0000   0.0597   0.0938\n",
       "=================================================================\n",
       "\n",
       "\"\"\""
      ]
     },
     "execution_count": 26,
     "metadata": {},
     "output_type": "execute_result"
    }
   ],
   "source": [
    "#summary\n",
    "model.summary2() # for AIC"
   ]
  },
  {
   "cell_type": "code",
   "execution_count": null,
   "metadata": {
    "colab": {
     "base_uri": "https://localhost:8080/",
     "height": 353
    },
    "id": "y-CEP5ZctpZa",
    "outputId": "d2da16b0-e494-4661-95cc-1f2b91641d03"
   },
   "outputs": [
    {
     "data": {
      "text/html": [
       "<table class=\"simpletable\">\n",
       "<caption>Logit Regression Results</caption>\n",
       "<tr>\n",
       "  <th>Dep. Variable:</th>           <td>y</td>        <th>  No. Observations:  </th>  <td> 31647</td> \n",
       "</tr>\n",
       "<tr>\n",
       "  <th>Model:</th>                 <td>Logit</td>      <th>  Df Residuals:      </th>  <td> 31640</td> \n",
       "</tr>\n",
       "<tr>\n",
       "  <th>Method:</th>                 <td>MLE</td>       <th>  Df Model:          </th>  <td>     6</td> \n",
       "</tr>\n",
       "<tr>\n",
       "  <th>Date:</th>            <td>Fri, 29 Oct 2021</td> <th>  Pseudo R-squ.:     </th>  <td>0.1812</td> \n",
       "</tr>\n",
       "<tr>\n",
       "  <th>Time:</th>                <td>11:10:48</td>     <th>  Log-Likelihood:    </th> <td> -9414.7</td>\n",
       "</tr>\n",
       "<tr>\n",
       "  <th>converged:</th>             <td>True</td>       <th>  LL-Null:           </th> <td> -11499.</td>\n",
       "</tr>\n",
       "<tr>\n",
       "  <th>Covariance Type:</th>     <td>nonrobust</td>    <th>  LLR p-value:       </th>  <td> 0.000</td> \n",
       "</tr>\n",
       "</table>\n",
       "<table class=\"simpletable\">\n",
       "<tr>\n",
       "      <td></td>         <th>coef</th>     <th>std err</th>      <th>z</th>      <th>P>|z|</th>  <th>[0.025</th>    <th>0.975]</th>  \n",
       "</tr>\n",
       "<tr>\n",
       "  <th>Intercept</th> <td>   -3.4753</td> <td>    0.084</td> <td>  -41.515</td> <td> 0.000</td> <td>   -3.639</td> <td>   -3.311</td>\n",
       "</tr>\n",
       "<tr>\n",
       "  <th>age</th>       <td>    0.0089</td> <td>    0.002</td> <td>    5.098</td> <td> 0.000</td> <td>    0.005</td> <td>    0.012</td>\n",
       "</tr>\n",
       "<tr>\n",
       "  <th>balance</th>   <td> 3.762e-05</td> <td> 5.11e-06</td> <td>    7.361</td> <td> 0.000</td> <td> 2.76e-05</td> <td> 4.76e-05</td>\n",
       "</tr>\n",
       "<tr>\n",
       "  <th>duration</th>  <td>    0.0035</td> <td> 6.66e-05</td> <td>   53.271</td> <td> 0.000</td> <td>    0.003</td> <td>    0.004</td>\n",
       "</tr>\n",
       "<tr>\n",
       "  <th>campaign</th>  <td>   -0.1326</td> <td>    0.011</td> <td>  -11.635</td> <td> 0.000</td> <td>   -0.155</td> <td>   -0.110</td>\n",
       "</tr>\n",
       "<tr>\n",
       "  <th>pdays</th>     <td>    0.0021</td> <td>    0.000</td> <td>   11.753</td> <td> 0.000</td> <td>    0.002</td> <td>    0.002</td>\n",
       "</tr>\n",
       "<tr>\n",
       "  <th>previous</th>  <td>    0.0767</td> <td>    0.009</td> <td>    8.835</td> <td> 0.000</td> <td>    0.060</td> <td>    0.094</td>\n",
       "</tr>\n",
       "</table>"
      ],
      "text/plain": [
       "<class 'statsmodels.iolib.summary.Summary'>\n",
       "\"\"\"\n",
       "                           Logit Regression Results                           \n",
       "==============================================================================\n",
       "Dep. Variable:                      y   No. Observations:                31647\n",
       "Model:                          Logit   Df Residuals:                    31640\n",
       "Method:                           MLE   Df Model:                            6\n",
       "Date:                Fri, 29 Oct 2021   Pseudo R-squ.:                  0.1812\n",
       "Time:                        11:10:48   Log-Likelihood:                -9414.7\n",
       "converged:                       True   LL-Null:                       -11499.\n",
       "Covariance Type:            nonrobust   LLR p-value:                     0.000\n",
       "==============================================================================\n",
       "                 coef    std err          z      P>|z|      [0.025      0.975]\n",
       "------------------------------------------------------------------------------\n",
       "Intercept     -3.4753      0.084    -41.515      0.000      -3.639      -3.311\n",
       "age            0.0089      0.002      5.098      0.000       0.005       0.012\n",
       "balance     3.762e-05   5.11e-06      7.361      0.000    2.76e-05    4.76e-05\n",
       "duration       0.0035   6.66e-05     53.271      0.000       0.003       0.004\n",
       "campaign      -0.1326      0.011    -11.635      0.000      -0.155      -0.110\n",
       "pdays          0.0021      0.000     11.753      0.000       0.002       0.002\n",
       "previous       0.0767      0.009      8.835      0.000       0.060       0.094\n",
       "==============================================================================\n",
       "\"\"\""
      ]
     },
     "execution_count": 27,
     "metadata": {},
     "output_type": "execute_result"
    }
   ],
   "source": [
    "model.summary()"
   ]
  },
  {
   "cell_type": "code",
   "execution_count": null,
   "metadata": {
    "id": "D6iAQtZgtsOy"
   },
   "outputs": [],
   "source": [
    "# Prediction on Test data set\n",
    "test_pred = logit_model.predict(test_data)"
   ]
  },
  {
   "cell_type": "code",
   "execution_count": null,
   "metadata": {
    "colab": {
     "base_uri": "https://localhost:8080/"
    },
    "id": "JvxlBcDHtu1_",
    "outputId": "031ecb44-6ddd-4ab9-afa6-fb2172b00d01"
   },
   "outputs": [
    {
     "name": "stderr",
     "output_type": "stream",
     "text": [
      "/usr/local/lib/python3.7/dist-packages/ipykernel_launcher.py:3: SettingWithCopyWarning: \n",
      "A value is trying to be set on a copy of a slice from a DataFrame.\n",
      "Try using .loc[row_indexer,col_indexer] = value instead\n",
      "\n",
      "See the caveats in the documentation: https://pandas.pydata.org/pandas-docs/stable/user_guide/indexing.html#returning-a-view-versus-a-copy\n",
      "  This is separate from the ipykernel package so we can avoid doing imports until\n"
     ]
    }
   ],
   "source": [
    "# Creating new column for storing predicted class of Attorney\n",
    "# filling all the cells with zeroes\n",
    "test_data[\"test_pred\"] = np.zeros(13564)"
   ]
  },
  {
   "cell_type": "code",
   "execution_count": null,
   "metadata": {
    "colab": {
     "base_uri": "https://localhost:8080/"
    },
    "id": "i00soURHtxPq",
    "outputId": "d45b8615-de0d-44af-9fa2-47190526de87"
   },
   "outputs": [
    {
     "name": "stderr",
     "output_type": "stream",
     "text": [
      "/usr/local/lib/python3.7/dist-packages/pandas/core/indexing.py:1763: SettingWithCopyWarning: \n",
      "A value is trying to be set on a copy of a slice from a DataFrame.\n",
      "Try using .loc[row_indexer,col_indexer] = value instead\n",
      "\n",
      "See the caveats in the documentation: https://pandas.pydata.org/pandas-docs/stable/user_guide/indexing.html#returning-a-view-versus-a-copy\n",
      "  isetter(loc, value)\n"
     ]
    }
   ],
   "source": [
    "# taking threshold value as 'optimal_threshold' and above the thresold prob value will be treated as 1 \n",
    "test_data.loc[test_pred > optimal_threshold, \"test_pred\"] = 1"
   ]
  },
  {
   "cell_type": "code",
   "execution_count": null,
   "metadata": {
    "colab": {
     "base_uri": "https://localhost:8080/",
     "height": 142
    },
    "id": "GW7BazuotzuO",
    "outputId": "0e206d9e-5918-4831-a989-9786ba1337e4"
   },
   "outputs": [
    {
     "data": {
      "text/html": [
       "<div>\n",
       "<style scoped>\n",
       "    .dataframe tbody tr th:only-of-type {\n",
       "        vertical-align: middle;\n",
       "    }\n",
       "\n",
       "    .dataframe tbody tr th {\n",
       "        vertical-align: top;\n",
       "    }\n",
       "\n",
       "    .dataframe thead th {\n",
       "        text-align: right;\n",
       "    }\n",
       "</style>\n",
       "<table border=\"1\" class=\"dataframe\">\n",
       "  <thead>\n",
       "    <tr style=\"text-align: right;\">\n",
       "      <th>y</th>\n",
       "      <th>0</th>\n",
       "      <th>1</th>\n",
       "    </tr>\n",
       "    <tr>\n",
       "      <th>test_pred</th>\n",
       "      <th></th>\n",
       "      <th></th>\n",
       "    </tr>\n",
       "  </thead>\n",
       "  <tbody>\n",
       "    <tr>\n",
       "      <th>0.0</th>\n",
       "      <td>8586</td>\n",
       "      <td>321</td>\n",
       "    </tr>\n",
       "    <tr>\n",
       "      <th>1.0</th>\n",
       "      <td>3430</td>\n",
       "      <td>1227</td>\n",
       "    </tr>\n",
       "  </tbody>\n",
       "</table>\n",
       "</div>"
      ],
      "text/plain": [
       "y             0     1\n",
       "test_pred            \n",
       "0.0        8586   321\n",
       "1.0        3430  1227"
      ]
     },
     "execution_count": 31,
     "metadata": {},
     "output_type": "execute_result"
    }
   ],
   "source": [
    "# confusion matrix \n",
    "confusion_matrix = pd.crosstab(test_data.test_pred, test_data['y'])\n",
    "confusion_matrix"
   ]
  },
  {
   "cell_type": "code",
   "execution_count": null,
   "metadata": {
    "colab": {
     "base_uri": "https://localhost:8080/"
    },
    "id": "2ZjGYyJFt1z8",
    "outputId": "c81f0f02-ca80-4a62-8499-c0045af950f5"
   },
   "outputs": [
    {
     "data": {
      "text/plain": [
       "0.7234591565909761"
      ]
     },
     "execution_count": 32,
     "metadata": {},
     "output_type": "execute_result"
    }
   ],
   "source": [
    "accuracy_test = (8586 + 1227)/(13564) \n",
    "accuracy_test"
   ]
  },
  {
   "cell_type": "code",
   "execution_count": null,
   "metadata": {
    "colab": {
     "base_uri": "https://localhost:8080/",
     "height": 69
    },
    "id": "uZWDqzwYt4K3",
    "outputId": "3564d854-a8a6-4d1d-bb79-96bde1f6ece8"
   },
   "outputs": [
    {
     "data": {
      "application/vnd.google.colaboratory.intrinsic+json": {
       "type": "string"
      },
      "text/plain": [
       "'              precision    recall  f1-score   support\\n\\n         0.0       0.71      0.96      0.82      8907\\n         1.0       0.79      0.26      0.40      4657\\n\\n    accuracy                           0.72     13564\\n   macro avg       0.75      0.61      0.61     13564\\nweighted avg       0.74      0.72      0.67     13564\\n'"
      ]
     },
     "execution_count": 33,
     "metadata": {},
     "output_type": "execute_result"
    }
   ],
   "source": [
    "# classification report\n",
    "classification_test = classification_report(test_data[\"test_pred\"], test_data[\"y\"])\n",
    "classification_test"
   ]
  },
  {
   "cell_type": "code",
   "execution_count": null,
   "metadata": {
    "id": "zI6OAjC_t6P-"
   },
   "outputs": [],
   "source": [
    "#ROC CURVE AND AUC\n",
    "fpr, tpr, threshold = metrics.roc_curve(test_data[\"y\"], test_pred)"
   ]
  },
  {
   "cell_type": "code",
   "execution_count": null,
   "metadata": {
    "colab": {
     "base_uri": "https://localhost:8080/",
     "height": 296
    },
    "id": "1jP6gEQ5t8ur",
    "outputId": "afd437e9-ee38-43eb-9255-de9f17ffd1ed"
   },
   "outputs": [
    {
     "data": {
      "text/plain": [
       "0.8346291669247206"
      ]
     },
     "execution_count": 35,
     "metadata": {},
     "output_type": "execute_result"
    },
    {
     "data": {
      "image/png": "[encoded data removed]",
      "text/plain": [
       "<Figure size 432x288 with 1 Axes>"
      ]
     },
     "metadata": {
      "needs_background": "light"
     },
     "output_type": "display_data"
    }
   ],
   "source": [
    "#PLOT OF ROC\n",
    "plt.plot(fpr, tpr);plt.xlabel(\"False positive rate\");plt.ylabel(\"True positive rate\")\n",
    "\n",
    "roc_auc_test = metrics.auc(fpr, tpr)\n",
    "roc_auc_test"
   ]
  },
  {
   "cell_type": "code",
   "execution_count": null,
   "metadata": {
    "id": "vm5xLo_BuF7G"
   },
   "outputs": [],
   "source": [
    "# prediction on train data\n",
    "train_pred = model.predict(train_data.iloc[ :, :6])"
   ]
  },
  {
   "cell_type": "code",
   "execution_count": null,
   "metadata": {
    "colab": {
     "base_uri": "https://localhost:8080/"
    },
    "id": "qZhP4ydUuIqs",
    "outputId": "2fe7e737-6def-484e-bccd-07854062ac47"
   },
   "outputs": [
    {
     "name": "stderr",
     "output_type": "stream",
     "text": [
      "/usr/local/lib/python3.7/dist-packages/ipykernel_launcher.py:3: SettingWithCopyWarning: \n",
      "A value is trying to be set on a copy of a slice from a DataFrame.\n",
      "Try using .loc[row_indexer,col_indexer] = value instead\n",
      "\n",
      "See the caveats in the documentation: https://pandas.pydata.org/pandas-docs/stable/user_guide/indexing.html#returning-a-view-versus-a-copy\n",
      "  This is separate from the ipykernel package so we can avoid doing imports until\n"
     ]
    }
   ],
   "source": [
    "# Creating new column \n",
    "# filling all the cells with zeroes\n",
    "train_data[\"train_pred\"] = np.zeros(31647)"
   ]
  },
  {
   "cell_type": "code",
   "execution_count": null,
   "metadata": {
    "colab": {
     "base_uri": "https://localhost:8080/"
    },
    "id": "VhhfbfBtuvYA",
    "outputId": "b824347d-6ad5-400e-db43-1c9cc89fb398"
   },
   "outputs": [
    {
     "name": "stderr",
     "output_type": "stream",
     "text": [
      "/usr/local/lib/python3.7/dist-packages/pandas/core/indexing.py:1763: SettingWithCopyWarning: \n",
      "A value is trying to be set on a copy of a slice from a DataFrame.\n",
      "Try using .loc[row_indexer,col_indexer] = value instead\n",
      "\n",
      "See the caveats in the documentation: https://pandas.pydata.org/pandas-docs/stable/user_guide/indexing.html#returning-a-view-versus-a-copy\n",
      "  isetter(loc, value)\n"
     ]
    }
   ],
   "source": [
    "# taking threshold value and above the prob value will be treated as correct value \n",
    "train_data.loc[train_pred > optimal_threshold, \"train_pred\"] = 1"
   ]
  },
  {
   "cell_type": "code",
   "execution_count": null,
   "metadata": {
    "colab": {
     "base_uri": "https://localhost:8080/",
     "height": 142
    },
    "id": "yuVpI-mJux2m",
    "outputId": "727bb5fc-4385-4296-8156-d74d2e39611a"
   },
   "outputs": [
    {
     "data": {
      "text/html": [
       "<div>\n",
       "<style scoped>\n",
       "    .dataframe tbody tr th:only-of-type {\n",
       "        vertical-align: middle;\n",
       "    }\n",
       "\n",
       "    .dataframe tbody tr th {\n",
       "        vertical-align: top;\n",
       "    }\n",
       "\n",
       "    .dataframe thead th {\n",
       "        text-align: right;\n",
       "    }\n",
       "</style>\n",
       "<table border=\"1\" class=\"dataframe\">\n",
       "  <thead>\n",
       "    <tr style=\"text-align: right;\">\n",
       "      <th>y</th>\n",
       "      <th>0</th>\n",
       "      <th>1</th>\n",
       "    </tr>\n",
       "    <tr>\n",
       "      <th>train_pred</th>\n",
       "      <th></th>\n",
       "      <th></th>\n",
       "    </tr>\n",
       "  </thead>\n",
       "  <tbody>\n",
       "    <tr>\n",
       "      <th>0.0</th>\n",
       "      <td>19657</td>\n",
       "      <td>768</td>\n",
       "    </tr>\n",
       "    <tr>\n",
       "      <th>1.0</th>\n",
       "      <td>8249</td>\n",
       "      <td>2973</td>\n",
       "    </tr>\n",
       "  </tbody>\n",
       "</table>\n",
       "</div>"
      ],
      "text/plain": [
       "y               0     1\n",
       "train_pred             \n",
       "0.0         19657   768\n",
       "1.0          8249  2973"
      ]
     },
     "execution_count": 39,
     "metadata": {},
     "output_type": "execute_result"
    }
   ],
   "source": [
    "# confusion matrix\n",
    "confusion_matrx = pd.crosstab(train_data.train_pred, train_data['y'])\n",
    "confusion_matrx"
   ]
  },
  {
   "cell_type": "code",
   "execution_count": null,
   "metadata": {
    "colab": {
     "base_uri": "https://localhost:8080/"
    },
    "id": "1GXhWDTLu1gU",
    "outputId": "a14fbf70-e94f-4989-82c1-c7dbaf3ea6d4"
   },
   "outputs": [
    {
     "name": "stdout",
     "output_type": "stream",
     "text": [
      "0.7150756785793282\n"
     ]
    }
   ],
   "source": [
    "accuracy_train = (19657 + 2973)/(31647)\n",
    "print(accuracy_train)"
   ]
  },
  {
   "cell_type": "markdown",
   "metadata": {
    "id": "mrmiHcLAwuio"
   },
   "source": [
    "**Accuracy = 71.50%**"
   ]
  }
 ],
 "metadata": {
  "colab": {
   "name": "bank_Logistic.ipynb",
   "provenance": []
  },
  "kernelspec": {
   "display_name": "Python 3 (ipykernel)",
   "language": "python",
   "name": "python3"
  },
  "language_info": {
   "codemirror_mode": {
    "name": "ipython",
    "version": 3
   },
   "file_extension": ".py",
   "mimetype": "text/x-python",
   "name": "python",
   "nbconvert_exporter": "python",
   "pygments_lexer": "ipython3",
   "version": "3.9.7"
  }
 },
 "nbformat": 4,
 "nbformat_minor": 1
}
