{
 "cells": [
  {
   "cell_type": "markdown",
   "id": "0c7140c4",
   "metadata": {
    "id": "5y3ZsgQcUAZ7"
   },
   "source": [
    "Prediction of election results has become trivial in these days, the outcome variable is (0/1) and the other factors that affect a candidate win or loss is amount of money spent, popularity and more. Perform Logistic Regression on the dataset and classify the candidates."
   ]
  },
  {
   "cell_type": "markdown",
   "id": "3d609e72",
   "metadata": {
    "id": "-AclN-YCuJ1V"
   },
   "source": [
    "**Bussiness Objective :- to predict whether a candidate will win or lose**"
   ]
  },
  {
   "cell_type": "code",
   "execution_count": 1,
   "id": "99b87b31",
   "metadata": {},
   "outputs": [],
   "source": [
    "import pandas as pd\n",
    "import seaborn as sns"
   ]
  },
  {
   "cell_type": "code",
   "execution_count": 2,
   "id": "face6467",
   "metadata": {},
   "outputs": [
    {
     "data": {
      "text/html": [
       "<div>\n",
       "<style scoped>\n",
       "    .dataframe tbody tr th:only-of-type {\n",
       "        vertical-align: middle;\n",
       "    }\n",
       "\n",
       "    .dataframe tbody tr th {\n",
       "        vertical-align: top;\n",
       "    }\n",
       "\n",
       "    .dataframe thead th {\n",
       "        text-align: right;\n",
       "    }\n",
       "</style>\n",
       "<table border=\"1\" class=\"dataframe\">\n",
       "  <thead>\n",
       "    <tr style=\"text-align: right;\">\n",
       "      <th></th>\n",
       "      <th>Election-id</th>\n",
       "      <th>Result</th>\n",
       "      <th>Year</th>\n",
       "      <th>Amount Spent</th>\n",
       "      <th>Popularity Rank</th>\n",
       "    </tr>\n",
       "  </thead>\n",
       "  <tbody>\n",
       "    <tr>\n",
       "      <th>0</th>\n",
       "      <td>NaN</td>\n",
       "      <td>NaN</td>\n",
       "      <td>NaN</td>\n",
       "      <td>NaN</td>\n",
       "      <td>NaN</td>\n",
       "    </tr>\n",
       "    <tr>\n",
       "      <th>1</th>\n",
       "      <td>122.0</td>\n",
       "      <td>0.0</td>\n",
       "      <td>32.0</td>\n",
       "      <td>3.81</td>\n",
       "      <td>3.0</td>\n",
       "    </tr>\n",
       "    <tr>\n",
       "      <th>2</th>\n",
       "      <td>315.0</td>\n",
       "      <td>1.0</td>\n",
       "      <td>48.0</td>\n",
       "      <td>6.32</td>\n",
       "      <td>2.0</td>\n",
       "    </tr>\n",
       "    <tr>\n",
       "      <th>3</th>\n",
       "      <td>201.0</td>\n",
       "      <td>1.0</td>\n",
       "      <td>51.0</td>\n",
       "      <td>3.67</td>\n",
       "      <td>1.0</td>\n",
       "    </tr>\n",
       "    <tr>\n",
       "      <th>4</th>\n",
       "      <td>965.0</td>\n",
       "      <td>0.0</td>\n",
       "      <td>40.0</td>\n",
       "      <td>2.93</td>\n",
       "      <td>4.0</td>\n",
       "    </tr>\n",
       "  </tbody>\n",
       "</table>\n",
       "</div>"
      ],
      "text/plain": [
       "   Election-id  Result  Year  Amount Spent  Popularity Rank\n",
       "0          NaN     NaN   NaN           NaN              NaN\n",
       "1        122.0     0.0  32.0          3.81              3.0\n",
       "2        315.0     1.0  48.0          6.32              2.0\n",
       "3        201.0     1.0  51.0          3.67              1.0\n",
       "4        965.0     0.0  40.0          2.93              4.0"
      ]
     },
     "execution_count": 2,
     "metadata": {},
     "output_type": "execute_result"
    }
   ],
   "source": [
    "election = pd.read_csv(r\"C:\\Users\\D\\Desktop\\New Assignments  Keys\\Datasets\\election_data.csv\")\n",
    "election.head()"
   ]
  },
  {
   "cell_type": "code",
   "execution_count": 3,
   "id": "0199ac16",
   "metadata": {
    "colab": {
     "base_uri": "https://localhost:8080/"
    },
    "id": "POlbAfVvURJS",
    "outputId": "a8e0b005-c016-48c3-b314-12156e74fd61"
   },
   "outputs": [
    {
     "data": {
      "text/plain": [
       "Index(['Election-id', 'Result', 'Year', 'Amount Spent', 'Popularity Rank'], dtype='object')"
      ]
     },
     "execution_count": 3,
     "metadata": {},
     "output_type": "execute_result"
    }
   ],
   "source": [
    "election.columns"
   ]
  },
  {
   "cell_type": "markdown",
   "id": "0a3cc25d",
   "metadata": {
    "id": "StkcDEJHuZ5P"
   },
   "source": [
    "1\tElection Id\t------- Id of the person\n",
    "\n",
    "2\tResult\t------ Result of the election\n",
    "\n",
    "3\tYear\t------- Age of the person\n",
    "\n",
    "4\tAmount Spent\t------- Total amount spent for the election\n",
    "\n",
    "5\tPopularity Rank\t------- Popularity of the person to win."
   ]
  },
  {
   "cell_type": "code",
   "execution_count": 3,
   "id": "4d9670a6",
   "metadata": {},
   "outputs": [],
   "source": [
    "# 1st row is empty we have to remove it\n",
    "election.drop(0, axis = 0, inplace = True)"
   ]
  },
  {
   "cell_type": "code",
   "execution_count": 4,
   "id": "ab26003a",
   "metadata": {},
   "outputs": [
    {
     "name": "stdout",
     "output_type": "stream",
     "text": [
      "<class 'pandas.core.frame.DataFrame'>\n",
      "Int64Index: 10 entries, 1 to 10\n",
      "Data columns (total 5 columns):\n",
      " #   Column           Non-Null Count  Dtype  \n",
      "---  ------           --------------  -----  \n",
      " 0   Election-id      10 non-null     float64\n",
      " 1   Result           10 non-null     float64\n",
      " 2   Year             10 non-null     float64\n",
      " 3   Amount Spent     10 non-null     float64\n",
      " 4   Popularity Rank  10 non-null     float64\n",
      "dtypes: float64(5)\n",
      "memory usage: 480.0 bytes\n"
     ]
    }
   ],
   "source": [
    "election.info()"
   ]
  },
  {
   "cell_type": "code",
   "execution_count": 5,
   "id": "90eaa660",
   "metadata": {},
   "outputs": [],
   "source": [
    "# election id is irrelavant\n",
    "# Result is the target column"
   ]
  },
  {
   "cell_type": "code",
   "execution_count": 6,
   "id": "50a3ebe1",
   "metadata": {},
   "outputs": [],
   "source": [
    "election.shape\n",
    "election.drop('Election-id', axis = 1, inplace = True)"
   ]
  },
  {
   "cell_type": "code",
   "execution_count": 7,
   "id": "3031a9ad",
   "metadata": {},
   "outputs": [
    {
     "name": "stderr",
     "output_type": "stream",
     "text": [
      "C:\\ProgramData\\Anaconda3\\lib\\site-packages\\seaborn\\_decorators.py:36: FutureWarning: Pass the following variable as a keyword arg: x. From version 0.12, the only valid positional argument will be `data`, and passing other arguments without an explicit keyword will result in an error or misinterpretation.\n",
      "  warnings.warn(\n"
     ]
    },
    {
     "data": {
      "text/plain": [
       "<AxesSubplot:xlabel='Result', ylabel='count'>"
      ]
     },
     "execution_count": 7,
     "metadata": {},
     "output_type": "execute_result"
    },
    {
     "data": {
      "image/png": "[encoded data removed]",
      "text/plain": [
       "<Figure size 432x288 with 1 Axes>"
      ]
     },
     "metadata": {
      "needs_background": "light"
     },
     "output_type": "display_data"
    }
   ],
   "source": [
    "# we have only 10 rows - so we cannot split it between train and test as it wont give ggod result\n",
    "sns.countplot(election['Result'])\n",
    "# the target column is split 40 - 60 ratio, so it is balanced"
   ]
  },
  {
   "cell_type": "code",
   "execution_count": 8,
   "id": "00adc90a",
   "metadata": {},
   "outputs": [],
   "source": [
    "target = election['Result']\n",
    "predictors = election.drop('Result', axis = 1)"
   ]
  },
  {
   "cell_type": "code",
   "execution_count": 9,
   "id": "d4fc27f4",
   "metadata": {},
   "outputs": [],
   "source": [
    "from sklearn.preprocessing import StandardScaler\n",
    "scaler = StandardScaler()\n",
    "scaled_predictors = scaler.fit_transform(predictors)"
   ]
  },
  {
   "cell_type": "code",
   "execution_count": 10,
   "id": "a5ee1f00",
   "metadata": {},
   "outputs": [
    {
     "data": {
      "text/plain": [
       "LogisticRegression()"
      ]
     },
     "execution_count": 10,
     "metadata": {},
     "output_type": "execute_result"
    }
   ],
   "source": [
    "from sklearn.linear_model import LogisticRegression\n",
    "log_model = LogisticRegression()\n",
    "log_model.fit(scaled_predictors, target)"
   ]
  },
  {
   "cell_type": "code",
   "execution_count": 11,
   "id": "69cbe98f",
   "metadata": {},
   "outputs": [
    {
     "name": "stdout",
     "output_type": "stream",
     "text": [
      "              precision    recall  f1-score   support\n",
      "\n",
      "         0.0       1.00      1.00      1.00         4\n",
      "         1.0       1.00      1.00      1.00         6\n",
      "\n",
      "    accuracy                           1.00        10\n",
      "   macro avg       1.00      1.00      1.00        10\n",
      "weighted avg       1.00      1.00      1.00        10\n",
      "\n"
     ]
    },
    {
     "data": {
      "image/png": "[encoded data removed]",
      "text/plain": [
       "<Figure size 432x288 with 2 Axes>"
      ]
     },
     "metadata": {
      "needs_background": "light"
     },
     "output_type": "display_data"
    }
   ],
   "source": [
    "### Checking accuracy\n",
    "from sklearn.metrics import accuracy_score, confusion_matrix, classification_report, plot_confusion_matrix\n",
    "\n",
    "y_pred = log_model.predict(scaled_predictors)\n",
    "\n",
    "confusion_matrix(target, y_pred)\n",
    "plot_confusion_matrix(log_model, scaled_predictors, target)\n",
    "print(classification_report(target, y_pred))"
   ]
  },
  {
   "cell_type": "code",
   "execution_count": 12,
   "id": "f7535d83",
   "metadata": {},
   "outputs": [
    {
     "data": {
      "text/plain": [
       "<sklearn.metrics._plot.roc_curve.RocCurveDisplay at 0x1b484fad520>"
      ]
     },
     "execution_count": 12,
     "metadata": {},
     "output_type": "execute_result"
    },
    {
     "data": {
      "image/png": "[encoded data removed]",
      "text/plain": [
       "<Figure size 432x288 with 1 Axes>"
      ]
     },
     "metadata": {
      "needs_background": "light"
     },
     "output_type": "display_data"
    }
   ],
   "source": [
    "from sklearn.metrics import plot_roc_curve\n",
    "plot_roc_curve(log_model, scaled_predictors, target)"
   ]
  },
  {
   "cell_type": "code",
   "execution_count": 13,
   "id": "4d152a3b",
   "metadata": {},
   "outputs": [
    {
     "data": {
      "text/plain": [
       "Year               0.508922\n",
       "Amount Spent       0.265231\n",
       "Popularity Rank   -1.206429\n",
       "dtype: float64"
      ]
     },
     "execution_count": 13,
     "metadata": {},
     "output_type": "execute_result"
    }
   ],
   "source": [
    "coefs = pd.Series(index = predictors.columns, data = log_model.coef_[0])\n",
    "coefs\n",
    "# Coefficients of the predictor variables"
   ]
  },
  {
   "cell_type": "code",
   "execution_count": 14,
   "id": "fc829a7b",
   "metadata": {},
   "outputs": [],
   "source": [
    "#### We get accuracy of 100% on the training dataset\n",
    "## since this dataset is very small we cannot split it between train and test\n",
    "## therfore we cannot truly test this model unless more information is available"
   ]
  }
 ],
 "metadata": {
  "kernelspec": {
   "display_name": "Python 3 (ipykernel)",
   "language": "python",
   "name": "python3"
  },
  "language_info": {
   "codemirror_mode": {
    "name": "ipython",
    "version": 3
   },
   "file_extension": ".py",
   "mimetype": "text/x-python",
   "name": "python",
   "nbconvert_exporter": "python",
   "pygments_lexer": "ipython3",
   "version": "3.9.7"
  }
 },
 "nbformat": 4,
 "nbformat_minor": 5
}
