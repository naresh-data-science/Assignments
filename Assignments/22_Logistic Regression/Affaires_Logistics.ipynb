{
 "cells": [
  {
   "cell_type": "markdown",
   "metadata": {
    "id": "1GarVzjhMsPk"
   },
   "source": [
    "A psychological study has been conducted by a team of students at a University on married couples to determine the cause and effect on their married life and why they tend to have an extra marital affair, they have surveyed and collected a sample of data on which they would like to do further analysis to improve the relationship bond between couple, is it even possible to do so? Using your skills of Machine Learning apply Logistic Regression Model on the data and correctly classify whether a given person will have an affair or not given the set of attributes. \n",
    "Convert naffairs column to Discreet Binary before proceeding with algorithm."
   ]
  },
  {
   "cell_type": "markdown",
   "metadata": {
    "id": "tPWo7BKisWGp"
   },
   "source": [
    "**Business Objective :- To predict the status of the affaire of the person**"
   ]
  },
  {
   "cell_type": "code",
   "execution_count": null,
   "metadata": {
    "colab": {
     "base_uri": "https://localhost:8080/"
    },
    "id": "3aX_AnhjMTzi",
    "outputId": "5cda6bd7-20b1-4437-bde7-49bbcf1267fb"
   },
   "outputs": [
    {
     "name": "stderr",
     "output_type": "stream",
     "text": [
      "/usr/local/lib/python3.7/dist-packages/statsmodels/tools/_testing.py:19: FutureWarning: pandas.util.testing is deprecated. Use the functions in the public API at pandas.testing instead.\n",
      "  import pandas.util.testing as tm\n"
     ]
    }
   ],
   "source": [
    "#lets laod the required libraries\n",
    "import pandas as pd\n",
    "import numpy as np\n",
    "import seaborn as sb\n",
    "import matplotlib.pyplot as plt\n",
    "\n",
    "import statsmodels.formula.api as sm\n",
    "from sklearn.model_selection import train_test_split # train and test \n",
    "from sklearn import metrics\n",
    "from sklearn.metrics import roc_curve, auc\n",
    "from sklearn.metrics import classification_report"
   ]
  },
  {
   "cell_type": "code",
   "execution_count": null,
   "metadata": {
    "id": "2TY6B7RQNC8U"
   },
   "outputs": [],
   "source": [
    "#lets import the data\n",
    "affair = pd.read_csv(\"/content/Affairs.csv\")"
   ]
  },
  {
   "cell_type": "code",
   "execution_count": null,
   "metadata": {
    "colab": {
     "base_uri": "https://localhost:8080/"
    },
    "id": "imqW4adVNOMG",
    "outputId": "a849ac58-0d88-4567-c678-215e5b4ae3bf"
   },
   "outputs": [
    {
     "data": {
      "text/plain": [
       "Index(['Unnamed: 0', 'naffairs', 'kids', 'vryunhap', 'unhap', 'avgmarr',\n",
       "       'hapavg', 'vryhap', 'antirel', 'notrel', 'slghtrel', 'smerel', 'vryrel',\n",
       "       'yrsmarr1', 'yrsmarr2', 'yrsmarr3', 'yrsmarr4', 'yrsmarr5', 'yrsmarr6'],\n",
       "      dtype='object')"
      ]
     },
     "execution_count": 3,
     "metadata": {},
     "output_type": "execute_result"
    }
   ],
   "source": [
    "affair.columns"
   ]
  },
  {
   "cell_type": "markdown",
   "metadata": {
    "id": "6W0A6IzaslgA"
   },
   "source": [
    "Unnamed: 0\tIndex\n",
    "\n",
    "Naffairs\tNumber of affairs of a person\n",
    "\n",
    "kids\tChildren \n",
    "\n",
    "ryunhap\tAre you unhappy?\n",
    "\n",
    "unhap\tUnhappy?\n",
    "\n",
    "avgmarr\tAverage marriage\n",
    "\n",
    "hapavg\tAverage happy\n",
    "\n",
    "vryhap\tVery happy\n",
    "\n",
    "antirel\tAnti real\n",
    "\n",
    "Notrel\tNot real\n",
    "\n",
    "Slghtrel\tSlightly relate\n",
    "\n",
    "Smerel\tSomething relate\n",
    "\n",
    "Vryrel\tVery relate\n",
    "\n",
    "yrsmarr1\tYears of marraige\n",
    "\n",
    "yrsmarr2\tYears of marraige\n",
    "\n",
    "yrsmarr3\tYears of marraige\n",
    "\n",
    "Yrsmarr4\tYears of marraige\n",
    "\n",
    "Yrsmarr5\tYears of marraige\n",
    "\n",
    "Yrsmarr6\tYears of marraige\n"
   ]
  },
  {
   "cell_type": "code",
   "execution_count": null,
   "metadata": {
    "colab": {
     "base_uri": "https://localhost:8080/"
    },
    "id": "-Biir-ZQNQ9i",
    "outputId": "36588f38-f47b-4f8f-bbb2-985c65493431"
   },
   "outputs": [
    {
     "data": {
      "text/plain": [
       "Unnamed: 0    0\n",
       "naffairs      0\n",
       "kids          0\n",
       "vryunhap      0\n",
       "unhap         0\n",
       "avgmarr       0\n",
       "hapavg        0\n",
       "vryhap        0\n",
       "antirel       0\n",
       "notrel        0\n",
       "slghtrel      0\n",
       "smerel        0\n",
       "vryrel        0\n",
       "yrsmarr1      0\n",
       "yrsmarr2      0\n",
       "yrsmarr3      0\n",
       "yrsmarr4      0\n",
       "yrsmarr5      0\n",
       "yrsmarr6      0\n",
       "dtype: int64"
      ]
     },
     "execution_count": 4,
     "metadata": {},
     "output_type": "execute_result"
    }
   ],
   "source": [
    "affair.isna().sum()"
   ]
  },
  {
   "cell_type": "code",
   "execution_count": null,
   "metadata": {
    "id": "dutaIpAkNX75"
   },
   "outputs": [],
   "source": [
    "#lets rename the columns\n",
    "affair1 = affair.rename(columns={'Unnamed: 0':'Unnamed:0'})\n",
    "#lets remove the not required variables\n",
    "affair1 = affair1.drop(['Unnamed:0'], axis=1)"
   ]
  },
  {
   "cell_type": "code",
   "execution_count": null,
   "metadata": {
    "colab": {
     "base_uri": "https://localhost:8080/",
     "height": 317
    },
    "id": "qrKAJ1keNzqR",
    "outputId": "25a6f0bf-a34e-434d-e0aa-069a9a6221d5"
   },
   "outputs": [
    {
     "data": {
      "text/html": [
       "<div>\n",
       "<style scoped>\n",
       "    .dataframe tbody tr th:only-of-type {\n",
       "        vertical-align: middle;\n",
       "    }\n",
       "\n",
       "    .dataframe tbody tr th {\n",
       "        vertical-align: top;\n",
       "    }\n",
       "\n",
       "    .dataframe thead th {\n",
       "        text-align: right;\n",
       "    }\n",
       "</style>\n",
       "<table border=\"1\" class=\"dataframe\">\n",
       "  <thead>\n",
       "    <tr style=\"text-align: right;\">\n",
       "      <th></th>\n",
       "      <th>naffairs</th>\n",
       "      <th>kids</th>\n",
       "      <th>vryunhap</th>\n",
       "      <th>unhap</th>\n",
       "      <th>avgmarr</th>\n",
       "      <th>hapavg</th>\n",
       "      <th>vryhap</th>\n",
       "      <th>antirel</th>\n",
       "      <th>notrel</th>\n",
       "      <th>slghtrel</th>\n",
       "      <th>smerel</th>\n",
       "      <th>vryrel</th>\n",
       "      <th>yrsmarr1</th>\n",
       "      <th>yrsmarr2</th>\n",
       "      <th>yrsmarr3</th>\n",
       "      <th>yrsmarr4</th>\n",
       "      <th>yrsmarr5</th>\n",
       "      <th>yrsmarr6</th>\n",
       "    </tr>\n",
       "  </thead>\n",
       "  <tbody>\n",
       "    <tr>\n",
       "      <th>count</th>\n",
       "      <td>601.000000</td>\n",
       "      <td>601.000000</td>\n",
       "      <td>601.000000</td>\n",
       "      <td>601.000000</td>\n",
       "      <td>601.000000</td>\n",
       "      <td>601.000000</td>\n",
       "      <td>601.000000</td>\n",
       "      <td>601.000000</td>\n",
       "      <td>601.000000</td>\n",
       "      <td>601.000000</td>\n",
       "      <td>601.000000</td>\n",
       "      <td>601.000000</td>\n",
       "      <td>601.000000</td>\n",
       "      <td>601.000000</td>\n",
       "      <td>601.000000</td>\n",
       "      <td>601.000000</td>\n",
       "      <td>601.000000</td>\n",
       "      <td>601.000000</td>\n",
       "    </tr>\n",
       "    <tr>\n",
       "      <th>mean</th>\n",
       "      <td>1.455907</td>\n",
       "      <td>0.715474</td>\n",
       "      <td>0.026622</td>\n",
       "      <td>0.109817</td>\n",
       "      <td>0.154742</td>\n",
       "      <td>0.322795</td>\n",
       "      <td>0.386023</td>\n",
       "      <td>0.079867</td>\n",
       "      <td>0.272879</td>\n",
       "      <td>0.214642</td>\n",
       "      <td>0.316140</td>\n",
       "      <td>0.116473</td>\n",
       "      <td>0.086522</td>\n",
       "      <td>0.146423</td>\n",
       "      <td>0.174709</td>\n",
       "      <td>0.136439</td>\n",
       "      <td>0.116473</td>\n",
       "      <td>0.339434</td>\n",
       "    </tr>\n",
       "    <tr>\n",
       "      <th>std</th>\n",
       "      <td>3.298758</td>\n",
       "      <td>0.451564</td>\n",
       "      <td>0.161111</td>\n",
       "      <td>0.312922</td>\n",
       "      <td>0.361960</td>\n",
       "      <td>0.467935</td>\n",
       "      <td>0.487242</td>\n",
       "      <td>0.271313</td>\n",
       "      <td>0.445810</td>\n",
       "      <td>0.410916</td>\n",
       "      <td>0.465355</td>\n",
       "      <td>0.321058</td>\n",
       "      <td>0.281368</td>\n",
       "      <td>0.353824</td>\n",
       "      <td>0.380034</td>\n",
       "      <td>0.343540</td>\n",
       "      <td>0.321058</td>\n",
       "      <td>0.473912</td>\n",
       "    </tr>\n",
       "    <tr>\n",
       "      <th>min</th>\n",
       "      <td>0.000000</td>\n",
       "      <td>0.000000</td>\n",
       "      <td>0.000000</td>\n",
       "      <td>0.000000</td>\n",
       "      <td>0.000000</td>\n",
       "      <td>0.000000</td>\n",
       "      <td>0.000000</td>\n",
       "      <td>0.000000</td>\n",
       "      <td>0.000000</td>\n",
       "      <td>0.000000</td>\n",
       "      <td>0.000000</td>\n",
       "      <td>0.000000</td>\n",
       "      <td>0.000000</td>\n",
       "      <td>0.000000</td>\n",
       "      <td>0.000000</td>\n",
       "      <td>0.000000</td>\n",
       "      <td>0.000000</td>\n",
       "      <td>0.000000</td>\n",
       "    </tr>\n",
       "    <tr>\n",
       "      <th>25%</th>\n",
       "      <td>0.000000</td>\n",
       "      <td>0.000000</td>\n",
       "      <td>0.000000</td>\n",
       "      <td>0.000000</td>\n",
       "      <td>0.000000</td>\n",
       "      <td>0.000000</td>\n",
       "      <td>0.000000</td>\n",
       "      <td>0.000000</td>\n",
       "      <td>0.000000</td>\n",
       "      <td>0.000000</td>\n",
       "      <td>0.000000</td>\n",
       "      <td>0.000000</td>\n",
       "      <td>0.000000</td>\n",
       "      <td>0.000000</td>\n",
       "      <td>0.000000</td>\n",
       "      <td>0.000000</td>\n",
       "      <td>0.000000</td>\n",
       "      <td>0.000000</td>\n",
       "    </tr>\n",
       "    <tr>\n",
       "      <th>50%</th>\n",
       "      <td>0.000000</td>\n",
       "      <td>1.000000</td>\n",
       "      <td>0.000000</td>\n",
       "      <td>0.000000</td>\n",
       "      <td>0.000000</td>\n",
       "      <td>0.000000</td>\n",
       "      <td>0.000000</td>\n",
       "      <td>0.000000</td>\n",
       "      <td>0.000000</td>\n",
       "      <td>0.000000</td>\n",
       "      <td>0.000000</td>\n",
       "      <td>0.000000</td>\n",
       "      <td>0.000000</td>\n",
       "      <td>0.000000</td>\n",
       "      <td>0.000000</td>\n",
       "      <td>0.000000</td>\n",
       "      <td>0.000000</td>\n",
       "      <td>0.000000</td>\n",
       "    </tr>\n",
       "    <tr>\n",
       "      <th>75%</th>\n",
       "      <td>0.000000</td>\n",
       "      <td>1.000000</td>\n",
       "      <td>0.000000</td>\n",
       "      <td>0.000000</td>\n",
       "      <td>0.000000</td>\n",
       "      <td>1.000000</td>\n",
       "      <td>1.000000</td>\n",
       "      <td>0.000000</td>\n",
       "      <td>1.000000</td>\n",
       "      <td>0.000000</td>\n",
       "      <td>1.000000</td>\n",
       "      <td>0.000000</td>\n",
       "      <td>0.000000</td>\n",
       "      <td>0.000000</td>\n",
       "      <td>0.000000</td>\n",
       "      <td>0.000000</td>\n",
       "      <td>0.000000</td>\n",
       "      <td>1.000000</td>\n",
       "    </tr>\n",
       "    <tr>\n",
       "      <th>max</th>\n",
       "      <td>12.000000</td>\n",
       "      <td>1.000000</td>\n",
       "      <td>1.000000</td>\n",
       "      <td>1.000000</td>\n",
       "      <td>1.000000</td>\n",
       "      <td>1.000000</td>\n",
       "      <td>1.000000</td>\n",
       "      <td>1.000000</td>\n",
       "      <td>1.000000</td>\n",
       "      <td>1.000000</td>\n",
       "      <td>1.000000</td>\n",
       "      <td>1.000000</td>\n",
       "      <td>1.000000</td>\n",
       "      <td>1.000000</td>\n",
       "      <td>1.000000</td>\n",
       "      <td>1.000000</td>\n",
       "      <td>1.000000</td>\n",
       "      <td>1.000000</td>\n",
       "    </tr>\n",
       "  </tbody>\n",
       "</table>\n",
       "</div>"
      ],
      "text/plain": [
       "         naffairs        kids    vryunhap  ...    yrsmarr4    yrsmarr5    yrsmarr6\n",
       "count  601.000000  601.000000  601.000000  ...  601.000000  601.000000  601.000000\n",
       "mean     1.455907    0.715474    0.026622  ...    0.136439    0.116473    0.339434\n",
       "std      3.298758    0.451564    0.161111  ...    0.343540    0.321058    0.473912\n",
       "min      0.000000    0.000000    0.000000  ...    0.000000    0.000000    0.000000\n",
       "25%      0.000000    0.000000    0.000000  ...    0.000000    0.000000    0.000000\n",
       "50%      0.000000    1.000000    0.000000  ...    0.000000    0.000000    0.000000\n",
       "75%      0.000000    1.000000    0.000000  ...    0.000000    0.000000    1.000000\n",
       "max     12.000000    1.000000    1.000000  ...    1.000000    1.000000    1.000000\n",
       "\n",
       "[8 rows x 18 columns]"
      ]
     },
     "execution_count": 7,
     "metadata": {},
     "output_type": "execute_result"
    }
   ],
   "source": [
    "affair1.describe()\n"
   ]
  },
  {
   "cell_type": "code",
   "execution_count": null,
   "metadata": {
    "colab": {
     "base_uri": "https://localhost:8080/",
     "height": 224
    },
    "id": "AWSrv5nuN1GB",
    "outputId": "e86b9bd7-c0f8-45d6-bb8d-50eda2182d51"
   },
   "outputs": [
    {
     "data": {
      "text/html": [
       "<div>\n",
       "<style scoped>\n",
       "    .dataframe tbody tr th:only-of-type {\n",
       "        vertical-align: middle;\n",
       "    }\n",
       "\n",
       "    .dataframe tbody tr th {\n",
       "        vertical-align: top;\n",
       "    }\n",
       "\n",
       "    .dataframe thead th {\n",
       "        text-align: right;\n",
       "    }\n",
       "</style>\n",
       "<table border=\"1\" class=\"dataframe\">\n",
       "  <thead>\n",
       "    <tr style=\"text-align: right;\">\n",
       "      <th></th>\n",
       "      <th>naffairs</th>\n",
       "      <th>kids</th>\n",
       "      <th>vryunhap</th>\n",
       "      <th>unhap</th>\n",
       "      <th>avgmarr</th>\n",
       "      <th>hapavg</th>\n",
       "      <th>vryhap</th>\n",
       "      <th>antirel</th>\n",
       "      <th>notrel</th>\n",
       "      <th>slghtrel</th>\n",
       "      <th>smerel</th>\n",
       "      <th>vryrel</th>\n",
       "      <th>yrsmarr1</th>\n",
       "      <th>yrsmarr2</th>\n",
       "      <th>yrsmarr3</th>\n",
       "      <th>yrsmarr4</th>\n",
       "      <th>yrsmarr5</th>\n",
       "      <th>yrsmarr6</th>\n",
       "    </tr>\n",
       "  </thead>\n",
       "  <tbody>\n",
       "    <tr>\n",
       "      <th>0</th>\n",
       "      <td>0</td>\n",
       "      <td>0</td>\n",
       "      <td>0</td>\n",
       "      <td>0</td>\n",
       "      <td>0</td>\n",
       "      <td>1</td>\n",
       "      <td>0</td>\n",
       "      <td>0</td>\n",
       "      <td>0</td>\n",
       "      <td>1</td>\n",
       "      <td>0</td>\n",
       "      <td>0</td>\n",
       "      <td>0</td>\n",
       "      <td>0</td>\n",
       "      <td>0</td>\n",
       "      <td>0</td>\n",
       "      <td>1</td>\n",
       "      <td>0</td>\n",
       "    </tr>\n",
       "    <tr>\n",
       "      <th>1</th>\n",
       "      <td>0</td>\n",
       "      <td>0</td>\n",
       "      <td>0</td>\n",
       "      <td>0</td>\n",
       "      <td>0</td>\n",
       "      <td>1</td>\n",
       "      <td>0</td>\n",
       "      <td>0</td>\n",
       "      <td>0</td>\n",
       "      <td>0</td>\n",
       "      <td>1</td>\n",
       "      <td>0</td>\n",
       "      <td>0</td>\n",
       "      <td>0</td>\n",
       "      <td>1</td>\n",
       "      <td>0</td>\n",
       "      <td>0</td>\n",
       "      <td>0</td>\n",
       "    </tr>\n",
       "    <tr>\n",
       "      <th>2</th>\n",
       "      <td>3</td>\n",
       "      <td>0</td>\n",
       "      <td>0</td>\n",
       "      <td>0</td>\n",
       "      <td>0</td>\n",
       "      <td>1</td>\n",
       "      <td>0</td>\n",
       "      <td>0</td>\n",
       "      <td>0</td>\n",
       "      <td>1</td>\n",
       "      <td>0</td>\n",
       "      <td>0</td>\n",
       "      <td>0</td>\n",
       "      <td>1</td>\n",
       "      <td>0</td>\n",
       "      <td>0</td>\n",
       "      <td>0</td>\n",
       "      <td>0</td>\n",
       "    </tr>\n",
       "    <tr>\n",
       "      <th>3</th>\n",
       "      <td>0</td>\n",
       "      <td>1</td>\n",
       "      <td>0</td>\n",
       "      <td>0</td>\n",
       "      <td>0</td>\n",
       "      <td>1</td>\n",
       "      <td>0</td>\n",
       "      <td>1</td>\n",
       "      <td>0</td>\n",
       "      <td>0</td>\n",
       "      <td>0</td>\n",
       "      <td>0</td>\n",
       "      <td>0</td>\n",
       "      <td>0</td>\n",
       "      <td>0</td>\n",
       "      <td>0</td>\n",
       "      <td>0</td>\n",
       "      <td>1</td>\n",
       "    </tr>\n",
       "    <tr>\n",
       "      <th>4</th>\n",
       "      <td>3</td>\n",
       "      <td>1</td>\n",
       "      <td>0</td>\n",
       "      <td>0</td>\n",
       "      <td>0</td>\n",
       "      <td>0</td>\n",
       "      <td>1</td>\n",
       "      <td>0</td>\n",
       "      <td>0</td>\n",
       "      <td>1</td>\n",
       "      <td>0</td>\n",
       "      <td>0</td>\n",
       "      <td>0</td>\n",
       "      <td>0</td>\n",
       "      <td>1</td>\n",
       "      <td>0</td>\n",
       "      <td>0</td>\n",
       "      <td>0</td>\n",
       "    </tr>\n",
       "  </tbody>\n",
       "</table>\n",
       "</div>"
      ],
      "text/plain": [
       "   naffairs  kids  vryunhap  unhap  ...  yrsmarr3  yrsmarr4  yrsmarr5  yrsmarr6\n",
       "0         0     0         0      0  ...         0         0         1         0\n",
       "1         0     0         0      0  ...         1         0         0         0\n",
       "2         3     0         0      0  ...         0         0         0         0\n",
       "3         0     1         0      0  ...         0         0         0         1\n",
       "4         3     1         0      0  ...         1         0         0         0\n",
       "\n",
       "[5 rows x 18 columns]"
      ]
     },
     "execution_count": 8,
     "metadata": {},
     "output_type": "execute_result"
    }
   ],
   "source": [
    "affair1.head()\n"
   ]
  },
  {
   "cell_type": "code",
   "execution_count": null,
   "metadata": {
    "colab": {
     "base_uri": "https://localhost:8080/"
    },
    "id": "byqMH1_pN1QE",
    "outputId": "cc017b7e-0632-48c8-f9a8-d53277fa0141"
   },
   "outputs": [
    {
     "name": "stdout",
     "output_type": "stream",
     "text": [
      "<class 'pandas.core.frame.DataFrame'>\n",
      "RangeIndex: 601 entries, 0 to 600\n",
      "Data columns (total 19 columns):\n",
      " #   Column      Non-Null Count  Dtype\n",
      "---  ------      --------------  -----\n",
      " 0   Unnamed: 0  601 non-null    int64\n",
      " 1   naffairs    601 non-null    int64\n",
      " 2   kids        601 non-null    int64\n",
      " 3   vryunhap    601 non-null    int64\n",
      " 4   unhap       601 non-null    int64\n",
      " 5   avgmarr     601 non-null    int64\n",
      " 6   hapavg      601 non-null    int64\n",
      " 7   vryhap      601 non-null    int64\n",
      " 8   antirel     601 non-null    int64\n",
      " 9   notrel      601 non-null    int64\n",
      " 10  slghtrel    601 non-null    int64\n",
      " 11  smerel      601 non-null    int64\n",
      " 12  vryrel      601 non-null    int64\n",
      " 13  yrsmarr1    601 non-null    int64\n",
      " 14  yrsmarr2    601 non-null    int64\n",
      " 15  yrsmarr3    601 non-null    int64\n",
      " 16  yrsmarr4    601 non-null    int64\n",
      " 17  yrsmarr5    601 non-null    int64\n",
      " 18  yrsmarr6    601 non-null    int64\n",
      "dtypes: int64(19)\n",
      "memory usage: 89.3 KB\n"
     ]
    }
   ],
   "source": [
    "affair.info()\n"
   ]
  },
  {
   "cell_type": "code",
   "execution_count": null,
   "metadata": {
    "colab": {
     "base_uri": "https://localhost:8080/"
    },
    "id": "t0NVpzw6N1TG",
    "outputId": "993f9275-b60e-4975-c432-af0a1bf72e60"
   },
   "outputs": [
    {
     "name": "stdout",
     "output_type": "stream",
     "text": [
      "<class 'pandas.core.frame.DataFrame'>\n",
      "RangeIndex: 601 entries, 0 to 600\n",
      "Data columns (total 18 columns):\n",
      " #   Column    Non-Null Count  Dtype\n",
      "---  ------    --------------  -----\n",
      " 0   naffairs  601 non-null    int64\n",
      " 1   kids      601 non-null    int64\n",
      " 2   vryunhap  601 non-null    int64\n",
      " 3   unhap     601 non-null    int64\n",
      " 4   avgmarr   601 non-null    int64\n",
      " 5   hapavg    601 non-null    int64\n",
      " 6   vryhap    601 non-null    int64\n",
      " 7   antirel   601 non-null    int64\n",
      " 8   notrel    601 non-null    int64\n",
      " 9   slghtrel  601 non-null    int64\n",
      " 10  smerel    601 non-null    int64\n",
      " 11  vryrel    601 non-null    int64\n",
      " 12  yrsmarr1  601 non-null    int64\n",
      " 13  yrsmarr2  601 non-null    int64\n",
      " 14  yrsmarr3  601 non-null    int64\n",
      " 15  yrsmarr4  601 non-null    int64\n",
      " 16  yrsmarr5  601 non-null    int64\n",
      " 17  yrsmarr6  601 non-null    int64\n",
      "dtypes: int64(18)\n",
      "memory usage: 84.6 KB\n"
     ]
    }
   ],
   "source": [
    "affair1.info()\n"
   ]
  },
  {
   "cell_type": "code",
   "execution_count": null,
   "metadata": {
    "colab": {
     "base_uri": "https://localhost:8080/"
    },
    "id": "LUXiMlfhN1V4",
    "outputId": "64020980-d29b-461e-9de3-a0cae867bef3"
   },
   "outputs": [
    {
     "data": {
      "text/plain": [
       "Index(['naffairs', 'kids', 'vryunhap', 'unhap', 'avgmarr', 'hapavg', 'vryhap',\n",
       "       'antirel', 'notrel', 'slghtrel', 'smerel', 'vryrel', 'yrsmarr1',\n",
       "       'yrsmarr2', 'yrsmarr3', 'yrsmarr4', 'yrsmarr5', 'yrsmarr6'],\n",
       "      dtype='object')"
      ]
     },
     "execution_count": 11,
     "metadata": {},
     "output_type": "execute_result"
    }
   ],
   "source": [
    "affair1.columns\n"
   ]
  },
  {
   "cell_type": "code",
   "execution_count": null,
   "metadata": {
    "colab": {
     "base_uri": "https://localhost:8080/"
    },
    "id": "D2YtPbZFN1YZ",
    "outputId": "11967335-ab70-4463-ed61-fca4b1e904ee"
   },
   "outputs": [
    {
     "data": {
      "text/plain": [
       "0     451\n",
       "7      42\n",
       "12     38\n",
       "1      34\n",
       "3      19\n",
       "2      17\n",
       "Name: naffairs, dtype: int64"
      ]
     },
     "execution_count": 12,
     "metadata": {},
     "output_type": "execute_result"
    }
   ],
   "source": [
    "affair1.naffairs.value_counts()"
   ]
  },
  {
   "cell_type": "code",
   "execution_count": null,
   "metadata": {
    "id": "7gX_f8GtN1a2"
   },
   "outputs": [],
   "source": [
    "#lets convert naffairs to binary i.e 0 and 1\n",
    "#lets use the relace function first\n",
    "affair1[\"naffairs\"] = affair1[\"naffairs\"].replace(0,\"No\")\n",
    "affair1[\"naffairs\"] = affair1[\"naffairs\"].replace(1,\"Yes\")\n",
    "affair1[\"naffairs\"] = affair1[\"naffairs\"].replace(2,\"Yes\")\n",
    "affair1[\"naffairs\"] = affair1[\"naffairs\"].replace(3,\"Yes\")\n",
    "affair1[\"naffairs\"] = affair1[\"naffairs\"].replace(7,\"Yes\")\n",
    "affair1[\"naffairs\"] = affair1[\"naffairs\"].replace(12,\"Yes\")\n",
    "\n",
    "#lets convert naffairs to binary i.e 0 and 1\n",
    "affair1['naffairs'] = affair1.naffairs.map({'No':0, 'Yes':1})"
   ]
  },
  {
   "cell_type": "code",
   "execution_count": null,
   "metadata": {
    "colab": {
     "base_uri": "https://localhost:8080/"
    },
    "id": "zEkBWMklNj4p",
    "outputId": "0b115d46-1149-40ed-9024-5b0401534716"
   },
   "outputs": [
    {
     "name": "stdout",
     "output_type": "stream",
     "text": [
      "Optimization terminated successfully.\n",
      "         Current function value: 0.501009\n",
      "         Iterations 7\n"
     ]
    }
   ],
   "source": [
    "## Model building \n",
    "import statsmodels.formula.api as sm\n",
    "logit_model = sm.logit('naffairs ~ kids+vryunhap+unhap+avgmarr+hapavg+vryhap+antirel+notrel+slghtrel+smerel+vryrel+yrsmarr1+yrsmarr2+yrsmarr3+yrsmarr4+yrsmarr5+yrsmarr6', data = affair1).fit()"
   ]
  },
  {
   "cell_type": "code",
   "execution_count": null,
   "metadata": {
    "colab": {
     "base_uri": "https://localhost:8080/",
     "height": 622
    },
    "id": "NlkG-bsxONBq",
    "outputId": "d172d8d9-551c-46af-b3a9-f4d3893413a2"
   },
   "outputs": [
    {
     "name": "stderr",
     "output_type": "stream",
     "text": [
      "/usr/local/lib/python3.7/dist-packages/statsmodels/base/model.py:1286: RuntimeWarning: invalid value encountered in sqrt\n",
      "  bse_ = np.sqrt(np.diag(self.cov_params()))\n"
     ]
    },
    {
     "data": {
      "text/html": [
       "<table class=\"simpletable\">\n",
       "<tr>\n",
       "        <td>Model:</td>              <td>Logit</td>      <td>Pseudo R-squared:</td>    <td>0.108</td>  \n",
       "</tr>\n",
       "<tr>\n",
       "  <td>Dependent Variable:</td>     <td>naffairs</td>           <td>AIC:</td>         <td>632.2126</td> \n",
       "</tr>\n",
       "<tr>\n",
       "         <td>Date:</td>        <td>2021-10-29 08:44</td>       <td>BIC:</td>         <td>698.1915</td> \n",
       "</tr>\n",
       "<tr>\n",
       "   <td>No. Observations:</td>         <td>601</td>        <td>Log-Likelihood:</td>    <td>-301.11</td> \n",
       "</tr>\n",
       "<tr>\n",
       "       <td>Df Model:</td>             <td>14</td>            <td>LL-Null:</td>        <td>-337.69</td> \n",
       "</tr>\n",
       "<tr>\n",
       "     <td>Df Residuals:</td>           <td>586</td>         <td>LLR p-value:</td>    <td>5.1293e-10</td>\n",
       "</tr>\n",
       "<tr>\n",
       "      <td>Converged:</td>           <td>1.0000</td>           <td>Scale:</td>         <td>1.0000</td>  \n",
       "</tr>\n",
       "<tr>\n",
       "    <td>No. Iterations:</td>        <td>7.0000</td>              <td></td>               <td></td>     \n",
       "</tr>\n",
       "</table>\n",
       "<table class=\"simpletable\">\n",
       "<tr>\n",
       "      <td></td>       <th>Coef.</th>    <th>Std.Err.</th>      <th>z</th>     <th>P>|z|</th>     <th>[0.025</th>        <th>0.975]</th>    \n",
       "</tr>\n",
       "<tr>\n",
       "  <th>Intercept</th> <td>-0.6174</td> <td>5766969.2629</td> <td>-0.0000</td> <td>1.0000</td> <td>-11303052.6726</td> <td>11303051.4378</td>\n",
       "</tr>\n",
       "<tr>\n",
       "  <th>kids</th>      <td>0.1727</td>     <td>0.3110</td>    <td>0.5555</td>  <td>0.5785</td>     <td>-0.4367</td>       <td>0.7822</td>    \n",
       "</tr>\n",
       "<tr>\n",
       "  <th>vryunhap</th>  <td>0.5130</td>       <td>nan</td>       <td>nan</td>     <td>nan</td>        <td>nan</td>           <td>nan</td>     \n",
       "</tr>\n",
       "<tr>\n",
       "  <th>unhap</th>     <td>0.6187</td>       <td>nan</td>       <td>nan</td>     <td>nan</td>        <td>nan</td>           <td>nan</td>     \n",
       "</tr>\n",
       "<tr>\n",
       "  <th>avgmarr</th>   <td>-0.2178</td>      <td>nan</td>       <td>nan</td>     <td>nan</td>        <td>nan</td>           <td>nan</td>     \n",
       "</tr>\n",
       "<tr>\n",
       "  <th>hapavg</th>    <td>-0.5264</td>      <td>nan</td>       <td>nan</td>     <td>nan</td>        <td>nan</td>           <td>nan</td>     \n",
       "</tr>\n",
       "<tr>\n",
       "  <th>vryhap</th>    <td>-1.0049</td>      <td>nan</td>       <td>nan</td>     <td>nan</td>        <td>nan</td>           <td>nan</td>     \n",
       "</tr>\n",
       "<tr>\n",
       "  <th>antirel</th>   <td>0.7815</td>       <td>nan</td>       <td>nan</td>     <td>nan</td>        <td>nan</td>           <td>nan</td>     \n",
       "</tr>\n",
       "<tr>\n",
       "  <th>notrel</th>    <td>-0.2052</td>      <td>nan</td>       <td>nan</td>     <td>nan</td>        <td>nan</td>           <td>nan</td>     \n",
       "</tr>\n",
       "<tr>\n",
       "  <th>slghtrel</th>  <td>0.1848</td>       <td>nan</td>       <td>nan</td>     <td>nan</td>        <td>nan</td>           <td>nan</td>     \n",
       "</tr>\n",
       "<tr>\n",
       "  <th>smerel</th>    <td>-0.7377</td>      <td>nan</td>       <td>nan</td>     <td>nan</td>        <td>nan</td>           <td>nan</td>     \n",
       "</tr>\n",
       "<tr>\n",
       "  <th>vryrel</th>    <td>-0.6408</td>      <td>nan</td>       <td>nan</td>     <td>nan</td>        <td>nan</td>           <td>nan</td>     \n",
       "</tr>\n",
       "<tr>\n",
       "  <th>yrsmarr1</th>  <td>-0.8579</td> <td>8277203.2242</td> <td>-0.0000</td> <td>1.0000</td> <td>-16223021.0700</td> <td>16223019.3541</td>\n",
       "</tr>\n",
       "<tr>\n",
       "  <th>yrsmarr2</th>  <td>-0.5608</td> <td>8277203.2242</td> <td>-0.0000</td> <td>1.0000</td> <td>-16223020.7729</td> <td>16223019.6513</td>\n",
       "</tr>\n",
       "<tr>\n",
       "  <th>yrsmarr3</th>  <td>0.0635</td>  <td>8277203.2242</td> <td>0.0000</td>  <td>1.0000</td> <td>-16223020.1485</td> <td>16223020.2756</td>\n",
       "</tr>\n",
       "<tr>\n",
       "  <th>yrsmarr4</th>  <td>0.0891</td>  <td>8277203.2242</td> <td>0.0000</td>  <td>1.0000</td> <td>-16223020.1230</td> <td>16223020.3012</td>\n",
       "</tr>\n",
       "<tr>\n",
       "  <th>yrsmarr5</th>  <td>0.4088</td>  <td>8277203.2242</td> <td>0.0000</td>  <td>1.0000</td> <td>-16223019.8033</td> <td>16223020.6209</td>\n",
       "</tr>\n",
       "<tr>\n",
       "  <th>yrsmarr6</th>  <td>0.2399</td>  <td>8277203.2242</td> <td>0.0000</td>  <td>1.0000</td> <td>-16223019.9722</td> <td>16223020.4519</td>\n",
       "</tr>\n",
       "</table>"
      ],
      "text/plain": [
       "<class 'statsmodels.iolib.summary2.Summary'>\n",
       "\"\"\"\n",
       "                              Results: Logit\n",
       "==========================================================================\n",
       "Model:                 Logit               Pseudo R-squared:    0.108     \n",
       "Dependent Variable:    naffairs            AIC:                 632.2126  \n",
       "Date:                  2021-10-29 08:44    BIC:                 698.1915  \n",
       "No. Observations:      601                 Log-Likelihood:      -301.11   \n",
       "Df Model:              14                  LL-Null:             -337.69   \n",
       "Df Residuals:          586                 LLR p-value:         5.1293e-10\n",
       "Converged:             1.0000              Scale:               1.0000    \n",
       "No. Iterations:        7.0000                                             \n",
       "--------------------------------------------------------------------------\n",
       "           Coef.    Std.Err.      z    P>|z|      [0.025         0.975]   \n",
       "--------------------------------------------------------------------------\n",
       "Intercept -0.6174 5766969.2629 -0.0000 1.0000 -11303052.6726 11303051.4378\n",
       "kids       0.1727       0.3110  0.5555 0.5785        -0.4367        0.7822\n",
       "vryunhap   0.5130          nan     nan    nan            nan           nan\n",
       "unhap      0.6187          nan     nan    nan            nan           nan\n",
       "avgmarr   -0.2178          nan     nan    nan            nan           nan\n",
       "hapavg    -0.5264          nan     nan    nan            nan           nan\n",
       "vryhap    -1.0049          nan     nan    nan            nan           nan\n",
       "antirel    0.7815          nan     nan    nan            nan           nan\n",
       "notrel    -0.2052          nan     nan    nan            nan           nan\n",
       "slghtrel   0.1848          nan     nan    nan            nan           nan\n",
       "smerel    -0.7377          nan     nan    nan            nan           nan\n",
       "vryrel    -0.6408          nan     nan    nan            nan           nan\n",
       "yrsmarr1  -0.8579 8277203.2242 -0.0000 1.0000 -16223021.0700 16223019.3541\n",
       "yrsmarr2  -0.5608 8277203.2242 -0.0000 1.0000 -16223020.7729 16223019.6513\n",
       "yrsmarr3   0.0635 8277203.2242  0.0000 1.0000 -16223020.1485 16223020.2756\n",
       "yrsmarr4   0.0891 8277203.2242  0.0000 1.0000 -16223020.1230 16223020.3012\n",
       "yrsmarr5   0.4088 8277203.2242  0.0000 1.0000 -16223019.8033 16223020.6209\n",
       "yrsmarr6   0.2399 8277203.2242  0.0000 1.0000 -16223019.9722 16223020.4519\n",
       "==========================================================================\n",
       "\n",
       "\"\"\""
      ]
     },
     "execution_count": 16,
     "metadata": {},
     "output_type": "execute_result"
    }
   ],
   "source": [
    "#summary\n",
    "logit_model.summary2() # for AIC"
   ]
  },
  {
   "cell_type": "code",
   "execution_count": null,
   "metadata": {
    "colab": {
     "base_uri": "https://localhost:8080/",
     "height": 584
    },
    "id": "r5hfvtrONtQR",
    "outputId": "b3797c4f-a23d-4b91-f74a-6777d71e3f91"
   },
   "outputs": [
    {
     "data": {
      "text/html": [
       "<table class=\"simpletable\">\n",
       "<caption>Logit Regression Results</caption>\n",
       "<tr>\n",
       "  <th>Dep. Variable:</th>       <td>naffairs</td>     <th>  No. Observations:  </th>  <td>   601</td>  \n",
       "</tr>\n",
       "<tr>\n",
       "  <th>Model:</th>                 <td>Logit</td>      <th>  Df Residuals:      </th>  <td>   586</td>  \n",
       "</tr>\n",
       "<tr>\n",
       "  <th>Method:</th>                 <td>MLE</td>       <th>  Df Model:          </th>  <td>    14</td>  \n",
       "</tr>\n",
       "<tr>\n",
       "  <th>Date:</th>            <td>Fri, 29 Oct 2021</td> <th>  Pseudo R-squ.:     </th>  <td>0.1083</td>  \n",
       "</tr>\n",
       "<tr>\n",
       "  <th>Time:</th>                <td>08:45:08</td>     <th>  Log-Likelihood:    </th> <td> -301.11</td> \n",
       "</tr>\n",
       "<tr>\n",
       "  <th>converged:</th>             <td>True</td>       <th>  LL-Null:           </th> <td> -337.69</td> \n",
       "</tr>\n",
       "<tr>\n",
       "  <th>Covariance Type:</th>     <td>nonrobust</td>    <th>  LLR p-value:       </th> <td>5.129e-10</td>\n",
       "</tr>\n",
       "</table>\n",
       "<table class=\"simpletable\">\n",
       "<tr>\n",
       "      <td></td>         <th>coef</th>     <th>std err</th>      <th>z</th>      <th>P>|z|</th>  <th>[0.025</th>    <th>0.975]</th>  \n",
       "</tr>\n",
       "<tr>\n",
       "  <th>Intercept</th> <td>   -0.6174</td> <td> 5.77e+06</td> <td>-1.07e-07</td> <td> 1.000</td> <td>-1.13e+07</td> <td> 1.13e+07</td>\n",
       "</tr>\n",
       "<tr>\n",
       "  <th>kids</th>      <td>    0.1727</td> <td>    0.311</td> <td>    0.556</td> <td> 0.579</td> <td>   -0.437</td> <td>    0.782</td>\n",
       "</tr>\n",
       "<tr>\n",
       "  <th>vryunhap</th>  <td>    0.5130</td> <td>      nan</td> <td>      nan</td> <td>   nan</td> <td>      nan</td> <td>      nan</td>\n",
       "</tr>\n",
       "<tr>\n",
       "  <th>unhap</th>     <td>    0.6187</td> <td>      nan</td> <td>      nan</td> <td>   nan</td> <td>      nan</td> <td>      nan</td>\n",
       "</tr>\n",
       "<tr>\n",
       "  <th>avgmarr</th>   <td>   -0.2178</td> <td>      nan</td> <td>      nan</td> <td>   nan</td> <td>      nan</td> <td>      nan</td>\n",
       "</tr>\n",
       "<tr>\n",
       "  <th>hapavg</th>    <td>   -0.5264</td> <td>      nan</td> <td>      nan</td> <td>   nan</td> <td>      nan</td> <td>      nan</td>\n",
       "</tr>\n",
       "<tr>\n",
       "  <th>vryhap</th>    <td>   -1.0049</td> <td>      nan</td> <td>      nan</td> <td>   nan</td> <td>      nan</td> <td>      nan</td>\n",
       "</tr>\n",
       "<tr>\n",
       "  <th>antirel</th>   <td>    0.7815</td> <td>      nan</td> <td>      nan</td> <td>   nan</td> <td>      nan</td> <td>      nan</td>\n",
       "</tr>\n",
       "<tr>\n",
       "  <th>notrel</th>    <td>   -0.2052</td> <td>      nan</td> <td>      nan</td> <td>   nan</td> <td>      nan</td> <td>      nan</td>\n",
       "</tr>\n",
       "<tr>\n",
       "  <th>slghtrel</th>  <td>    0.1848</td> <td>      nan</td> <td>      nan</td> <td>   nan</td> <td>      nan</td> <td>      nan</td>\n",
       "</tr>\n",
       "<tr>\n",
       "  <th>smerel</th>    <td>   -0.7377</td> <td>      nan</td> <td>      nan</td> <td>   nan</td> <td>      nan</td> <td>      nan</td>\n",
       "</tr>\n",
       "<tr>\n",
       "  <th>vryrel</th>    <td>   -0.6408</td> <td>      nan</td> <td>      nan</td> <td>   nan</td> <td>      nan</td> <td>      nan</td>\n",
       "</tr>\n",
       "<tr>\n",
       "  <th>yrsmarr1</th>  <td>   -0.8579</td> <td> 8.28e+06</td> <td>-1.04e-07</td> <td> 1.000</td> <td>-1.62e+07</td> <td> 1.62e+07</td>\n",
       "</tr>\n",
       "<tr>\n",
       "  <th>yrsmarr2</th>  <td>   -0.5608</td> <td> 8.28e+06</td> <td>-6.78e-08</td> <td> 1.000</td> <td>-1.62e+07</td> <td> 1.62e+07</td>\n",
       "</tr>\n",
       "<tr>\n",
       "  <th>yrsmarr3</th>  <td>    0.0635</td> <td> 8.28e+06</td> <td> 7.68e-09</td> <td> 1.000</td> <td>-1.62e+07</td> <td> 1.62e+07</td>\n",
       "</tr>\n",
       "<tr>\n",
       "  <th>yrsmarr4</th>  <td>    0.0891</td> <td> 8.28e+06</td> <td> 1.08e-08</td> <td> 1.000</td> <td>-1.62e+07</td> <td> 1.62e+07</td>\n",
       "</tr>\n",
       "<tr>\n",
       "  <th>yrsmarr5</th>  <td>    0.4088</td> <td> 8.28e+06</td> <td> 4.94e-08</td> <td> 1.000</td> <td>-1.62e+07</td> <td> 1.62e+07</td>\n",
       "</tr>\n",
       "<tr>\n",
       "  <th>yrsmarr6</th>  <td>    0.2399</td> <td> 8.28e+06</td> <td>  2.9e-08</td> <td> 1.000</td> <td>-1.62e+07</td> <td> 1.62e+07</td>\n",
       "</tr>\n",
       "</table>"
      ],
      "text/plain": [
       "<class 'statsmodels.iolib.summary.Summary'>\n",
       "\"\"\"\n",
       "                           Logit Regression Results                           \n",
       "==============================================================================\n",
       "Dep. Variable:               naffairs   No. Observations:                  601\n",
       "Model:                          Logit   Df Residuals:                      586\n",
       "Method:                           MLE   Df Model:                           14\n",
       "Date:                Fri, 29 Oct 2021   Pseudo R-squ.:                  0.1083\n",
       "Time:                        08:45:08   Log-Likelihood:                -301.11\n",
       "converged:                       True   LL-Null:                       -337.69\n",
       "Covariance Type:            nonrobust   LLR p-value:                 5.129e-10\n",
       "==============================================================================\n",
       "                 coef    std err          z      P>|z|      [0.025      0.975]\n",
       "------------------------------------------------------------------------------\n",
       "Intercept     -0.6174   5.77e+06  -1.07e-07      1.000   -1.13e+07    1.13e+07\n",
       "kids           0.1727      0.311      0.556      0.579      -0.437       0.782\n",
       "vryunhap       0.5130        nan        nan        nan         nan         nan\n",
       "unhap          0.6187        nan        nan        nan         nan         nan\n",
       "avgmarr       -0.2178        nan        nan        nan         nan         nan\n",
       "hapavg        -0.5264        nan        nan        nan         nan         nan\n",
       "vryhap        -1.0049        nan        nan        nan         nan         nan\n",
       "antirel        0.7815        nan        nan        nan         nan         nan\n",
       "notrel        -0.2052        nan        nan        nan         nan         nan\n",
       "slghtrel       0.1848        nan        nan        nan         nan         nan\n",
       "smerel        -0.7377        nan        nan        nan         nan         nan\n",
       "vryrel        -0.6408        nan        nan        nan         nan         nan\n",
       "yrsmarr1      -0.8579   8.28e+06  -1.04e-07      1.000   -1.62e+07    1.62e+07\n",
       "yrsmarr2      -0.5608   8.28e+06  -6.78e-08      1.000   -1.62e+07    1.62e+07\n",
       "yrsmarr3       0.0635   8.28e+06   7.68e-09      1.000   -1.62e+07    1.62e+07\n",
       "yrsmarr4       0.0891   8.28e+06   1.08e-08      1.000   -1.62e+07    1.62e+07\n",
       "yrsmarr5       0.4088   8.28e+06   4.94e-08      1.000   -1.62e+07    1.62e+07\n",
       "yrsmarr6       0.2399   8.28e+06    2.9e-08      1.000   -1.62e+07    1.62e+07\n",
       "==============================================================================\n",
       "\"\"\""
      ]
     },
     "execution_count": 17,
     "metadata": {},
     "output_type": "execute_result"
    }
   ],
   "source": [
    "logit_model.summary()"
   ]
  },
  {
   "cell_type": "code",
   "execution_count": null,
   "metadata": {
    "id": "KWgAysTeOWr5"
   },
   "outputs": [],
   "source": [
    "pred = logit_model.predict(affair1.iloc[ :, 0: ])"
   ]
  },
  {
   "cell_type": "code",
   "execution_count": null,
   "metadata": {
    "colab": {
     "base_uri": "https://localhost:8080/"
    },
    "id": "vpjryy47OWvD",
    "outputId": "4e13afa2-e05d-4288-a822-1490ab09c99b"
   },
   "outputs": [
    {
     "data": {
      "text/plain": [
       "0.2521571570135329"
      ]
     },
     "execution_count": 19,
     "metadata": {},
     "output_type": "execute_result"
    }
   ],
   "source": [
    "#ROC\n",
    "from sklearn import metrics\n",
    "fpr, tpr, thresholds = roc_curve(affair1.naffairs, pred)\n",
    "optimal_idx = np.argmax(tpr - fpr)\n",
    "optimal_threshold = thresholds[optimal_idx]\n",
    "optimal_threshold"
   ]
  },
  {
   "cell_type": "code",
   "execution_count": null,
   "metadata": {
    "colab": {
     "base_uri": "https://localhost:8080/",
     "height": 80
    },
    "id": "5ojNwvM2OWx4",
    "outputId": "511a9a0c-45c9-49aa-8070-01dd5e407af0"
   },
   "outputs": [
    {
     "data": {
      "text/html": [
       "<div>\n",
       "<style scoped>\n",
       "    .dataframe tbody tr th:only-of-type {\n",
       "        vertical-align: middle;\n",
       "    }\n",
       "\n",
       "    .dataframe tbody tr th {\n",
       "        vertical-align: top;\n",
       "    }\n",
       "\n",
       "    .dataframe thead th {\n",
       "        text-align: right;\n",
       "    }\n",
       "</style>\n",
       "<table border=\"1\" class=\"dataframe\">\n",
       "  <thead>\n",
       "    <tr style=\"text-align: right;\">\n",
       "      <th></th>\n",
       "      <th>fpr</th>\n",
       "      <th>tpr</th>\n",
       "      <th>1-fpr</th>\n",
       "      <th>tf</th>\n",
       "      <th>thresholds</th>\n",
       "    </tr>\n",
       "  </thead>\n",
       "  <tbody>\n",
       "    <tr>\n",
       "      <th>61</th>\n",
       "      <td>0.312639</td>\n",
       "      <td>0.673333</td>\n",
       "      <td>0.687361</td>\n",
       "      <td>-0.014028</td>\n",
       "      <td>0.24517</td>\n",
       "    </tr>\n",
       "  </tbody>\n",
       "</table>\n",
       "</div>"
      ],
      "text/plain": [
       "         fpr       tpr     1-fpr        tf  thresholds\n",
       "61  0.312639  0.673333  0.687361 -0.014028     0.24517"
      ]
     },
     "execution_count": 20,
     "metadata": {},
     "output_type": "execute_result"
    }
   ],
   "source": [
    "import pylab as pl\n",
    "\n",
    "i = np.arange(len(tpr))\n",
    "roc = pd.DataFrame({'fpr' : pd.Series(fpr, index=i),'tpr' : pd.Series(tpr, index = i), '1-fpr' : pd.Series(1-fpr, index = i), 'tf' : pd.Series(tpr - (1-fpr), index = i), 'thresholds' : pd.Series(thresholds, index = i)})\n",
    "roc.iloc[(roc.tf-0).abs().argsort()[:1]]"
   ]
  },
  {
   "cell_type": "code",
   "execution_count": null,
   "metadata": {
    "colab": {
     "base_uri": "https://localhost:8080/",
     "height": 302
    },
    "id": "Pw4A02FEOW0e",
    "outputId": "daeefc8c-41f5-430e-ae99-b7910b40ddf0"
   },
   "outputs": [
    {
     "data": {
      "text/plain": [
       "[]"
      ]
     },
     "execution_count": 21,
     "metadata": {},
     "output_type": "execute_result"
    },
    {
     "data": {
      "image/png": "[encoded data removed]",
      "text/plain": [
       "<Figure size 432x288 with 1 Axes>"
      ]
     },
     "metadata": {
      "needs_background": "light"
     },
     "output_type": "display_data"
    }
   ],
   "source": [
    "fig, ax = pl.subplots()\n",
    "pl.plot(roc['tpr'], color = 'red')\n",
    "pl.plot(roc['1-fpr'], color = 'blue')\n",
    "pl.xlabel('1-False Positive Rate')\n",
    "pl.ylabel('True Positive Rate')\n",
    "pl.title('Receiver operating characteristic')\n",
    "ax.set_xticklabels([])"
   ]
  },
  {
   "cell_type": "code",
   "execution_count": null,
   "metadata": {
    "colab": {
     "base_uri": "https://localhost:8080/"
    },
    "id": "46tZgCU6OW3Y",
    "outputId": "f76f122f-fa48-4010-c3cc-fa0168758dfc"
   },
   "outputs": [
    {
     "name": "stdout",
     "output_type": "stream",
     "text": [
      "Area under the ROC curve : 0.720880\n"
     ]
    }
   ],
   "source": [
    "roc_auc = auc(fpr, tpr)\n",
    "print(\"Area under the ROC curve : %f\" % roc_auc)"
   ]
  },
  {
   "cell_type": "code",
   "execution_count": null,
   "metadata": {
    "id": "WU2m1_gfOW7A"
   },
   "outputs": [],
   "source": [
    "# filling all the cells with zeroes\n",
    "affair1[\"pred\"] = np.zeros(601)\n",
    "# taking threshold value and above the prob value will be treated as correct value \n",
    "affair1.loc[pred > optimal_threshold, \"pred\"] = 1\n"
   ]
  },
  {
   "cell_type": "code",
   "execution_count": null,
   "metadata": {
    "colab": {
     "base_uri": "https://localhost:8080/",
     "height": 69
    },
    "id": "VVFsEtNIOXCk",
    "outputId": "917e8740-846b-477b-efb8-fc1efcc446e2"
   },
   "outputs": [
    {
     "data": {
      "application/vnd.google.colaboratory.intrinsic+json": {
       "type": "string"
      },
      "text/plain": [
       "'              precision    recall  f1-score   support\\n\\n         0.0       0.71      0.86      0.77       370\\n         1.0       0.65      0.42      0.51       231\\n\\n    accuracy                           0.69       601\\n   macro avg       0.68      0.64      0.64       601\\nweighted avg       0.69      0.69      0.67       601\\n'"
      ]
     },
     "execution_count": 24,
     "metadata": {},
     "output_type": "execute_result"
    }
   ],
   "source": [
    "# classification report\n",
    "classification = classification_report(affair1[\"pred\"], affair1[\"naffairs\"])\n",
    "classification"
   ]
  },
  {
   "cell_type": "code",
   "execution_count": null,
   "metadata": {
    "id": "uMJZmdPcOXFa"
   },
   "outputs": [],
   "source": [
    "# Splitting the data into train and test data \n",
    "# from sklearn.model_selection import train_test_split\n",
    "train_data, test_data = train_test_split(affair1, test_size = 0.3)"
   ]
  },
  {
   "cell_type": "code",
   "execution_count": null,
   "metadata": {
    "colab": {
     "base_uri": "https://localhost:8080/"
    },
    "id": "d3jC3d78O2vT",
    "outputId": "d88dc4c7-e44e-4e78-e4fb-3206b21e43e9"
   },
   "outputs": [
    {
     "name": "stdout",
     "output_type": "stream",
     "text": [
      "Optimization terminated successfully.\n",
      "         Current function value: 0.482717\n",
      "         Iterations 6\n"
     ]
    }
   ],
   "source": [
    "# Model building \n",
    "import statsmodels.formula.api as sm\n",
    "model = sm.logit('naffairs ~ kids+vryunhap+unhap+avgmarr+hapavg+vryhap+antirel+notrel+slghtrel+smerel+vryrel+yrsmarr1+yrsmarr2+yrsmarr3+yrsmarr4+yrsmarr5+yrsmarr6', data = train_data).fit()\n"
   ]
  },
  {
   "cell_type": "code",
   "execution_count": null,
   "metadata": {
    "colab": {
     "base_uri": "https://localhost:8080/",
     "height": 622
    },
    "id": "etQKrvhrO6P5",
    "outputId": "2a479a65-a715-4740-f61c-07951095ba0c"
   },
   "outputs": [
    {
     "name": "stderr",
     "output_type": "stream",
     "text": [
      "/usr/local/lib/python3.7/dist-packages/statsmodels/base/model.py:1286: RuntimeWarning: invalid value encountered in sqrt\n",
      "  bse_ = np.sqrt(np.diag(self.cov_params()))\n"
     ]
    },
    {
     "data": {
      "text/html": [
       "<table class=\"simpletable\">\n",
       "<tr>\n",
       "        <td>Model:</td>              <td>Logit</td>      <td>Pseudo R-squared:</td>    <td>0.116</td>  \n",
       "</tr>\n",
       "<tr>\n",
       "  <td>Dependent Variable:</td>     <td>naffairs</td>           <td>AIC:</td>         <td>435.4821</td> \n",
       "</tr>\n",
       "<tr>\n",
       "         <td>Date:</td>        <td>2021-10-29 08:47</td>       <td>BIC:</td>         <td>496.0859</td> \n",
       "</tr>\n",
       "<tr>\n",
       "   <td>No. Observations:</td>         <td>420</td>        <td>Log-Likelihood:</td>    <td>-202.74</td> \n",
       "</tr>\n",
       "<tr>\n",
       "       <td>Df Model:</td>             <td>14</td>            <td>LL-Null:</td>        <td>-229.36</td> \n",
       "</tr>\n",
       "<tr>\n",
       "     <td>Df Residuals:</td>           <td>405</td>         <td>LLR p-value:</td>    <td>1.7365e-06</td>\n",
       "</tr>\n",
       "<tr>\n",
       "      <td>Converged:</td>           <td>1.0000</td>           <td>Scale:</td>         <td>1.0000</td>  \n",
       "</tr>\n",
       "<tr>\n",
       "    <td>No. Iterations:</td>        <td>6.0000</td>              <td></td>               <td></td>     \n",
       "</tr>\n",
       "</table>\n",
       "<table class=\"simpletable\">\n",
       "<tr>\n",
       "      <td></td>       <th>Coef.</th>    <th>Std.Err.</th>      <th>z</th>     <th>P>|z|</th>     <th>[0.025</th>        <th>0.975]</th>    \n",
       "</tr>\n",
       "<tr>\n",
       "  <th>Intercept</th> <td>-0.6521</td>      <td>nan</td>       <td>nan</td>     <td>nan</td>        <td>nan</td>           <td>nan</td>     \n",
       "</tr>\n",
       "<tr>\n",
       "  <th>kids</th>      <td>0.2033</td>     <td>0.3624</td>    <td>0.5610</td>  <td>0.5748</td>     <td>-0.5070</td>       <td>0.9136</td>    \n",
       "</tr>\n",
       "<tr>\n",
       "  <th>vryunhap</th>  <td>0.3818</td>       <td>nan</td>       <td>nan</td>     <td>nan</td>        <td>nan</td>           <td>nan</td>     \n",
       "</tr>\n",
       "<tr>\n",
       "  <th>unhap</th>     <td>0.7475</td>       <td>nan</td>       <td>nan</td>     <td>nan</td>        <td>nan</td>           <td>nan</td>     \n",
       "</tr>\n",
       "<tr>\n",
       "  <th>avgmarr</th>   <td>-0.2368</td>      <td>nan</td>       <td>nan</td>     <td>nan</td>        <td>nan</td>           <td>nan</td>     \n",
       "</tr>\n",
       "<tr>\n",
       "  <th>hapavg</th>    <td>-0.5448</td>      <td>nan</td>       <td>nan</td>     <td>nan</td>        <td>nan</td>           <td>nan</td>     \n",
       "</tr>\n",
       "<tr>\n",
       "  <th>vryhap</th>    <td>-0.9998</td>      <td>nan</td>       <td>nan</td>     <td>nan</td>        <td>nan</td>           <td>nan</td>     \n",
       "</tr>\n",
       "<tr>\n",
       "  <th>antirel</th>   <td>0.8776</td>  <td>6253236.1055</td> <td>0.0000</td>  <td>1.0000</td> <td>-12256116.6759</td> <td>12256118.4311</td>\n",
       "</tr>\n",
       "<tr>\n",
       "  <th>notrel</th>    <td>-0.1617</td> <td>6253236.1055</td> <td>-0.0000</td> <td>1.0000</td> <td>-12256117.7152</td> <td>12256117.3918</td>\n",
       "</tr>\n",
       "<tr>\n",
       "  <th>slghtrel</th>  <td>0.2388</td>  <td>6253236.1055</td> <td>0.0000</td>  <td>1.0000</td> <td>-12256117.3148</td> <td>12256117.7923</td>\n",
       "</tr>\n",
       "<tr>\n",
       "  <th>smerel</th>    <td>-0.8323</td> <td>6253236.1055</td> <td>-0.0000</td> <td>1.0000</td> <td>-12256118.3858</td> <td>12256116.7213</td>\n",
       "</tr>\n",
       "<tr>\n",
       "  <th>vryrel</th>    <td>-0.7745</td> <td>6253236.1055</td> <td>-0.0000</td> <td>1.0000</td> <td>-12256118.3280</td> <td>12256116.7790</td>\n",
       "</tr>\n",
       "<tr>\n",
       "  <th>yrsmarr1</th>  <td>-0.4883</td>      <td>nan</td>       <td>nan</td>     <td>nan</td>        <td>nan</td>           <td>nan</td>     \n",
       "</tr>\n",
       "<tr>\n",
       "  <th>yrsmarr2</th>  <td>-0.5445</td>      <td>nan</td>       <td>nan</td>     <td>nan</td>        <td>nan</td>           <td>nan</td>     \n",
       "</tr>\n",
       "<tr>\n",
       "  <th>yrsmarr3</th>  <td>0.2188</td>       <td>nan</td>       <td>nan</td>     <td>nan</td>        <td>nan</td>           <td>nan</td>     \n",
       "</tr>\n",
       "<tr>\n",
       "  <th>yrsmarr4</th>  <td>-0.3710</td>      <td>nan</td>       <td>nan</td>     <td>nan</td>        <td>nan</td>           <td>nan</td>     \n",
       "</tr>\n",
       "<tr>\n",
       "  <th>yrsmarr5</th>  <td>0.3550</td>       <td>nan</td>       <td>nan</td>     <td>nan</td>        <td>nan</td>           <td>nan</td>     \n",
       "</tr>\n",
       "<tr>\n",
       "  <th>yrsmarr6</th>  <td>0.1780</td>       <td>nan</td>       <td>nan</td>     <td>nan</td>        <td>nan</td>           <td>nan</td>     \n",
       "</tr>\n",
       "</table>"
      ],
      "text/plain": [
       "<class 'statsmodels.iolib.summary2.Summary'>\n",
       "\"\"\"\n",
       "                              Results: Logit\n",
       "==========================================================================\n",
       "Model:                 Logit               Pseudo R-squared:    0.116     \n",
       "Dependent Variable:    naffairs            AIC:                 435.4821  \n",
       "Date:                  2021-10-29 08:47    BIC:                 496.0859  \n",
       "No. Observations:      420                 Log-Likelihood:      -202.74   \n",
       "Df Model:              14                  LL-Null:             -229.36   \n",
       "Df Residuals:          405                 LLR p-value:         1.7365e-06\n",
       "Converged:             1.0000              Scale:               1.0000    \n",
       "No. Iterations:        6.0000                                             \n",
       "--------------------------------------------------------------------------\n",
       "           Coef.    Std.Err.      z    P>|z|      [0.025         0.975]   \n",
       "--------------------------------------------------------------------------\n",
       "Intercept -0.6521          nan     nan    nan            nan           nan\n",
       "kids       0.2033       0.3624  0.5610 0.5748        -0.5070        0.9136\n",
       "vryunhap   0.3818          nan     nan    nan            nan           nan\n",
       "unhap      0.7475          nan     nan    nan            nan           nan\n",
       "avgmarr   -0.2368          nan     nan    nan            nan           nan\n",
       "hapavg    -0.5448          nan     nan    nan            nan           nan\n",
       "vryhap    -0.9998          nan     nan    nan            nan           nan\n",
       "antirel    0.8776 6253236.1055  0.0000 1.0000 -12256116.6759 12256118.4311\n",
       "notrel    -0.1617 6253236.1055 -0.0000 1.0000 -12256117.7152 12256117.3918\n",
       "slghtrel   0.2388 6253236.1055  0.0000 1.0000 -12256117.3148 12256117.7923\n",
       "smerel    -0.8323 6253236.1055 -0.0000 1.0000 -12256118.3858 12256116.7213\n",
       "vryrel    -0.7745 6253236.1055 -0.0000 1.0000 -12256118.3280 12256116.7790\n",
       "yrsmarr1  -0.4883          nan     nan    nan            nan           nan\n",
       "yrsmarr2  -0.5445          nan     nan    nan            nan           nan\n",
       "yrsmarr3   0.2188          nan     nan    nan            nan           nan\n",
       "yrsmarr4  -0.3710          nan     nan    nan            nan           nan\n",
       "yrsmarr5   0.3550          nan     nan    nan            nan           nan\n",
       "yrsmarr6   0.1780          nan     nan    nan            nan           nan\n",
       "==========================================================================\n",
       "\n",
       "\"\"\""
      ]
     },
     "execution_count": 27,
     "metadata": {},
     "output_type": "execute_result"
    }
   ],
   "source": [
    "#summary\n",
    "model.summary2() # for AIC"
   ]
  },
  {
   "cell_type": "code",
   "execution_count": null,
   "metadata": {
    "colab": {
     "base_uri": "https://localhost:8080/",
     "height": 584
    },
    "id": "IiTWLY5mO9x_",
    "outputId": "4270ebae-913a-418b-b381-1c8acc70f738"
   },
   "outputs": [
    {
     "data": {
      "text/html": [
       "<table class=\"simpletable\">\n",
       "<caption>Logit Regression Results</caption>\n",
       "<tr>\n",
       "  <th>Dep. Variable:</th>       <td>naffairs</td>     <th>  No. Observations:  </th>  <td>   420</td>  \n",
       "</tr>\n",
       "<tr>\n",
       "  <th>Model:</th>                 <td>Logit</td>      <th>  Df Residuals:      </th>  <td>   405</td>  \n",
       "</tr>\n",
       "<tr>\n",
       "  <th>Method:</th>                 <td>MLE</td>       <th>  Df Model:          </th>  <td>    14</td>  \n",
       "</tr>\n",
       "<tr>\n",
       "  <th>Date:</th>            <td>Fri, 29 Oct 2021</td> <th>  Pseudo R-squ.:     </th>  <td>0.1160</td>  \n",
       "</tr>\n",
       "<tr>\n",
       "  <th>Time:</th>                <td>08:47:55</td>     <th>  Log-Likelihood:    </th> <td> -202.74</td> \n",
       "</tr>\n",
       "<tr>\n",
       "  <th>converged:</th>             <td>True</td>       <th>  LL-Null:           </th> <td> -229.36</td> \n",
       "</tr>\n",
       "<tr>\n",
       "  <th>Covariance Type:</th>     <td>nonrobust</td>    <th>  LLR p-value:       </th> <td>1.736e-06</td>\n",
       "</tr>\n",
       "</table>\n",
       "<table class=\"simpletable\">\n",
       "<tr>\n",
       "      <td></td>         <th>coef</th>     <th>std err</th>      <th>z</th>      <th>P>|z|</th>  <th>[0.025</th>    <th>0.975]</th>  \n",
       "</tr>\n",
       "<tr>\n",
       "  <th>Intercept</th> <td>   -0.6521</td> <td>      nan</td> <td>      nan</td> <td>   nan</td> <td>      nan</td> <td>      nan</td>\n",
       "</tr>\n",
       "<tr>\n",
       "  <th>kids</th>      <td>    0.2033</td> <td>    0.362</td> <td>    0.561</td> <td> 0.575</td> <td>   -0.507</td> <td>    0.914</td>\n",
       "</tr>\n",
       "<tr>\n",
       "  <th>vryunhap</th>  <td>    0.3818</td> <td>      nan</td> <td>      nan</td> <td>   nan</td> <td>      nan</td> <td>      nan</td>\n",
       "</tr>\n",
       "<tr>\n",
       "  <th>unhap</th>     <td>    0.7475</td> <td>      nan</td> <td>      nan</td> <td>   nan</td> <td>      nan</td> <td>      nan</td>\n",
       "</tr>\n",
       "<tr>\n",
       "  <th>avgmarr</th>   <td>   -0.2368</td> <td>      nan</td> <td>      nan</td> <td>   nan</td> <td>      nan</td> <td>      nan</td>\n",
       "</tr>\n",
       "<tr>\n",
       "  <th>hapavg</th>    <td>   -0.5448</td> <td>      nan</td> <td>      nan</td> <td>   nan</td> <td>      nan</td> <td>      nan</td>\n",
       "</tr>\n",
       "<tr>\n",
       "  <th>vryhap</th>    <td>   -0.9998</td> <td>      nan</td> <td>      nan</td> <td>   nan</td> <td>      nan</td> <td>      nan</td>\n",
       "</tr>\n",
       "<tr>\n",
       "  <th>antirel</th>   <td>    0.8776</td> <td> 6.25e+06</td> <td>  1.4e-07</td> <td> 1.000</td> <td>-1.23e+07</td> <td> 1.23e+07</td>\n",
       "</tr>\n",
       "<tr>\n",
       "  <th>notrel</th>    <td>   -0.1617</td> <td> 6.25e+06</td> <td>-2.59e-08</td> <td> 1.000</td> <td>-1.23e+07</td> <td> 1.23e+07</td>\n",
       "</tr>\n",
       "<tr>\n",
       "  <th>slghtrel</th>  <td>    0.2388</td> <td> 6.25e+06</td> <td> 3.82e-08</td> <td> 1.000</td> <td>-1.23e+07</td> <td> 1.23e+07</td>\n",
       "</tr>\n",
       "<tr>\n",
       "  <th>smerel</th>    <td>   -0.8323</td> <td> 6.25e+06</td> <td>-1.33e-07</td> <td> 1.000</td> <td>-1.23e+07</td> <td> 1.23e+07</td>\n",
       "</tr>\n",
       "<tr>\n",
       "  <th>vryrel</th>    <td>   -0.7745</td> <td> 6.25e+06</td> <td>-1.24e-07</td> <td> 1.000</td> <td>-1.23e+07</td> <td> 1.23e+07</td>\n",
       "</tr>\n",
       "<tr>\n",
       "  <th>yrsmarr1</th>  <td>   -0.4883</td> <td>      nan</td> <td>      nan</td> <td>   nan</td> <td>      nan</td> <td>      nan</td>\n",
       "</tr>\n",
       "<tr>\n",
       "  <th>yrsmarr2</th>  <td>   -0.5445</td> <td>      nan</td> <td>      nan</td> <td>   nan</td> <td>      nan</td> <td>      nan</td>\n",
       "</tr>\n",
       "<tr>\n",
       "  <th>yrsmarr3</th>  <td>    0.2188</td> <td>      nan</td> <td>      nan</td> <td>   nan</td> <td>      nan</td> <td>      nan</td>\n",
       "</tr>\n",
       "<tr>\n",
       "  <th>yrsmarr4</th>  <td>   -0.3710</td> <td>      nan</td> <td>      nan</td> <td>   nan</td> <td>      nan</td> <td>      nan</td>\n",
       "</tr>\n",
       "<tr>\n",
       "  <th>yrsmarr5</th>  <td>    0.3550</td> <td>      nan</td> <td>      nan</td> <td>   nan</td> <td>      nan</td> <td>      nan</td>\n",
       "</tr>\n",
       "<tr>\n",
       "  <th>yrsmarr6</th>  <td>    0.1780</td> <td>      nan</td> <td>      nan</td> <td>   nan</td> <td>      nan</td> <td>      nan</td>\n",
       "</tr>\n",
       "</table>"
      ],
      "text/plain": [
       "<class 'statsmodels.iolib.summary.Summary'>\n",
       "\"\"\"\n",
       "                           Logit Regression Results                           \n",
       "==============================================================================\n",
       "Dep. Variable:               naffairs   No. Observations:                  420\n",
       "Model:                          Logit   Df Residuals:                      405\n",
       "Method:                           MLE   Df Model:                           14\n",
       "Date:                Fri, 29 Oct 2021   Pseudo R-squ.:                  0.1160\n",
       "Time:                        08:47:55   Log-Likelihood:                -202.74\n",
       "converged:                       True   LL-Null:                       -229.36\n",
       "Covariance Type:            nonrobust   LLR p-value:                 1.736e-06\n",
       "==============================================================================\n",
       "                 coef    std err          z      P>|z|      [0.025      0.975]\n",
       "------------------------------------------------------------------------------\n",
       "Intercept     -0.6521        nan        nan        nan         nan         nan\n",
       "kids           0.2033      0.362      0.561      0.575      -0.507       0.914\n",
       "vryunhap       0.3818        nan        nan        nan         nan         nan\n",
       "unhap          0.7475        nan        nan        nan         nan         nan\n",
       "avgmarr       -0.2368        nan        nan        nan         nan         nan\n",
       "hapavg        -0.5448        nan        nan        nan         nan         nan\n",
       "vryhap        -0.9998        nan        nan        nan         nan         nan\n",
       "antirel        0.8776   6.25e+06    1.4e-07      1.000   -1.23e+07    1.23e+07\n",
       "notrel        -0.1617   6.25e+06  -2.59e-08      1.000   -1.23e+07    1.23e+07\n",
       "slghtrel       0.2388   6.25e+06   3.82e-08      1.000   -1.23e+07    1.23e+07\n",
       "smerel        -0.8323   6.25e+06  -1.33e-07      1.000   -1.23e+07    1.23e+07\n",
       "vryrel        -0.7745   6.25e+06  -1.24e-07      1.000   -1.23e+07    1.23e+07\n",
       "yrsmarr1      -0.4883        nan        nan        nan         nan         nan\n",
       "yrsmarr2      -0.5445        nan        nan        nan         nan         nan\n",
       "yrsmarr3       0.2188        nan        nan        nan         nan         nan\n",
       "yrsmarr4      -0.3710        nan        nan        nan         nan         nan\n",
       "yrsmarr5       0.3550        nan        nan        nan         nan         nan\n",
       "yrsmarr6       0.1780        nan        nan        nan         nan         nan\n",
       "==============================================================================\n",
       "\"\"\""
      ]
     },
     "execution_count": 28,
     "metadata": {},
     "output_type": "execute_result"
    }
   ],
   "source": [
    "model.summary()"
   ]
  },
  {
   "cell_type": "code",
   "execution_count": null,
   "metadata": {
    "id": "Md9jnMT8PDwG"
   },
   "outputs": [],
   "source": [
    "# Prediction on Test data set\n",
    "test_pred = logit_model.predict(test_data)"
   ]
  },
  {
   "cell_type": "code",
   "execution_count": null,
   "metadata": {
    "colab": {
     "base_uri": "https://localhost:8080/"
    },
    "id": "tTEN1IDiPDy_",
    "outputId": "b3867d54-6e86-4d38-a819-d050907febe8"
   },
   "outputs": [
    {
     "name": "stderr",
     "output_type": "stream",
     "text": [
      "/usr/local/lib/python3.7/dist-packages/ipykernel_launcher.py:3: SettingWithCopyWarning: \n",
      "A value is trying to be set on a copy of a slice from a DataFrame.\n",
      "Try using .loc[row_indexer,col_indexer] = value instead\n",
      "\n",
      "See the caveats in the documentation: https://pandas.pydata.org/pandas-docs/stable/user_guide/indexing.html#returning-a-view-versus-a-copy\n",
      "  This is separate from the ipykernel package so we can avoid doing imports until\n"
     ]
    }
   ],
   "source": [
    "# Creating new column for storing predicted class of Attorney\n",
    "# filling all the cells with zeroes\n",
    "test_data[\"test_pred\"] = np.zeros(181)"
   ]
  },
  {
   "cell_type": "code",
   "execution_count": null,
   "metadata": {
    "colab": {
     "base_uri": "https://localhost:8080/"
    },
    "id": "qJ2nHeygPD1v",
    "outputId": "f57f007a-98ce-4c47-b872-a24cbf06e710"
   },
   "outputs": [
    {
     "name": "stderr",
     "output_type": "stream",
     "text": [
      "/usr/local/lib/python3.7/dist-packages/pandas/core/indexing.py:1763: SettingWithCopyWarning: \n",
      "A value is trying to be set on a copy of a slice from a DataFrame.\n",
      "Try using .loc[row_indexer,col_indexer] = value instead\n",
      "\n",
      "See the caveats in the documentation: https://pandas.pydata.org/pandas-docs/stable/user_guide/indexing.html#returning-a-view-versus-a-copy\n",
      "  isetter(loc, value)\n"
     ]
    }
   ],
   "source": [
    "# taking threshold value as 'optimal_threshold' and above the thresold prob value will be treated as 1 \n",
    "test_data.loc[test_pred > optimal_threshold, \"test_pred\"] = 1"
   ]
  },
  {
   "cell_type": "code",
   "execution_count": null,
   "metadata": {
    "colab": {
     "base_uri": "https://localhost:8080/",
     "height": 142
    },
    "id": "7RRf_3qlPD4m",
    "outputId": "1d26eb85-57d5-4b4f-9bbb-fcc3b6a0760f"
   },
   "outputs": [
    {
     "data": {
      "text/html": [
       "<div>\n",
       "<style scoped>\n",
       "    .dataframe tbody tr th:only-of-type {\n",
       "        vertical-align: middle;\n",
       "    }\n",
       "\n",
       "    .dataframe tbody tr th {\n",
       "        vertical-align: top;\n",
       "    }\n",
       "\n",
       "    .dataframe thead th {\n",
       "        text-align: right;\n",
       "    }\n",
       "</style>\n",
       "<table border=\"1\" class=\"dataframe\">\n",
       "  <thead>\n",
       "    <tr style=\"text-align: right;\">\n",
       "      <th>naffairs</th>\n",
       "      <th>0</th>\n",
       "      <th>1</th>\n",
       "    </tr>\n",
       "    <tr>\n",
       "      <th>test_pred</th>\n",
       "      <th></th>\n",
       "      <th></th>\n",
       "    </tr>\n",
       "  </thead>\n",
       "  <tbody>\n",
       "    <tr>\n",
       "      <th>0.0</th>\n",
       "      <td>88</td>\n",
       "      <td>16</td>\n",
       "    </tr>\n",
       "    <tr>\n",
       "      <th>1.0</th>\n",
       "      <td>42</td>\n",
       "      <td>35</td>\n",
       "    </tr>\n",
       "  </tbody>\n",
       "</table>\n",
       "</div>"
      ],
      "text/plain": [
       "naffairs    0   1\n",
       "test_pred        \n",
       "0.0        88  16\n",
       "1.0        42  35"
      ]
     },
     "execution_count": 32,
     "metadata": {},
     "output_type": "execute_result"
    }
   ],
   "source": [
    "# confusion matrix \n",
    "confusion_matrix = pd.crosstab(test_data.test_pred, test_data['naffairs'])\n",
    "confusion_matrix\n"
   ]
  },
  {
   "cell_type": "code",
   "execution_count": null,
   "metadata": {
    "colab": {
     "base_uri": "https://localhost:8080/"
    },
    "id": "OL_RcUJvPD7L",
    "outputId": "d6e92c45-cbd0-4ccb-e16f-4e116fd79e4c"
   },
   "outputs": [
    {
     "data": {
      "text/plain": [
       "0.6795580110497238"
      ]
     },
     "execution_count": 33,
     "metadata": {},
     "output_type": "execute_result"
    }
   ],
   "source": [
    "accuracy_test = (88 + 35)/(181) \n",
    "accuracy_test"
   ]
  },
  {
   "cell_type": "code",
   "execution_count": null,
   "metadata": {
    "colab": {
     "base_uri": "https://localhost:8080/",
     "height": 69
    },
    "id": "gVCFGe4zPD91",
    "outputId": "1d3ae01e-e141-480e-f955-f194e014f47f"
   },
   "outputs": [
    {
     "data": {
      "application/vnd.google.colaboratory.intrinsic+json": {
       "type": "string"
      },
      "text/plain": [
       "'              precision    recall  f1-score   support\\n\\n         0.0       0.68      0.85      0.75       104\\n         1.0       0.69      0.45      0.55        77\\n\\n    accuracy                           0.68       181\\n   macro avg       0.68      0.65      0.65       181\\nweighted avg       0.68      0.68      0.66       181\\n'"
      ]
     },
     "execution_count": 34,
     "metadata": {},
     "output_type": "execute_result"
    }
   ],
   "source": [
    "# classification report\n",
    "classification_test = classification_report(test_data[\"test_pred\"], test_data[\"naffairs\"])\n",
    "classification_test"
   ]
  },
  {
   "cell_type": "code",
   "execution_count": null,
   "metadata": {
    "id": "qLpUu5x0PEAg"
   },
   "outputs": [],
   "source": [
    "#ROC CURVE AND AUC\n",
    "fpr, tpr, threshold = metrics.roc_curve(test_data[\"naffairs\"], test_pred)"
   ]
  },
  {
   "cell_type": "code",
   "execution_count": null,
   "metadata": {
    "colab": {
     "base_uri": "https://localhost:8080/",
     "height": 296
    },
    "id": "KWIVRYD8PEJH",
    "outputId": "4f35e2f0-bc2c-4e6b-aaa1-c85f1b2cd47b"
   },
   "outputs": [
    {
     "data": {
      "text/plain": [
       "Text(0, 0.5, 'True positive rate')"
      ]
     },
     "execution_count": 36,
     "metadata": {},
     "output_type": "execute_result"
    },
    {
     "data": {
      "image/png": "[encoded data removed]",
      "text/plain": [
       "<Figure size 432x288 with 1 Axes>"
      ]
     },
     "metadata": {
      "needs_background": "light"
     },
     "output_type": "display_data"
    }
   ],
   "source": [
    "#PLOT OF ROC\n",
    "plt.plot(fpr, tpr);plt.xlabel(\"False positive rate\");plt.ylabel(\"True positive rate\")"
   ]
  },
  {
   "cell_type": "code",
   "execution_count": null,
   "metadata": {
    "colab": {
     "base_uri": "https://localhost:8080/"
    },
    "id": "SYfxLza-PEMw",
    "outputId": "3b49db3a-58bc-43fd-9bd3-ec4697a4fbe1"
   },
   "outputs": [
    {
     "data": {
      "text/plain": [
       "0.7162141779788838"
      ]
     },
     "execution_count": 37,
     "metadata": {},
     "output_type": "execute_result"
    }
   ],
   "source": [
    "roc_auc_test = metrics.auc(fpr, tpr)\n",
    "roc_auc_test"
   ]
  },
  {
   "cell_type": "code",
   "execution_count": null,
   "metadata": {
    "id": "2etxHQiiPETQ"
   },
   "outputs": [],
   "source": [
    "# prediction on train data\n",
    "train_pred = model.predict(train_data.iloc[ :, 1: ])"
   ]
  },
  {
   "cell_type": "code",
   "execution_count": null,
   "metadata": {
    "colab": {
     "base_uri": "https://localhost:8080/"
    },
    "id": "AwRe3uuyPEak",
    "outputId": "a656d9b2-0a24-4be5-86c5-3375dac681b2"
   },
   "outputs": [
    {
     "name": "stderr",
     "output_type": "stream",
     "text": [
      "/usr/local/lib/python3.7/dist-packages/ipykernel_launcher.py:3: SettingWithCopyWarning: \n",
      "A value is trying to be set on a copy of a slice from a DataFrame.\n",
      "Try using .loc[row_indexer,col_indexer] = value instead\n",
      "\n",
      "See the caveats in the documentation: https://pandas.pydata.org/pandas-docs/stable/user_guide/indexing.html#returning-a-view-versus-a-copy\n",
      "  This is separate from the ipykernel package so we can avoid doing imports until\n"
     ]
    }
   ],
   "source": [
    "# Creating new column \n",
    "# filling all the cells with zeroes\n",
    "train_data[\"train_pred\"] = np.zeros(420)"
   ]
  },
  {
   "cell_type": "code",
   "execution_count": null,
   "metadata": {
    "colab": {
     "base_uri": "https://localhost:8080/"
    },
    "id": "5tuLFeuAPEgM",
    "outputId": "952883e4-46f0-4b34-e463-6edd30d370cb"
   },
   "outputs": [
    {
     "name": "stderr",
     "output_type": "stream",
     "text": [
      "/usr/local/lib/python3.7/dist-packages/pandas/core/indexing.py:1763: SettingWithCopyWarning: \n",
      "A value is trying to be set on a copy of a slice from a DataFrame.\n",
      "Try using .loc[row_indexer,col_indexer] = value instead\n",
      "\n",
      "See the caveats in the documentation: https://pandas.pydata.org/pandas-docs/stable/user_guide/indexing.html#returning-a-view-versus-a-copy\n",
      "  isetter(loc, value)\n"
     ]
    }
   ],
   "source": [
    "# taking threshold value and above the prob value will be treated as correct value \n",
    "train_data.loc[train_pred > optimal_threshold, \"train_pred\"] = 1"
   ]
  },
  {
   "cell_type": "code",
   "execution_count": null,
   "metadata": {
    "colab": {
     "base_uri": "https://localhost:8080/",
     "height": 142
    },
    "id": "gr4Az2b3PEl6",
    "outputId": "28341162-0c18-449c-dc7d-0e127f14f314"
   },
   "outputs": [
    {
     "data": {
      "text/html": [
       "<div>\n",
       "<style scoped>\n",
       "    .dataframe tbody tr th:only-of-type {\n",
       "        vertical-align: middle;\n",
       "    }\n",
       "\n",
       "    .dataframe tbody tr th {\n",
       "        vertical-align: top;\n",
       "    }\n",
       "\n",
       "    .dataframe thead th {\n",
       "        text-align: right;\n",
       "    }\n",
       "</style>\n",
       "<table border=\"1\" class=\"dataframe\">\n",
       "  <thead>\n",
       "    <tr style=\"text-align: right;\">\n",
       "      <th>naffairs</th>\n",
       "      <th>0</th>\n",
       "      <th>1</th>\n",
       "    </tr>\n",
       "    <tr>\n",
       "      <th>train_pred</th>\n",
       "      <th></th>\n",
       "      <th></th>\n",
       "    </tr>\n",
       "  </thead>\n",
       "  <tbody>\n",
       "    <tr>\n",
       "      <th>0.0</th>\n",
       "      <td>229</td>\n",
       "      <td>35</td>\n",
       "    </tr>\n",
       "    <tr>\n",
       "      <th>1.0</th>\n",
       "      <td>92</td>\n",
       "      <td>64</td>\n",
       "    </tr>\n",
       "  </tbody>\n",
       "</table>\n",
       "</div>"
      ],
      "text/plain": [
       "naffairs      0   1\n",
       "train_pred         \n",
       "0.0         229  35\n",
       "1.0          92  64"
      ]
     },
     "execution_count": 42,
     "metadata": {},
     "output_type": "execute_result"
    }
   ],
   "source": [
    "# confusion matrix\n",
    "confusion_matrx = pd.crosstab(train_data.train_pred, train_data['naffairs'])\n",
    "confusion_matrx\n",
    "\n"
   ]
  },
  {
   "cell_type": "code",
   "execution_count": null,
   "metadata": {
    "colab": {
     "base_uri": "https://localhost:8080/"
    },
    "id": "uhRPcd0EP_Ay",
    "outputId": "876b80ab-9fa2-40f4-c196-930193916af6"
   },
   "outputs": [
    {
     "name": "stdout",
     "output_type": "stream",
     "text": [
      "0.6976190476190476\n"
     ]
    }
   ],
   "source": [
    "accuracy_train = (229 + 64)/(420)\n",
    "print(accuracy_train)"
   ]
  },
  {
   "cell_type": "markdown",
   "metadata": {
    "id": "ux1FYZLtwckS"
   },
   "source": [
    "**Accuracy = 69.76%**"
   ]
  }
 ],
 "metadata": {
  "colab": {
   "name": "Affaires_Logistics.ipynb",
   "provenance": []
  },
  "kernelspec": {
   "display_name": "Python 3 (ipykernel)",
   "language": "python",
   "name": "python3"
  },
  "language_info": {
   "codemirror_mode": {
    "name": "ipython",
    "version": 3
   },
   "file_extension": ".py",
   "mimetype": "text/x-python",
   "name": "python",
   "nbconvert_exporter": "python",
   "pygments_lexer": "ipython3",
   "version": "3.9.7"
  }
 },
 "nbformat": 4,
 "nbformat_minor": 1
}
