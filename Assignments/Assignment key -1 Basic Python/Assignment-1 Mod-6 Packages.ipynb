{
 "cells": [
  {
   "cell_type": "markdown",
   "metadata": {},
   "source": [
    "# Module6: Packages"
   ]
  },
  {
   "cell_type": "markdown",
   "metadata": {},
   "source": [
    "#### 1. For the dataset “Indian_cities”, \n",
    "    #### a) Find out top 10 states with female-male sex ratio\n",
    "    #### b) Find out top 10 cities with total number of graduates\n",
    "    #### c) Find out top 10 cities and their locations with respect to total effective_literacy_rate\n"
   ]
  },
  {
   "cell_type": "code",
   "execution_count": null,
   "metadata": {},
   "outputs": [],
   "source": [
    "# Import the dataset\n",
    "\n",
    "import pandas as pd\n",
    "\n",
    "indian_cities = pd.read_csv(\"Indian_cities.csv\")\n",
    "indian_cities.head()"
   ]
  },
  {
   "cell_type": "code",
   "execution_count": null,
   "metadata": {},
   "outputs": [],
   "source": [
    "# a) Find out top 10 states with female-male sex ratio\n",
    "gp_s = indian_cities.groupby('state_name').sum()   # Group the data based on state\n",
    "gp_s       "
   ]
  },
  {
   "cell_type": "code",
   "execution_count": null,
   "metadata": {},
   "outputs": [],
   "source": [
    "st = gp_s[['sex_ratio']].sort_values('sex_ratio', ascending = False) # After grouping the states we check by sorting the values of the column sex ratio in descending order.\n",
    "st.head(10)  # print the top 10 states"
   ]
  },
  {
   "cell_type": "code",
   "execution_count": null,
   "metadata": {},
   "outputs": [],
   "source": [
    "# b) Find out top 10 cities with total number of graduates\n",
    "\n",
    "gp_c = indian_cities.groupby('name_of_city').sum()\n",
    "gp_c.head()"
   ]
  },
  {
   "cell_type": "code",
   "execution_count": null,
   "metadata": {},
   "outputs": [],
   "source": [
    "city = gp_c[['total_graduates']].sort_values('total_graduates', ascending = False)\n",
    "city.head(10)"
   ]
  },
  {
   "cell_type": "code",
   "execution_count": null,
   "metadata": {},
   "outputs": [],
   "source": [
    "# c) Find out top 10 cities and their locations with respect to total effective_literacy_rate\n",
    "\n",
    "# Using nlargest function we get the top 10 records and then specify the column we want to print.\n",
    "indian_cities.nlargest(10, ['effective_literacy_rate_total'])[['name_of_city','location']]"
   ]
  },
  {
   "cell_type": "markdown",
   "metadata": {},
   "source": [
    "#### 2.\tFor the dataset “Indian_cities\", \n",
    "    #### a) Construct histogram on literates_total and comment about the inferences\n",
    "    #### b) Construct scatter plot between male graduates and female graduates"
   ]
  },
  {
   "cell_type": "code",
   "execution_count": null,
   "metadata": {},
   "outputs": [],
   "source": [
    "# a) Construct histogram on literates_total and comment about the inferences\n",
    "\n",
    "import matplotlib.pyplot as plt\n",
    "plt.hist(indian_cities.literates_total)\n",
    "plt.plot()\n",
    "\n",
    "# Inferences from histogram:\n",
    "#•\tThe data represented on the histogram is not symmetrical.\n",
    "#•\tIt has a long positive tail. It has a positive skewness.\n",
    "#•\tMore than 90% of the data is confined in the range 56998 to 416998.\n",
    "#•\tOutliers are present in the dataset."
   ]
  },
  {
   "cell_type": "code",
   "execution_count": null,
   "metadata": {},
   "outputs": [],
   "source": [
    "# b) Construct scatter plot between male graduates and female graduates\n",
    "\n",
    "# Using matplotlib.pyplot library we create the scatter plot.\n",
    "# x= indian_cities.male_graduates\n",
    "# y = indian_cities.female_graduates\n",
    "plt.scatter(indian_cities.male_graduates, indian_cities.female_graduates, edgecolors = ('red'))\n",
    "plt.plot()"
   ]
  },
  {
   "cell_type": "markdown",
   "metadata": {},
   "source": [
    "#### 3.\tFor the dataset “Indian_cities”,\n",
    "    #### a) Construct Boxplot on total effective literacy rate and draw inferences\n",
    "    #### b) Find out the number of null values in each column of the dataset and delete them"
   ]
  },
  {
   "cell_type": "code",
   "execution_count": null,
   "metadata": {},
   "outputs": [],
   "source": [
    "# a) Construct Boxplot on total effective literacy rate and draw inferences\n",
    "\n",
    "import matplotlib.pyplot as plt # Import the library to create visualizations\n",
    "plt.boxplot(indian_cities.effective_literacy_rate_total)\n",
    "plt.plot()\n",
    "# Inferences from boxplot:\n",
    "#•\tThe data represented on the boxplot is not symmetrical.\n",
    "#•\tIt has negative skewness as the median of the data is close to the upper end of the boxplot.\n",
    "#•\tOutliers are present in the dataset beyond the lower whisker.\n",
    "#•\tThe median of the data is approximately 85.\n",
    "#•\tThe spread of the data is not much and majority of the data is confined between the range 80% to 90%."
   ]
  },
  {
   "cell_type": "code",
   "execution_count": null,
   "metadata": {},
   "outputs": [],
   "source": [
    "# b) Find out the number of null values in each column of the dataset and delete them\n",
    "\n",
    "import numpy as np\n",
    "indian_cities.isnull().sum() # There are no missing values in the dataset."
   ]
  },
  {
   "cell_type": "code",
   "execution_count": null,
   "metadata": {},
   "outputs": [],
   "source": [
    "indian_cities.describe() "
   ]
  },
  {
   "cell_type": "code",
   "execution_count": null,
   "metadata": {},
   "outputs": [],
   "source": [
    "indian_cities.dropna(inplace = True) # Drop the na values"
   ]
  },
  {
   "cell_type": "code",
   "execution_count": null,
   "metadata": {},
   "outputs": [],
   "source": [
    "indian_cities.head()"
   ]
  }
 ],
 "metadata": {
  "kernelspec": {
   "display_name": "Python 3",
   "language": "python",
   "name": "python3"
  },
  "language_info": {
   "codemirror_mode": {
    "name": "ipython",
    "version": 3
   },
   "file_extension": ".py",
   "mimetype": "text/x-python",
   "name": "python",
   "nbconvert_exporter": "python",
   "pygments_lexer": "ipython3",
   "version": "3.8.8"
  }
 },
 "nbformat": 4,
 "nbformat_minor": 2
}
